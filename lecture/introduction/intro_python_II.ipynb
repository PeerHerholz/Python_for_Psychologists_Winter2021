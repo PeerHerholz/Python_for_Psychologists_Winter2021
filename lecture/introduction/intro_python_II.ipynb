{
 "cells": [
  {
   "cell_type": "markdown",
   "metadata": {},
   "source": [
    "# Introduction VI - Introduction to Python II\n",
    "\n",
    "[Peer Herholz (he/him)](https://peerherholz.github.io/)  \n",
    "Habilitation candidate  - [Fiebach Lab](http://www.fiebachlab.org/), [Neurocognitive Psychology](https://www.psychologie.uni-frankfurt.de/49868684/Abteilungen) at [Goethe-University Frankfurt](https://www.goethe-university-frankfurt.de/en?locale=en)    \n",
    "Research affiliate - [NeuroDataScience lab](https://neurodatascience.github.io/) at [MNI](https://www.mcgill.ca/neuro/)/[McGill](https://www.mcgill.ca/)  \n",
    "Member - [BIDS](https://bids-specification.readthedocs.io/en/stable/), [ReproNim](https://www.repronim.org/), [Brainhack](https://brainhack.org/), [Neuromod](https://www.cneuromod.ca/), [OHBM SEA-SIG](https://ohbm-environment.org/), [UNIQUE](https://sites.google.com/view/unique-neuro-ai)  \n",
    "\n",
    "<img align=\"left\" src=\"https://raw.githubusercontent.com/G0RELLA/gorella_mwn/master/lecture/static/Twitter%20social%20icons%20-%20circle%20-%20blue.png\" alt=\"logo\" title=\"Twitter\" width=\"32\" height=\"20\" /> <img align=\"left\" src=\"https://raw.githubusercontent.com/G0RELLA/gorella_mwn/master/lecture/static/GitHub-Mark-120px-plus.png\" alt=\"logo\" title=\"Github\" width=\"30\" height=\"20\" />   &nbsp;&nbsp;@peerherholz \n",
    "\n"
   ]
  },
  {
   "cell_type": "markdown",
   "metadata": {
    "slideshow": {
     "slide_type": "slide"
    }
   },
   "source": [
    "## Before we get started ...\n",
    "<br>\n",
    "\n",
    "- most of what you’ll see within this lecture was prepared by Ross Markello, Michael Notter and Peer Herholz and further adapted for this course by Peer Herholz \n",
    "- based on Tal Yarkoni's [\"Introduction to Python\" lecture at Neurohackademy 2019](https://neurohackademy.org/course/introduction-to-python-2/)\n",
    "- based on [IPython notebooks from J. R. Johansson](http://github.com/jrjohansson/scientific-python-lectures)\n",
    "- based on http://www.stavros.io/tutorials/python/ & http://www.swaroopch.com/notes/python\n",
    "- based on https://github.com/oesteban/biss2016 &  https://github.com/jvns/pandas-cookbook\n"
   ]
  },
  {
   "cell_type": "markdown",
   "metadata": {
    "slideshow": {
     "slide_type": "slide"
    }
   },
   "source": [
    "## Objectives 📍\n",
    "\n",
    "* learn basic and efficient usage of the python programming language\n",
    "    * building blocks of & operations in python \n",
    "    * `operators` & `comparisons`\n",
    "    * `strings`, `lists`, `tuples` & `dictionaries` "
   ]
  },
  {
   "cell_type": "markdown",
   "metadata": {
    "slideshow": {
     "slide_type": "subslide"
    }
   },
   "source": [
    "What we will do in this section of the course is a _short_ introduction to `Python` to help beginners to get familiar with this `programming language`.\n",
    "\n",
    "It is divided into the following chapters:\n",
    "\n",
    "- [Module](#Module)\n",
    "- [Help and Descriptions](#Help-and-Descriptions)\n",
    "- [Variables and types](#Variables-and-types)\n",
    "    - [Symbol names](#Symbol-names)\n",
    "    - [Assignment](#Assignment)\n",
    "    - [Fundamental types](#Fundamental-types)\n",
    "- [Operators and comparisons](#Operators-and-comparisons)\n",
    "    - [Shortcut math operation and assignment](#Shortcut-math-operation-and-assignment)\n",
    "- [Strings, List and dictionaries](#Strings,-List-and-dictionaries)\n",
    "    - [Strings](#Strings)\n",
    "    - [List](#List)\n",
    "    - [Tuples](#Tuples)\n",
    "    - [Dictionaries](#Dictionaries)\n",
    "- [Indentation](#Indentation)\n",
    "- [Control Flow](#Control-Flow)\n",
    "    - [Conditional statements: `if`, `elif`, `else`](#Conditional-statements:-if,-elif,-else)\n",
    "- [Loops](#Loops)\n",
    "    - [`for` loops](#for-loops)\n",
    "    - [`break`, `continue` and `pass`](#break,-continue-and-pass)\n",
    "- [Functions](#Functions)\n",
    "    - [Default argument and keyword arguments](#Default-argument-and-keyword-arguments)\n",
    "    - [`*args` and `*kwargs` parameters](#*args-and-*kwargs-parameters)\n",
    "    - [Unnamed functions: `lambda` function](#Unnamed-functions:-lambda-function)\n",
    "- [Classes](#Classes)\n",
    "- [Modules](#Modules)\n",
    "- [Exceptions](#Exceptions)"
   ]
  },
  {
   "cell_type": "markdown",
   "metadata": {
    "slideshow": {
     "slide_type": "subslide"
    }
   },
   "source": [
    "Here's what we will focus on in the first block:\n",
    "\n",
    "- [Module](#Module)\n",
    "- [Help and Descriptions](#Help-and-Descriptions)\n",
    "- [Variables and types](#Variables-and-types)\n",
    "    - [Symbol names](#Symbol-names)\n",
    "    - [Assignment](#Assignment)\n",
    "    - [Fundamental types](#Fundamental-types)\n",
    "- [Operators and comparisons](#Operators-and-comparisons)\n",
    "    - [Shortcut math operation and assignment](#Shortcut-math-operation-and-assignment)\n",
    "- [Strings, List and dictionaries](#Strings,-List-and-dictionaries)\n",
    "    - [Strings](#Strings)\n",
    "    - [List](#List)\n",
    "    - [Tuples](#Tuples)\n",
    "    - [Dictionaries](#Dictionaries)"
   ]
  },
  {
   "cell_type": "markdown",
   "metadata": {
    "slideshow": {
     "slide_type": "slide"
    }
   },
   "source": [
    "## Recap of the last session\n",
    "\n",
    "Before we dive into new endeavors, it might be important to briefly recap the things we've talked about so far. Specifically, we will do this to evaluate if everyone's roughly on the same page. Thus, if some of the aspects within the recap are either new or fuzzy to you, please have a quick look at the respective part of the [last session](https://peerherholz.github.io/Python_for_Psychologists_Winter2021/introduction/intro_python_I.html) again and as usual: ask questions wherever something is not clear."
   ]
  },
  {
   "cell_type": "markdown",
   "metadata": {
    "slideshow": {
     "slide_type": "subslide"
    }
   },
   "source": [
    "## What is Python?\n",
    "\n",
    "* Python is a programming language\n",
    "* Specifically, it's a **widely used/very flexible**, **high-level**, **general-purpose**, **dynamic** programming language\n",
    "* That's a mouthful! Let's explore each of these points in more detail..."
   ]
  },
  {
   "cell_type": "markdown",
   "metadata": {
    "slideshow": {
     "slide_type": "subslide"
    }
   },
   "source": [
    "## Module\n",
    "\n",
    "Most of the functionality in Python is provided by *modules*. To use a module in a Python program it first has to be imported. A module can be imported using the `import` statement. \n",
    "\n",
    "\n",
    "<center><img src=\"https://raw.githubusercontent.com/PeerHerholz/Python_for_Psychologists_Winter2021/master/lecture/static/python_import.png\"></center>"
   ]
  },
  {
   "cell_type": "markdown",
   "metadata": {
    "slideshow": {
     "slide_type": "subslide"
    }
   },
   "source": [
    "Assuming you want to import the entire `pandas` module to do some `data exploration`, `wrangling` and `statistics`, how would you do that?"
   ]
  },
  {
   "cell_type": "code",
   "execution_count": 1,
   "metadata": {
    "solution2": "hidden",
    "solution2_first": true
   },
   "outputs": [],
   "source": [
    "# Pleae write your solution in this cell"
   ]
  },
  {
   "cell_type": "code",
   "execution_count": 2,
   "metadata": {
    "solution2": "hidden"
   },
   "outputs": [],
   "source": [
    "import pandas"
   ]
  },
  {
   "cell_type": "markdown",
   "metadata": {},
   "source": [
    "As this might be a bit hard to navigate, specifically for `finding`/`referencing` `functions`. Thus, it might be a good idea to provide a respective `access name`. For example, could you show how you would provide the `pandas` module the `access name` `pd`?"
   ]
  },
  {
   "cell_type": "code",
   "execution_count": 3,
   "metadata": {
    "solution2": "hidden",
    "solution2_first": true
   },
   "outputs": [],
   "source": [
    "# Please write your solution in this cell"
   ]
  },
  {
   "cell_type": "markdown",
   "metadata": {},
   "source": [
    "During your analyzes you recognize that some of the analyses you want to run require functions from the `statistics` `module` `pingouin`. Is there a way to only import the `functions` you want from this `module`, e.g. the `wilcoxon` test from within `pingouin.nonparametric`?"
   ]
  },
  {
   "cell_type": "code",
   "execution_count": 4,
   "metadata": {
    "solution2": "hidden",
    "solution2_first": true
   },
   "outputs": [],
   "source": [
    "# Please write your solution in this cell"
   ]
  },
  {
   "cell_type": "markdown",
   "metadata": {
    "slideshow": {
     "slide_type": "subslide"
    }
   },
   "source": [
    "## Variables and data types\n",
    "* in programming `variables` are things that store `values`\n",
    "* in `Python`, we declare a `variable` by **assigning** it a `value` with the `=` sign\n",
    "    * `name = value`\n",
    "    * code `variables` **!=** math variables\n",
    "        * in mathematics `=` refers to equality (statement of truth), e.g. `y = 10x + 2`\n",
    "        * in coding `=` refers to assignments, e.g. `x = x + 1`\n",
    "    * Variables are pointers, not data stores!\n",
    "    \n",
    "<center><img src=\"https://raw.githubusercontent.com/PeerHerholz/Python_for_Psychologists_Winter2021/master/lecture/static/python_data_types.png\"></center>"
   ]
  },
  {
   "cell_type": "markdown",
   "metadata": {
    "slideshow": {
     "slide_type": "subslide"
    }
   },
   "source": [
    "* `Python` supports a variety of `data types` and `structures`:\n",
    "    * `booleans`\n",
    "    * `numbers` (`ints`, `floats`, etc.)\n",
    "    * `strings`\n",
    "    * `lists`\n",
    "    * `dictionaries`\n",
    "    * many others!\n",
    "* We don't specify a variable's type at assignment"
   ]
  },
  {
   "cell_type": "markdown",
   "metadata": {
    "slideshow": {
     "slide_type": "subslide"
    }
   },
   "source": [
    "### Assignment\n",
    "\n",
    "(Not your homework assignment but the operator in `python`.)\n",
    "\n",
    "The assignment operator in `Python` is `=`. `Python` is a `dynamically typed language`, so we do not need to specify the type of a `variable` when we create one.\n",
    "\n",
    "`Assigning` a `value` to a new `variable` _creates_ the `variable`:"
   ]
  },
  {
   "cell_type": "markdown",
   "metadata": {
    "slideshow": {
     "slide_type": "subslide"
    }
   },
   "source": [
    "Within your analyzes you need to create a `variable` called `n_students` and assign it the `value` `21`, how would that work?"
   ]
  },
  {
   "cell_type": "code",
   "execution_count": 5,
   "metadata": {
    "solution2": "hidden",
    "solution2_first": true
   },
   "outputs": [],
   "source": [
    "# Please write your solution in this cell"
   ]
  },
  {
   "cell_type": "code",
   "execution_count": 6,
   "metadata": {
    "solution2": "hidden"
   },
   "outputs": [],
   "source": [
    "n_students = 21"
   ]
  },
  {
   "cell_type": "markdown",
   "metadata": {
    "slideshow": {
     "slide_type": "subslide"
    }
   },
   "source": [
    "Quickly after you realize that the value should actually be `20`. What options do you have to change the `value` of this `variable`?"
   ]
  },
  {
   "cell_type": "code",
   "execution_count": 7,
   "metadata": {
    "solution2": "hidden",
    "solution2_first": true
   },
   "outputs": [],
   "source": [
    "# Please write your solution in this cell"
   ]
  },
  {
   "cell_type": "code",
   "execution_count": 8,
   "metadata": {
    "solution2": "hidden"
   },
   "outputs": [],
   "source": [
    "n_students = 20\n",
    "n_students = n_students - 1"
   ]
  },
  {
   "cell_type": "markdown",
   "metadata": {
    "slideshow": {
     "slide_type": "subslide"
    }
   },
   "source": [
    "During the analyzes you noticed that the `data type` of `n_students` changed. How can you find out the `data type`? "
   ]
  },
  {
   "cell_type": "code",
   "execution_count": 9,
   "metadata": {
    "solution2": "hidden",
    "solution2_first": true
   },
   "outputs": [],
   "source": [
    "# Please write your solution in this cell"
   ]
  },
  {
   "cell_type": "code",
   "execution_count": 10,
   "metadata": {
    "solution2": "hidden"
   },
   "outputs": [
    {
     "data": {
      "text/plain": [
       "int"
      ]
     },
     "execution_count": 10,
     "metadata": {},
     "output_type": "execute_result"
    }
   ],
   "source": [
    "type(n_students)"
   ]
  },
  {
   "cell_type": "markdown",
   "metadata": {
    "slideshow": {
     "slide_type": "subslide"
    }
   },
   "source": [
    "Is there a way to change the `data type` of `n_students` to something else, e.g. `float`?"
   ]
  },
  {
   "cell_type": "code",
   "execution_count": 11,
   "metadata": {
    "solution2": "hidden",
    "solution2_first": true
   },
   "outputs": [],
   "source": [
    "# Please write your solution in this cell"
   ]
  },
  {
   "cell_type": "code",
   "execution_count": 12,
   "metadata": {
    "solution2": "hidden"
   },
   "outputs": [
    {
     "data": {
      "text/plain": [
       "19.0"
      ]
     },
     "execution_count": 12,
     "metadata": {},
     "output_type": "execute_result"
    }
   ],
   "source": [
    "float(n_students)"
   ]
  },
  {
   "cell_type": "markdown",
   "metadata": {
    "slideshow": {
     "slide_type": "subslide"
    }
   },
   "source": [
    "Along the way you want to create another `variable`, this time called `acquisition_time` and the `value` `December`. How would we do that and what `data type` would that be? "
   ]
  },
  {
   "cell_type": "code",
   "execution_count": 13,
   "metadata": {
    "solution2": "hidden"
   },
   "outputs": [],
   "source": [
    "from pingouin.nonparametric import wilcoxon"
   ]
  },
  {
   "cell_type": "code",
   "execution_count": 14,
   "metadata": {
    "solution2": "hidden"
   },
   "outputs": [],
   "source": [
    "import pandas as pd"
   ]
  },
  {
   "cell_type": "code",
   "execution_count": 15,
   "metadata": {
    "solution2": "hidden",
    "solution2_first": true
   },
   "outputs": [],
   "source": [
    "# Please write your solution here"
   ]
  },
  {
   "cell_type": "code",
   "execution_count": 16,
   "metadata": {
    "solution2": "hidden"
   },
   "outputs": [
    {
     "data": {
      "text/plain": [
       "str"
      ]
     },
     "execution_count": 16,
     "metadata": {},
     "output_type": "execute_result"
    }
   ],
   "source": [
    "acquisition_time = \"December\"\n",
    "type(acquisition_time)"
   ]
  },
  {
   "cell_type": "markdown",
   "metadata": {
    "slideshow": {
     "slide_type": "subslide"
    }
   },
   "source": [
    "As a final step you want to create two `variables` that indicate that the outcome of a statistical test is either `significant` or not. How would you do that for the following example: for `outcome_anova` it's _true_ that the result was `significant` and for `outcome_ancova` it's _false_ that the result was `significant`?   "
   ]
  },
  {
   "cell_type": "code",
   "execution_count": 17,
   "metadata": {
    "solution2": "hidden",
    "solution2_first": true
   },
   "outputs": [],
   "source": [
    "# Please write your solution in this cell "
   ]
  },
  {
   "cell_type": "code",
   "execution_count": 18,
   "metadata": {
    "solution2": "hidden"
   },
   "outputs": [],
   "source": [
    "outcome_anova = True\n",
    "outcome_ancova = False"
   ]
  },
  {
   "cell_type": "markdown",
   "metadata": {
    "slideshow": {
     "slide_type": "subslide"
    }
   },
   "source": [
    "Alright, thanks for taking the time to go through this `recap`. Again: if you could solve/answer all questions, you should have the information/knowledge needed for this session. "
   ]
  },
  {
   "cell_type": "markdown",
   "metadata": {
    "slideshow": {
     "slide_type": "slide"
    }
   },
   "source": [
    "Here's what we will focus on in the first block:\n",
    "\n",
    "- [Module](#Module)\n",
    "- [Help and Descriptions](#Help-and-Descriptions)\n",
    "- [Variables and types](#Variables-and-types)\n",
    "    - [Symbol names](#Symbol-names)\n",
    "    - [Assignment](#Assignment)\n",
    "    - [Fundamental types](#Fundamental-types)\n",
    "- [Operators and comparisons](#Operators-and-comparisons)\n",
    "    - [Shortcut math operation and assignment](#Shortcut-math-operation-and-assignment)\n",
    "- [Strings, List and dictionaries](#Strings,-List-and-dictionaries)\n",
    "    - [Strings](#Strings)\n",
    "    - [List](#List)\n",
    "    - [Tuples](#Tuples)\n",
    "    - [Dictionaries](#Dictionaries)"
   ]
  },
  {
   "cell_type": "code",
   "execution_count": 19,
   "metadata": {
    "solution2": "hidden"
   },
   "outputs": [
    {
     "ename": "SyntaxError",
     "evalue": "invalid syntax (1219956515.py, line 1)",
     "output_type": "error",
     "traceback": [
      "\u001b[0;36m  File \u001b[0;32m\"/var/folders/61/0lj9r7px3k52gv9yfyx6ky300000gn/T/ipykernel_24944/1219956515.py\"\u001b[0;36m, line \u001b[0;32m1\u001b[0m\n\u001b[0;31m    middle_earth.\u001b[0m\n\u001b[0m                 ^\u001b[0m\n\u001b[0;31mSyntaxError\u001b[0m\u001b[0;31m:\u001b[0m invalid syntax\n"
     ]
    }
   ],
   "source": [
    "middle_earth."
   ]
  },
  {
   "cell_type": "code",
   "execution_count": null,
   "metadata": {
    "solution2": "hidden"
   },
   "outputs": [],
   "source": [
    "n_elves + n_dwarfs"
   ]
  },
  {
   "cell_type": "code",
   "execution_count": null,
   "metadata": {
    "solution2": "hidden"
   },
   "outputs": [],
   "source": [
    "ring_bearer = 'Gollum'\n",
    "ring_bearer  \n",
    "ring_bearer = 'Bilbo'\n",
    "ring_bearer"
   ]
  },
  {
   "cell_type": "code",
   "execution_count": null,
   "metadata": {
    "solution2": "hidden"
   },
   "outputs": [],
   "source": [
    "n_elves = 3\n",
    "n_dwarfs = 7.0\n",
    "n_humans = \"nine\""
   ]
  },
  {
   "cell_type": "code",
   "execution_count": null,
   "metadata": {
    "solution2": "hidden"
   },
   "outputs": [],
   "source": [
    "fellowship_n_humans = 2.0\n",
    "fellowship_n_hobbits = 'four'\n",
    "fellowship_n_elves = 1"
   ]
  },
  {
   "cell_type": "markdown",
   "metadata": {
    "solution2": "hidden"
   },
   "source": [
    "1. `0`\n",
    "2. `bool`"
   ]
  },
  {
   "cell_type": "code",
   "execution_count": null,
   "metadata": {
    "solution2": "hidden"
   },
   "outputs": [],
   "source": [
    "fellowship_n_dwarfs = 1.0\n",
    "fellowship_n_wizards = '1.0'"
   ]
  },
  {
   "cell_type": "code",
   "execution_count": null,
   "metadata": {
    "solution2": "hidden"
   },
   "outputs": [],
   "source": [
    "int(fellowship_n_dwarfs)"
   ]
  },
  {
   "cell_type": "code",
   "execution_count": null,
   "metadata": {
    "solution2": "hidden"
   },
   "outputs": [],
   "source": [
    "str(fellowship_n_wizards)"
   ]
  },
  {
   "cell_type": "markdown",
   "metadata": {
    "slideshow": {
     "slide_type": "subslide"
    }
   },
   "source": [
    "## Operators and comparisons\n",
    "\n",
    "One of the most basic utilizations of `python` might be simple `arithmetic operations` and `comparisons`. `operators` and `comparisons` in `python` work as one would expect:\n",
    "\n",
    "* `Arithmetic operators` available in `python`: `+`, `-`, `*`, `/`, `**` power, `%` modulo\n",
    "* `comparisons` available in `python`: `<`, `>`, `>=` (greater or equal), `<=` (less or equal), `==` (equal), `!=` (not equal) and `is` (identical)\n",
    "\n",
    "Obviously, these `operators` and `comparisons` can be used within tremendously complex analyzes and actually build their basis.\n",
    "\n",
    "Lets check them out further via a few quick examples, starting with `operators`:"
   ]
  },
  {
   "cell_type": "code",
   "execution_count": 20,
   "metadata": {
    "slideshow": {
     "slide_type": "fragment"
    }
   },
   "outputs": [
    {
     "data": {
      "text/plain": [
       "[3, -1, 2, 0.5, 1, 1]"
      ]
     },
     "execution_count": 20,
     "metadata": {},
     "output_type": "execute_result"
    }
   ],
   "source": [
    "[1 + 2, \n",
    " 1 - 2,\n",
    " 1 * 2,\n",
    " 1 / 2,\n",
    " 1 ** 2,\n",
    " 1 % 2]"
   ]
  },
  {
   "cell_type": "markdown",
   "metadata": {
    "slideshow": {
     "slide_type": "subslide"
    }
   },
   "source": [
    "In `Python 2.7`, what kind of `division` (`/`) will be executed, _depends_ on the type of the numbers involved. If all numbers are `integers`, the `division` will be an `integer division`, otherwise, it will be a `float division`. In `Python 3` this has been changed and fractions aren't lost when `dividing` `integers` (for `integer` `division` you can use another operator, `//`). In `Python 3` the following two `operations` will give the same result (in `Python 2` the first one will be treated as an `integer division`). It's thus important to remember that the `data type` of  `division outcomes` will always be `float`. "
   ]
  },
  {
   "cell_type": "code",
   "execution_count": 21,
   "metadata": {
    "slideshow": {
     "slide_type": "fragment"
    }
   },
   "outputs": [
    {
     "name": "stdout",
     "output_type": "stream",
     "text": [
      "0.5\n",
      "0.5\n"
     ]
    }
   ],
   "source": [
    "print(1 / 2)\n",
    "print(1 / 2.0)"
   ]
  },
  {
   "cell_type": "markdown",
   "metadata": {
    "slideshow": {
     "slide_type": "subslide"
    }
   },
   "source": [
    "`Python` also respects `arithemic rules`, like the sequence of `+`/`-` and `*`/`/`.  "
   ]
  },
  {
   "cell_type": "code",
   "execution_count": 22,
   "metadata": {
    "slideshow": {
     "slide_type": "fragment"
    }
   },
   "outputs": [
    {
     "data": {
      "text/plain": [
       "1.5"
      ]
     },
     "execution_count": 22,
     "metadata": {},
     "output_type": "execute_result"
    }
   ],
   "source": [
    "1 + 2/4"
   ]
  },
  {
   "cell_type": "code",
   "execution_count": 23,
   "metadata": {
    "slideshow": {
     "slide_type": "fragment"
    }
   },
   "outputs": [
    {
     "data": {
      "text/plain": [
       "3.75"
      ]
     },
     "execution_count": 23,
     "metadata": {},
     "output_type": "execute_result"
    }
   ],
   "source": [
    "1 + 2 + 3/4"
   ]
  },
  {
   "cell_type": "markdown",
   "metadata": {
    "slideshow": {
     "slide_type": "subslide"
    }
   },
   "source": [
    "The same holds true for `()` and `operators`:"
   ]
  },
  {
   "cell_type": "code",
   "execution_count": 24,
   "metadata": {
    "slideshow": {
     "slide_type": "fragment"
    }
   },
   "outputs": [
    {
     "data": {
      "text/plain": [
       "0.75"
      ]
     },
     "execution_count": 24,
     "metadata": {},
     "output_type": "execute_result"
    }
   ],
   "source": [
    "(1 + 2)/4"
   ]
  },
  {
   "cell_type": "code",
   "execution_count": 25,
   "metadata": {
    "slideshow": {
     "slide_type": "fragment"
    }
   },
   "outputs": [
    {
     "data": {
      "text/plain": [
       "1.5"
      ]
     },
     "execution_count": 25,
     "metadata": {},
     "output_type": "execute_result"
    }
   ],
   "source": [
    "(1 + 2 + 3)/4"
   ]
  },
  {
   "cell_type": "markdown",
   "metadata": {
    "slideshow": {
     "slide_type": "subslide"
    }
   },
   "source": [
    "Thus, always watch out for how you define `arithmetic operations`!"
   ]
  },
  {
   "cell_type": "markdown",
   "metadata": {
    "slideshow": {
     "slide_type": "fragment"
    }
   },
   "source": [
    "Just as a reminder: the `power operator` in `python` is `**` and not `^`:"
   ]
  },
  {
   "cell_type": "code",
   "execution_count": 26,
   "metadata": {
    "slideshow": {
     "slide_type": "fragment"
    }
   },
   "outputs": [
    {
     "data": {
      "text/plain": [
       "4"
      ]
     },
     "execution_count": 26,
     "metadata": {},
     "output_type": "execute_result"
    }
   ],
   "source": [
    "2 ** 2"
   ]
  },
  {
   "cell_type": "markdown",
   "metadata": {
    "slideshow": {
     "slide_type": "subslide"
    }
   },
   "source": [
    "This `arithmetic operations` also show some \"handy\" properties in combination with `assignments`, specifically you can apply these `operations` and modify the `value` of a given `variable` \"in-place\". This means that you don't have to `assign` a given `variable` a new `value` via an additional line like so:"
   ]
  },
  {
   "cell_type": "code",
   "execution_count": 27,
   "metadata": {
    "slideshow": {
     "slide_type": "fragment"
    }
   },
   "outputs": [
    {
     "name": "stdout",
     "output_type": "stream",
     "text": [
      "4\n"
     ]
    }
   ],
   "source": [
    "a = 2\n",
    "a = a * 2\n",
    "print(a)"
   ]
  },
  {
   "cell_type": "markdown",
   "metadata": {
    "slideshow": {
     "slide_type": "subslide"
    }
   },
   "source": [
    "but you can `shortcut` the command `a = a * 2` to `a *= 2`. This also works with other `operators`: `+=`, `-=` and `/=`."
   ]
  },
  {
   "cell_type": "code",
   "execution_count": 28,
   "metadata": {
    "slideshow": {
     "slide_type": "fragment"
    }
   },
   "outputs": [
    {
     "name": "stdout",
     "output_type": "stream",
     "text": [
      "9\n"
     ]
    }
   ],
   "source": [
    "b = 3\n",
    "b *= 3\n",
    "print(b)"
   ]
  },
  {
   "cell_type": "markdown",
   "metadata": {
    "slideshow": {
     "slide_type": "subslide"
    }
   },
   "source": [
    "Interestingly, we meet `booleans` again. This time in the form of `operators`. So `booleans` can not only be referred to as a `data type` but also `operators`. Whereas the `data type` entails the `values` `True` and `False`, the `operators` are spelled out as the words `and`, `not`, `or`. They therefore allow us to evaluate if \n",
    "\n",
    "- something **`and`** something else is the case \n",
    "- something is **`not`** the case\n",
    "- something **`or`** something else is the case\n",
    "\n",
    "How about we check this on an example, i.e. the `significance` of our test results from the `recap`: "
   ]
  },
  {
   "cell_type": "code",
   "execution_count": 29,
   "metadata": {
    "slideshow": {
     "slide_type": "fragment"
    }
   },
   "outputs": [
    {
     "data": {
      "text/plain": [
       "True"
      ]
     },
     "execution_count": 29,
     "metadata": {},
     "output_type": "execute_result"
    }
   ],
   "source": [
    "outcome_anova "
   ]
  },
  {
   "cell_type": "code",
   "execution_count": 30,
   "metadata": {},
   "outputs": [
    {
     "data": {
      "text/plain": [
       "False"
      ]
     },
     "execution_count": 30,
     "metadata": {},
     "output_type": "execute_result"
    }
   ],
   "source": [
    "outcome_ancova"
   ]
  },
  {
   "cell_type": "code",
   "execution_count": 31,
   "metadata": {
    "slideshow": {
     "slide_type": "fragment"
    }
   },
   "outputs": [
    {
     "data": {
      "text/plain": [
       "False"
      ]
     },
     "execution_count": 31,
     "metadata": {},
     "output_type": "execute_result"
    }
   ],
   "source": [
    "outcome_anova and outcome_ancova"
   ]
  },
  {
   "cell_type": "code",
   "execution_count": 32,
   "metadata": {
    "slideshow": {
     "slide_type": "fragment"
    }
   },
   "outputs": [
    {
     "data": {
      "text/plain": [
       "True"
      ]
     },
     "execution_count": 32,
     "metadata": {},
     "output_type": "execute_result"
    }
   ],
   "source": [
    "not outcome_ancova"
   ]
  },
  {
   "cell_type": "code",
   "execution_count": 33,
   "metadata": {
    "slideshow": {
     "slide_type": "fragment"
    }
   },
   "outputs": [
    {
     "data": {
      "text/plain": [
       "True"
      ]
     },
     "execution_count": 33,
     "metadata": {},
     "output_type": "execute_result"
    }
   ],
   "source": [
    "outcome_anova or outcome_ancova"
   ]
  },
  {
   "cell_type": "markdown",
   "metadata": {
    "slideshow": {
     "slide_type": "subslide"
    }
   },
   "source": [
    "While the \"classic\" `operators` appear to be rather simple and the \"boolean\" `operators` rather abstract, a sufficient understanding of both is very important to efficiently utilize the `python` programming language. However, don't worry: we'll use them throughout the entire course going forward to gain further experience. "
   ]
  },
  {
   "cell_type": "markdown",
   "metadata": {
    "slideshow": {
     "slide_type": "subslide"
    }
   },
   "source": [
    "After spending a look at `operators`, it's time to check out `comparisons` in more detail. Again, most of them might seem familiar and work as you would expect. Here's the list again:\n",
    "\n",
    "* `Comparisons` in `python` `>`, `<`, `>=` (greater or equal), `<=` (less or equal), `==` (equal), `!=` (not equal) and `is` (identical)\n",
    "\n",
    "The first four are the \"classics\" and something you might remember from your `math classes` in high school. Nevertheless, it's worth to check how they exactly work in `python`. \n",
    "\n",
    "If we compare `numerical values`, we obtain `booleans` that indicate if the `comparisons` is `True` or `False`. Lets start with the \"classics\". "
   ]
  },
  {
   "cell_type": "code",
   "execution_count": 34,
   "metadata": {
    "slideshow": {
     "slide_type": "fragment"
    }
   },
   "outputs": [
    {
     "data": {
      "text/plain": [
       "(True, False)"
      ]
     },
     "execution_count": 34,
     "metadata": {},
     "output_type": "execute_result"
    }
   ],
   "source": [
    "2 > 1, 2 < 1"
   ]
  },
  {
   "cell_type": "code",
   "execution_count": 35,
   "metadata": {
    "slideshow": {
     "slide_type": "fragment"
    }
   },
   "outputs": [
    {
     "data": {
      "text/plain": [
       "(False, False)"
      ]
     },
     "execution_count": 35,
     "metadata": {},
     "output_type": "execute_result"
    }
   ],
   "source": [
    "2 > 2, 2 < 2"
   ]
  },
  {
   "cell_type": "code",
   "execution_count": 36,
   "metadata": {
    "slideshow": {
     "slide_type": "fragment"
    }
   },
   "outputs": [
    {
     "data": {
      "text/plain": [
       "(True, True)"
      ]
     },
     "execution_count": 36,
     "metadata": {},
     "output_type": "execute_result"
    }
   ],
   "source": [
    "2 >= 2, 2 <= 2"
   ]
  },
  {
   "cell_type": "markdown",
   "metadata": {
    "slideshow": {
     "slide_type": "subslide"
    }
   },
   "source": [
    "So far so good and no major surprises. Now lets have a look at those `comparisons` that might be less familiar. At first, `==`. You might think: \"What, a double `assignment`?\" but actually `==` is the `equal` `comparison` and thus `compares` two `variables`, `numbers`, etc., evaluating if they are `equal` to each other.    "
   ]
  },
  {
   "cell_type": "code",
   "execution_count": 37,
   "metadata": {
    "slideshow": {
     "slide_type": "fragment"
    }
   },
   "outputs": [
    {
     "data": {
      "text/plain": [
       "True"
      ]
     },
     "execution_count": 37,
     "metadata": {},
     "output_type": "execute_result"
    }
   ],
   "source": [
    "1 == 1"
   ]
  },
  {
   "cell_type": "code",
   "execution_count": 38,
   "metadata": {
    "slideshow": {
     "slide_type": "fragment"
    }
   },
   "outputs": [
    {
     "data": {
      "text/plain": [
       "False"
      ]
     },
     "execution_count": 38,
     "metadata": {},
     "output_type": "execute_result"
    }
   ],
   "source": [
    "outcome_anova == outcome_ancova"
   ]
  },
  {
   "cell_type": "code",
   "execution_count": 39,
   "metadata": {
    "slideshow": {
     "slide_type": "fragment"
    }
   },
   "outputs": [
    {
     "data": {
      "text/plain": [
       "False"
      ]
     },
     "execution_count": 39,
     "metadata": {},
     "output_type": "execute_result"
    }
   ],
   "source": [
    "'This course' == \"cool\""
   ]
  },
  {
   "cell_type": "code",
   "execution_count": 40,
   "metadata": {
    "slideshow": {
     "slide_type": "fragment"
    }
   },
   "outputs": [
    {
     "data": {
      "text/plain": [
       "False"
      ]
     },
     "execution_count": 40,
     "metadata": {},
     "output_type": "execute_result"
    }
   ],
   "source": [
    "1 == 1 == 2"
   ]
  },
  {
   "cell_type": "markdown",
   "metadata": {
    "slideshow": {
     "slide_type": "subslide"
    }
   },
   "source": [
    "One interesting thing to mention here is that `equal` `values` of different `data types`, i.e. `integers` and `floats`, are still evaluated as equal by `==`:"
   ]
  },
  {
   "cell_type": "code",
   "execution_count": 41,
   "metadata": {
    "slideshow": {
     "slide_type": "fragment"
    }
   },
   "outputs": [
    {
     "data": {
      "text/plain": [
       "True"
      ]
     },
     "execution_count": 41,
     "metadata": {},
     "output_type": "execute_result"
    }
   ],
   "source": [
    "1 == 1.0"
   ]
  },
  {
   "cell_type": "markdown",
   "metadata": {
    "slideshow": {
     "slide_type": "subslide"
    }
   },
   "source": [
    "Contrarily to evaluating if two or more things are `equal` via `==`, we can utilize `!=` to evaluate if two are more things are `not equal`. The behavior of these `comparison` concerning the `outcome` is however identical: we get `booleans`. "
   ]
  },
  {
   "cell_type": "code",
   "execution_count": 42,
   "metadata": {
    "slideshow": {
     "slide_type": "fragment"
    }
   },
   "outputs": [
    {
     "data": {
      "text/plain": [
       "True"
      ]
     },
     "execution_count": 42,
     "metadata": {},
     "output_type": "execute_result"
    }
   ],
   "source": [
    "2 != 3"
   ]
  },
  {
   "cell_type": "code",
   "execution_count": 43,
   "metadata": {
    "slideshow": {
     "slide_type": "fragment"
    }
   },
   "outputs": [
    {
     "data": {
      "text/plain": [
       "True"
      ]
     },
     "execution_count": 43,
     "metadata": {},
     "output_type": "execute_result"
    }
   ],
   "source": [
    "outcome_anova != outcome_ancova "
   ]
  },
  {
   "cell_type": "code",
   "execution_count": 44,
   "metadata": {
    "slideshow": {
     "slide_type": "fragment"
    }
   },
   "outputs": [
    {
     "data": {
      "text/plain": [
       "False"
      ]
     },
     "execution_count": 44,
     "metadata": {},
     "output_type": "execute_result"
    }
   ],
   "source": [
    "1 != 1 != 2"
   ]
  },
  {
   "cell_type": "markdown",
   "metadata": {
    "slideshow": {
     "slide_type": "subslide"
    }
   },
   "source": [
    "There's actually one very specific `comparison` that only works for one `data type`: `string comparison`. The `string comparison` is reflected by the word `in` and evaluates if a `string` **`is`** part of another `string`. For example, you can evaluate if a `word` or certain `string pattern` **`is`** part of another `string`. Two fantastic beings are going to help showcasing this! "
   ]
  },
  {
   "cell_type": "markdown",
   "metadata": {
    "slideshow": {
     "slide_type": "subslide"
    }
   },
   "source": [
    "Please welcome, the [Wombat](http://en.wikipedia.org/wiki/Wombat) & the [Capybara](http://en.wikipedia.org/wiki/Capybara).\n",
    "<center><img src=\"https://raw.githubusercontent.com/PeerHerholz/Python_for_Psychologists_Winter2021/master/lecture/static/wombat_capybara.png\" width=500></center>"
   ]
  },
  {
   "cell_type": "code",
   "execution_count": 45,
   "metadata": {
    "slideshow": {
     "slide_type": "fragment"
    }
   },
   "outputs": [
    {
     "data": {
      "text/plain": [
       "True"
      ]
     },
     "execution_count": 45,
     "metadata": {},
     "output_type": "execute_result"
    }
   ],
   "source": [
    "\"cool\" in \"Wombats are cool\""
   ]
  },
  {
   "cell_type": "code",
   "execution_count": 46,
   "metadata": {
    "slideshow": {
     "slide_type": "fragment"
    }
   },
   "outputs": [
    {
     "data": {
      "text/plain": [
       "True"
      ]
     },
     "execution_count": 46,
     "metadata": {},
     "output_type": "execute_result"
    }
   ],
   "source": [
    "\"ras ar\" in \"Wombats and capybaras are cool\""
   ]
  },
  {
   "cell_type": "markdown",
   "metadata": {
    "slideshow": {
     "slide_type": "subslide"
    }
   },
   "source": [
    "The `string comparison` can also be combined with the `boolean` operator to evaluate if a `string` or `string pattern` **`is not`** part of another `string`."
   ]
  },
  {
   "cell_type": "code",
   "execution_count": 47,
   "metadata": {
    "slideshow": {
     "slide_type": "fragment"
    }
   },
   "outputs": [
    {
     "data": {
      "text/plain": [
       "True"
      ]
     },
     "execution_count": 47,
     "metadata": {},
     "output_type": "execute_result"
    }
   ],
   "source": [
    "\"stupid\" not in \"Wombats and capybaras\""
   ]
  },
  {
   "cell_type": "markdown",
   "metadata": {
    "slideshow": {
     "slide_type": "subslide"
    }
   },
   "source": [
    "Before we finish the `operators` & `comparison` part, it's important to outline one important aspects that you've actually already seen here and there but was never mentioned/explained in detail: `operators` & `comparisons` work directly on `variables`, that is their `values`. For example, if we want to change the number of a `variable` called `n_lectures` from `5` to `6`, we can simply run: "
   ]
  },
  {
   "cell_type": "code",
   "execution_count": 48,
   "metadata": {
    "slideshow": {
     "slide_type": "fragment"
    }
   },
   "outputs": [],
   "source": [
    "n_lectures = 5\n",
    "n_lectures = n_lectures + 1 "
   ]
  },
  {
   "cell_type": "markdown",
   "metadata": {
    "slideshow": {
     "slide_type": "fragment"
    }
   },
   "source": [
    "or use the `shortcut` as seen before"
   ]
  },
  {
   "cell_type": "code",
   "execution_count": 49,
   "metadata": {},
   "outputs": [
    {
     "data": {
      "text/plain": [
       "6"
      ]
     },
     "execution_count": 49,
     "metadata": {},
     "output_type": "execute_result"
    }
   ],
   "source": [
    "n_lectures = 5\n",
    "n_lectures += 1\n",
    "n_lectures"
   ]
  },
  {
   "cell_type": "markdown",
   "metadata": {
    "slideshow": {
     "slide_type": "subslide"
    }
   },
   "source": [
    "This works with other `types` and `operators`/`comparisons` too, for example `strings` and `==`: "
   ]
  },
  {
   "cell_type": "code",
   "execution_count": 53,
   "metadata": {},
   "outputs": [
    {
     "data": {
      "text/plain": [
       "False"
      ]
     },
     "execution_count": 53,
     "metadata": {},
     "output_type": "execute_result"
    }
   ],
   "source": [
    "'Wombats' == 'Capybaras'"
   ]
  },
  {
   "cell_type": "markdown",
   "metadata": {
    "slideshow": {
     "slide_type": "subslide"
    }
   },
   "source": [
    "##### Exercise 4.1 \n",
    "\n",
    "You want to compute the `mean` of the following `reaction times`: `1.2`, `1.0`, `1.5`, `1.9`, `1.3`, `1.2`, `1.7`. Is there a way to achieve that using `operators`?  "
   ]
  },
  {
   "cell_type": "code",
   "execution_count": 51,
   "metadata": {
    "solution2": "hidden",
    "solution2_first": true
   },
   "outputs": [],
   "source": [
    "# Please write your solution here"
   ]
  },
  {
   "cell_type": "code",
   "execution_count": 54,
   "metadata": {
    "solution2": "hidden"
   },
   "outputs": [
    {
     "data": {
      "text/plain": [
       "1.4"
      ]
     },
     "execution_count": 54,
     "metadata": {},
     "output_type": "execute_result"
    }
   ],
   "source": [
    "(1.2 + 1.0 + 1.5 + 1.9 + 1.3 + 1.2 + 1.7)/7"
   ]
  },
  {
   "cell_type": "markdown",
   "metadata": {
    "solution2": "hidden"
   },
   "source": [
    "Spoiler: there are of course many existing `functions` for all sorts of equations and statistics so you don't have to write it yourself every time. For example, we could also compute the `mean` using `numpy`'s `mean` `function`:  "
   ]
  },
  {
   "cell_type": "code",
   "execution_count": null,
   "metadata": {
    "solution2": "hidden"
   },
   "outputs": [],
   "source": [
    "import numpy as np\n",
    "np.mean([1.2, 1.0, 1.5, 1.9, 1.3, 1.2, 1.7]) "
   ]
  },
  {
   "cell_type": "markdown",
   "metadata": {
    "slideshow": {
     "slide_type": "subslide"
    }
   },
   "source": [
    "##### Exercise 4.2\n",
    "\n",
    "Having computed the `mean`, you need to compare it to a reference `value`. The latter can be _possibly_ be found in a `string` that entails data from a previous analyses. If that's the case, the `string` should contain the words `\"mean reaction time\"`. Is there a way to evaluate this?\n",
    "\n",
    "The `string` would be: \"In contrast to the majority of the prior studies the mean reaction time of the here described analyses was `1.2`.\""
   ]
  },
  {
   "cell_type": "code",
   "execution_count": 52,
   "metadata": {
    "solution2": "hidden",
    "solution2_first": true
   },
   "outputs": [],
   "source": [
    "# Please write your solution here"
   ]
  },
  {
   "cell_type": "code",
   "execution_count": 55,
   "metadata": {
    "solution2": "hidden"
   },
   "outputs": [
    {
     "data": {
      "text/plain": [
       "True"
      ]
     },
     "execution_count": 55,
     "metadata": {},
     "output_type": "execute_result"
    }
   ],
   "source": [
    "reference = \"In contrast to the majority of the prior studies the mean reaction time of the here described analyses was `1.2`.\"\n",
    "\"mean reaction time\" in reference"
   ]
  },
  {
   "cell_type": "markdown",
   "metadata": {
    "slideshow": {
     "slide_type": "subslide"
    }
   },
   "source": [
    "###### Exercise 4.3 \n",
    "\n",
    "Having found the reference `value`, that is `1.2` we can compare it to our `mean`. Specifically, you want to know if the `mean` is `less or equal` than `1.2`. The outcome of the `comparison` should then be the `value` of a new `variable` called `mean_reference_comp`. "
   ]
  },
  {
   "cell_type": "code",
   "execution_count": null,
   "metadata": {
    "solution2": "hidden",
    "solution2_first": true
   },
   "outputs": [],
   "source": [
    "# Please write your solution here"
   ]
  },
  {
   "cell_type": "code",
   "execution_count": 56,
   "metadata": {
    "solution2": "hidden"
   },
   "outputs": [
    {
     "data": {
      "text/plain": [
       "False"
      ]
     },
     "execution_count": 56,
     "metadata": {},
     "output_type": "execute_result"
    }
   ],
   "source": [
    "mean = (1.2 + 1.0 + 1.5 + 1.9 + 1.3 + 1.2 + 1.7)/7\n",
    "mean_reference_comp = mean <= 1.2\n",
    "mean_reference_comp"
   ]
  },
  {
   "cell_type": "markdown",
   "metadata": {
    "slideshow": {
     "slide_type": "subslide"
    }
   },
   "source": [
    "**Fantastic work folks, really really great! Time for a quick party!**\n",
    "\n",
    "</br>\n",
    "\n",
    "<center><img src=\"https://media4.giphy.com/media/kyLYXonQYYfwYDIeZl/giphy.gif?cid=ecf05e47vl8lju7wj80ak9p5azuq5imkcbv64d2jple35roj&rid=giphy.gif&ct=g\" width=\"300\"></center>\n",
    "\n",
    "<center><a href=\"https://giphy.com/gifs/sesamestreet-sesame-street-50th-anniversary-kyLYXonQYYfwYDIeZl\">via GIPHY</a></center>"
   ]
  },
  {
   "cell_type": "markdown",
   "metadata": {
    "slideshow": {
     "slide_type": "subslide"
    }
   },
   "source": [
    "Having already checked out `modules`, `help & descriptions`, `variables and data types`, `operators and comparisons`, we will continue with the final section of the first block of our `python` introduction. More precisely, we will advance to new, more complex `data types` and `structures`: `strings`, `lists`, `tuples` and `dictionaries`.\n",
    "\n",
    "- [Module](#Module)\n",
    "- [Help and Descriptions](#Help-and-Descriptions)\n",
    "- [Variables and types](#Variables-and-types)\n",
    "    - [Symbol names](#Symbol-names)\n",
    "    - [Assignment](#Assignment)\n",
    "    - [Fundamental types](#Fundamental-types)\n",
    "- [Operators and comparisons](#Operators-and-comparisons)\n",
    "    - [Shortcut math operation and assignment](#Shortcut-math-operation-and-assignment)\n",
    "- [Strings, List and dictionaries](#Strings,-List-and-dictionaries)\n",
    "    - [Strings](#Strings)\n",
    "    - [List](#List)\n",
    "    - [Tuples](#Tuples)\n",
    "    - [Dictionaries](#Dictionaries)"
   ]
  },
  {
   "cell_type": "markdown",
   "metadata": {
    "slideshow": {
     "slide_type": "slide"
    }
   },
   "source": [
    "## Strings, List and dictionaries\n",
    "\n",
    "So far, we've explored `integers`, `float`, `strings` and `boolean` as `fundamental types`. However, there are a few more that are equally important within the `python` programing language and allow you to easily achieve complex behavoir and ease up your everyday programming life: `strings`, `lists`, `tuples` and `dictionaries`.\n",
    "\n",
    "</br>\n",
    "<center><img src=\"https://raw.githubusercontent.com/PeerHerholz/Python_for_Psychologists_Winter2021/master/lecture/static/python_data_types_2.png\"></center>"
   ]
  },
  {
   "cell_type": "markdown",
   "metadata": {
    "slideshow": {
     "slide_type": "subslide"
    }
   },
   "source": [
    "### Strings\n",
    "\n",
    "Wait, what? Why are we talking about strings again? Well, actually, `strings` are more than a \"just\" fundamental type. There are quite a not of things you can do with `strings` that we haven't talked about yet. However, first things first: `strings` contain text:\n"
   ]
  },
  {
   "cell_type": "code",
   "execution_count": 57,
   "metadata": {
    "slideshow": {
     "slide_type": "fragment"
    }
   },
   "outputs": [
    {
     "data": {
      "text/plain": [
       "'The wombat and the capybara are equally cute. However, while the wombat lives in Australia, the capybara can be found in south america.'"
      ]
     },
     "execution_count": 57,
     "metadata": {},
     "output_type": "execute_result"
    }
   ],
   "source": [
    "statement = \"The wombat and the capybara are equally cute. However, while the wombat lives in Australia, the capybara can be found in south america.\"\n",
    "statement"
   ]
  },
  {
   "cell_type": "code",
   "execution_count": 58,
   "metadata": {
    "slideshow": {
     "slide_type": "fragment"
    }
   },
   "outputs": [
    {
     "data": {
      "text/plain": [
       "str"
      ]
     },
     "execution_count": 58,
     "metadata": {},
     "output_type": "execute_result"
    }
   ],
   "source": [
    "type(statement)"
   ]
  },
  {
   "cell_type": "markdown",
   "metadata": {
    "slideshow": {
     "slide_type": "subslide"
    }
   },
   "source": [
    "So, what else can we do? For example, we can get the `length` of the `string` which reflects the number of `characters` in the `string`. The respective `len` function is one of the `python functions` that's always available to you, even without `importing` it. Notably, `len` can `operate` on various `data types` which we will explore later."
   ]
  },
  {
   "cell_type": "code",
   "execution_count": 59,
   "metadata": {
    "slideshow": {
     "slide_type": "-"
    }
   },
   "outputs": [
    {
     "data": {
      "text/plain": [
       "135"
      ]
     },
     "execution_count": 59,
     "metadata": {},
     "output_type": "execute_result"
    }
   ],
   "source": [
    "len(statement)"
   ]
  },
  {
   "cell_type": "markdown",
   "metadata": {
    "slideshow": {
     "slide_type": "subslide"
    }
   },
   "source": [
    "The `string` `data types` also allows us to `replace` parts of it, i.e. `substrings`, with a different `string`. The respective syntax is `string.replace(\"substring_to_replace\", \"replacement_string\")`, that is, `.replace` searches for `\"substring_to_replace\"` and `replaces` it with `\"replacement_string\"`. If we for example want to statement that `wombats` and `capybaras` are `awesome` instead of `cute`, we could do the following:"
   ]
  },
  {
   "cell_type": "code",
   "execution_count": 60,
   "metadata": {
    "slideshow": {
     "slide_type": "fragment"
    }
   },
   "outputs": [
    {
     "data": {
      "text/plain": [
       "'The wombat and the capybara are equally awesome. However, while the wombat lives in Australia, the capybara can be found in south america.'"
      ]
     },
     "execution_count": 60,
     "metadata": {},
     "output_type": "execute_result"
    }
   ],
   "source": [
    "statement.replace(\"cute\", \"awesome\")"
   ]
  },
  {
   "cell_type": "markdown",
   "metadata": {
    "slideshow": {
     "slide_type": "subslide"
    }
   },
   "source": [
    "Importantly, `strings` are not `replaced` in-place but require a new `variable assignment`."
   ]
  },
  {
   "cell_type": "code",
   "execution_count": 61,
   "metadata": {
    "slideshow": {
     "slide_type": "fragment"
    }
   },
   "outputs": [
    {
     "data": {
      "text/plain": [
       "'The wombat and the capybara are equally cute. However, while the wombat lives in Australia, the capybara can be found in south america.'"
      ]
     },
     "execution_count": 61,
     "metadata": {},
     "output_type": "execute_result"
    }
   ],
   "source": [
    "statement"
   ]
  },
  {
   "cell_type": "code",
   "execution_count": 62,
   "metadata": {
    "slideshow": {
     "slide_type": "fragment"
    }
   },
   "outputs": [
    {
     "data": {
      "text/plain": [
       "'The wombat and the capybara are equally awesome. However, while the wombat lives in Australia, the capybara can be found in south america.'"
      ]
     },
     "execution_count": 62,
     "metadata": {},
     "output_type": "execute_result"
    }
   ],
   "source": [
    "statement_2 = statement.replace(\"cute\", \"awesome\")\n",
    "statement_2"
   ]
  },
  {
   "cell_type": "markdown",
   "metadata": {
    "slideshow": {
     "slide_type": "subslide"
    }
   },
   "source": [
    "We can also `index` a `string` using `string[x]` to get the `character` at the specified `index`:"
   ]
  },
  {
   "cell_type": "code",
   "execution_count": 63,
   "metadata": {
    "slideshow": {
     "slide_type": "fragment"
    }
   },
   "outputs": [
    {
     "data": {
      "text/plain": [
       "'The wombat and the capybara are equally awesome. However, while the wombat lives in Australia, the capybara can be found in south america.'"
      ]
     },
     "execution_count": 63,
     "metadata": {},
     "output_type": "execute_result"
    }
   ],
   "source": [
    "statement_2"
   ]
  },
  {
   "cell_type": "code",
   "execution_count": 64,
   "metadata": {
    "slideshow": {
     "slide_type": "fragment"
    }
   },
   "outputs": [
    {
     "data": {
      "text/plain": [
       "'h'"
      ]
     },
     "execution_count": 64,
     "metadata": {},
     "output_type": "execute_result"
    }
   ],
   "source": [
    "statement_2[1]"
   ]
  },
  {
   "cell_type": "markdown",
   "metadata": {
    "slideshow": {
     "slide_type": "fragment"
    }
   },
   "source": [
    "Pump the breaks right there: why do we get `h` when we specify `1` as `index`? Shouldn't get this get us the `first index` and thus `T`? "
   ]
  },
  {
   "cell_type": "markdown",
   "metadata": {
    "slideshow": {
     "slide_type": "subslide"
    }
   },
   "source": [
    "<center><img src=\"https://media1.giphy.com/media/BXOEmFSzNkOObZhIA3/giphy.gif?cid=ecf05e47iuhbrrici7z2tn33dxeu0xxi96i19uk7qphiojb3&rid=giphy.gif&ct=g\" width=\"300\"></center>\n",
    "\n",
    "<center><a href=\"https://giphy.com/gifs/theoffice-the-office-tv-secret-santa-BXOEmFSzNkOObZhIA3\">via GIPHY</a></center>\n",
    "\n",
    "**HEADS UP EVERYONE: INDEXING IN `PYTHON` STARTS AT 0**\n",
    "\n",
    "</br>\n",
    "<center><img src=\"https://raw.githubusercontent.com/PeerHerholz/Python_for_Psychologists_Winter2021/master/lecture/static/index_string.png\"></center>\n",
    "\n",
    "This means that the `first index` is `0`, the `second index` `1`, the `third index` 2, etc. . This holds true independent of the `data type` and is one of the major confusions when folks start programming in `python`, so always watch out!"
   ]
  },
  {
   "cell_type": "code",
   "execution_count": 65,
   "metadata": {
    "slideshow": {
     "slide_type": "subslide"
    }
   },
   "outputs": [
    {
     "data": {
      "text/plain": [
       "'The wombat and the capybara are equally awesome. However, while the wombat lives in Australia, the capybara can be found in south america.'"
      ]
     },
     "execution_count": 65,
     "metadata": {},
     "output_type": "execute_result"
    }
   ],
   "source": [
    "statement_2"
   ]
  },
  {
   "cell_type": "code",
   "execution_count": 66,
   "metadata": {
    "slideshow": {
     "slide_type": "fragment"
    }
   },
   "outputs": [
    {
     "data": {
      "text/plain": [
       "'T'"
      ]
     },
     "execution_count": 66,
     "metadata": {},
     "output_type": "execute_result"
    }
   ],
   "source": [
    "statement_2[0]"
   ]
  },
  {
   "cell_type": "code",
   "execution_count": 67,
   "metadata": {
    "slideshow": {
     "slide_type": "fragment"
    }
   },
   "outputs": [
    {
     "data": {
      "text/plain": [
       "'h'"
      ]
     },
     "execution_count": 67,
     "metadata": {},
     "output_type": "execute_result"
    }
   ],
   "source": [
    "statement_2[1]"
   ]
  },
  {
   "cell_type": "code",
   "execution_count": 68,
   "metadata": {
    "slideshow": {
     "slide_type": "fragment"
    }
   },
   "outputs": [
    {
     "data": {
      "text/plain": [
       "'e'"
      ]
     },
     "execution_count": 68,
     "metadata": {},
     "output_type": "execute_result"
    }
   ],
   "source": [
    "statement_2[2]"
   ]
  },
  {
   "cell_type": "markdown",
   "metadata": {
    "slideshow": {
     "slide_type": "subslide"
    }
   },
   "source": [
    "If we want to get more than one `character` of a `string` we can use the following syntax `string[start:stop]` which extracts characters between `index` `start` and `stop`. This technique is called *slicing*."
   ]
  },
  {
   "cell_type": "code",
   "execution_count": 69,
   "metadata": {
    "slideshow": {
     "slide_type": "fragment"
    }
   },
   "outputs": [
    {
     "data": {
      "text/plain": [
       "'wombat'"
      ]
     },
     "execution_count": 69,
     "metadata": {},
     "output_type": "execute_result"
    }
   ],
   "source": [
    "statement_2[4:10]"
   ]
  },
  {
   "cell_type": "markdown",
   "metadata": {
    "slideshow": {
     "slide_type": "subslide"
    }
   },
   "source": [
    "If we omit either (or both) of `start` or `stop` from `[start:stop]`, the default is the beginning and the end of the `string`, respectively:"
   ]
  },
  {
   "cell_type": "code",
   "execution_count": 70,
   "metadata": {
    "slideshow": {
     "slide_type": "fragment"
    }
   },
   "outputs": [
    {
     "data": {
      "text/plain": [
       "'The wombat'"
      ]
     },
     "execution_count": 70,
     "metadata": {},
     "output_type": "execute_result"
    }
   ],
   "source": [
    "statement_2[:10]"
   ]
  },
  {
   "cell_type": "code",
   "execution_count": 71,
   "metadata": {
    "slideshow": {
     "slide_type": "fragment"
    }
   },
   "outputs": [
    {
     "data": {
      "text/plain": [
       "' and the capybara are equally awesome. However, while the wombat lives in Australia, the capybara can be found in south america.'"
      ]
     },
     "execution_count": 71,
     "metadata": {},
     "output_type": "execute_result"
    }
   ],
   "source": [
    "statement_2[10:]"
   ]
  },
  {
   "cell_type": "code",
   "execution_count": 72,
   "metadata": {
    "slideshow": {
     "slide_type": "fragment"
    }
   },
   "outputs": [
    {
     "data": {
      "text/plain": [
       "'The wombat and the capybara are equally awesome. However, while the wombat lives in Australia, the capybara can be found in south america.'"
      ]
     },
     "execution_count": 72,
     "metadata": {},
     "output_type": "execute_result"
    }
   ],
   "source": [
    "statement_2[:]"
   ]
  },
  {
   "cell_type": "markdown",
   "metadata": {
    "slideshow": {
     "slide_type": "subslide"
    }
   },
   "source": [
    "We can also define the `step size` using the syntax `[start:end:step]` (the default value for `step` is `1`, as we saw above):"
   ]
  },
  {
   "cell_type": "code",
   "execution_count": 73,
   "metadata": {
    "slideshow": {
     "slide_type": "fragment"
    }
   },
   "outputs": [
    {
     "data": {
      "text/plain": [
       "'The wombat and the capybara are equally awesome. However, while the wombat lives in Australia, the capybara can be found in south america.'"
      ]
     },
     "execution_count": 73,
     "metadata": {},
     "output_type": "execute_result"
    }
   ],
   "source": [
    "statement_2[::1]"
   ]
  },
  {
   "cell_type": "code",
   "execution_count": 74,
   "metadata": {
    "slideshow": {
     "slide_type": "fragment"
    }
   },
   "outputs": [
    {
     "data": {
      "text/plain": [
       "'Tewma n h ayaaaeeulyaeoe oee,wietewma ie nAsrla h ayaacnb on nsuhaeia'"
      ]
     },
     "execution_count": 74,
     "metadata": {},
     "output_type": "execute_result"
    }
   ],
   "source": [
    "statement_2[::2]"
   ]
  },
  {
   "cell_type": "markdown",
   "metadata": {
    "slideshow": {
     "slide_type": "subslide"
    }
   },
   "source": [
    "#### String formatting \n",
    "\n",
    "Besides `operating` on `strings` we can also apply different `formatting styles`. More precisely, this refers to different ways of displaying `strings`. The main `function` we'll explore regarding this will be the `print` function. Comparable to `len`, it's one of the `python` `functions` that's always available to you, even without `import`. \n",
    "\n",
    "For example, if we `print` `strings` added with `+`, they are concatenated without space: "
   ]
  },
  {
   "cell_type": "code",
   "execution_count": 75,
   "metadata": {
    "slideshow": {
     "slide_type": "fragment"
    }
   },
   "outputs": [
    {
     "name": "stdout",
     "output_type": "stream",
     "text": [
      "Theresultsweresignificant\n"
     ]
    }
   ],
   "source": [
    "print(\"The\" + \"results\" + \"were\" + \"significant\")"
   ]
  },
  {
   "cell_type": "markdown",
   "metadata": {
    "slideshow": {
     "slide_type": "subslide"
    }
   },
   "source": [
    "The `print` `function` concatenates `strings` differently, depending how the `inputs` are specified. If we just provide all `strings` without anything else, they will be concatenated without spaces:"
   ]
  },
  {
   "cell_type": "code",
   "execution_count": 76,
   "metadata": {
    "slideshow": {
     "slide_type": "fragment"
    }
   },
   "outputs": [
    {
     "name": "stdout",
     "output_type": "stream",
     "text": [
      "Theresultsweresignificant\n"
     ]
    }
   ],
   "source": [
    "print(\"The\" \"results\" \"were\" \"significant\")"
   ]
  },
  {
   "cell_type": "markdown",
   "metadata": {
    "slideshow": {
     "slide_type": "subslide"
    }
   },
   "source": [
    "If we provide `strings` separated by `,`, they will be concatenated with spaces:"
   ]
  },
  {
   "cell_type": "code",
   "execution_count": 77,
   "metadata": {
    "slideshow": {
     "slide_type": "fragment"
    }
   },
   "outputs": [
    {
     "name": "stdout",
     "output_type": "stream",
     "text": [
      "The results were significant\n"
     ]
    }
   ],
   "source": [
    "print(\"The\", \"results\", \"were\", \"significant\")"
   ]
  },
  {
   "cell_type": "markdown",
   "metadata": {
    "slideshow": {
     "slide_type": "subslide"
    }
   },
   "source": [
    "Interestingly, the `print` `function` converts all `inputs` to `strings`, no matter their actual `type`:"
   ]
  },
  {
   "cell_type": "code",
   "execution_count": 78,
   "metadata": {
    "slideshow": {
     "slide_type": "fragment"
    }
   },
   "outputs": [
    {
     "name": "stdout",
     "output_type": "stream",
     "text": [
      "The results were significant 0.049 False\n"
     ]
    }
   ],
   "source": [
    "print(\"The\", \"results\", \"were\", \"significant\", 0.049, False)"
   ]
  },
  {
   "cell_type": "markdown",
   "metadata": {
    "slideshow": {
     "slide_type": "subslide"
    }
   },
   "source": [
    "Another very cool and handy option that we can specify `placeholders` which will be filled with an `input` according to a given `formatting style`. `Python` has two `string formatting styles`. An example of the old style is below, the `placeholder` or `specifier` `%.3f` transforms the `input` `number` into a `string`, that corresponds to a `floating point number` with `3 decimal places` and the `specifier` `%d` transforms the `input` `number` into a `string`, corresponding to a `decimal number`."
   ]
  },
  {
   "cell_type": "code",
   "execution_count": 79,
   "metadata": {
    "slideshow": {
     "slide_type": "-"
    }
   },
   "outputs": [
    {
     "name": "stdout",
     "output_type": "stream",
     "text": [
      "The results were significant at 0.049\n"
     ]
    }
   ],
   "source": [
    "print(\"The results were significant at %.3f\" %(0.049))"
   ]
  },
  {
   "cell_type": "code",
   "execution_count": 80,
   "metadata": {},
   "outputs": [
    {
     "name": "stdout",
     "output_type": "stream",
     "text": [
      "The results were significant at 0\n"
     ]
    }
   ],
   "source": [
    "print(\"The results were significant at %d\" %(0.049))"
   ]
  },
  {
   "cell_type": "markdown",
   "metadata": {
    "slideshow": {
     "slide_type": "fragment"
    }
   },
   "source": [
    "As you can see, you have to be very careful with `string formatting` as important information might otherwise get lost!  "
   ]
  },
  {
   "cell_type": "markdown",
   "metadata": {
    "slideshow": {
     "slide_type": "subslide"
    }
   },
   "source": [
    "We can achieve the same outcome using the new style string formatting which uses `{}` followed by `.format()`."
   ]
  },
  {
   "cell_type": "code",
   "execution_count": 81,
   "metadata": {
    "slideshow": {
     "slide_type": "fragment"
    }
   },
   "outputs": [
    {
     "name": "stdout",
     "output_type": "stream",
     "text": [
      "The results were significant at 0.049\n"
     ]
    }
   ],
   "source": [
    "print(\"The results were significant at {:.3f}\" .format(0.049))"
   ]
  },
  {
   "cell_type": "markdown",
   "metadata": {
    "slideshow": {
     "slide_type": "subslide"
    }
   },
   "source": [
    "If you would like to include `line-breaks` and/or `tabs` in your `strings`, you can use `\\n` and `\\t` respectively: "
   ]
  },
  {
   "cell_type": "code",
   "execution_count": 82,
   "metadata": {
    "slideshow": {
     "slide_type": "fragment"
    }
   },
   "outputs": [
    {
     "name": "stdout",
     "output_type": "stream",
     "text": [
      "Geez, there are some many things \n",
      "Python can do with \t strings.\n"
     ]
    }
   ],
   "source": [
    "print(\"Geez, there are some many things \\nPython can do with \\t strings.\")"
   ]
  },
  {
   "cell_type": "markdown",
   "metadata": {
    "slideshow": {
     "slide_type": "subslide"
    }
   },
   "source": [
    "We can of course also combine the different `string formatting` options:"
   ]
  },
  {
   "cell_type": "code",
   "execution_count": 83,
   "metadata": {
    "slideshow": {
     "slide_type": "-"
    }
   },
   "outputs": [
    {
     "name": "stdout",
     "output_type": "stream",
     "text": [
      "Animal: Wombat\n",
      "Habitat: Australia\n",
      "Rating: 5\n"
     ]
    }
   ],
   "source": [
    "print(\"Animal: {}\\nHabitat: {}\\nRating: {}\".format(\"Wombat\", \"Australia\", 5))"
   ]
  },
  {
   "cell_type": "markdown",
   "metadata": {
    "slideshow": {
     "slide_type": "subslide"
    }
   },
   "source": [
    "\n",
    "\n",
    "\n",
    "\n",
    "#### Single Quote\n",
    "You can specify strings using single quotes such as `'Quote me on this'`.\n",
    "All white space i.e. spaces and tabs, within the quotes, are preserved as-is.\n",
    "\n",
    "#### Double Quotes\n",
    "Strings in double quotes work exactly the same way as strings in single quotes. An example is `\"What's your name?\"`.\n",
    "\n",
    "#### Triple Quotes\n",
    "\n",
    "You can specify multi-line strings using triple quotes - (`\"\"\"` or `'''`). You can use single quotes and double quotes freely within the triple quotes. An example is:"
   ]
  },
  {
   "cell_type": "code",
   "execution_count": 84,
   "metadata": {
    "slideshow": {
     "slide_type": "subslide"
    }
   },
   "outputs": [
    {
     "data": {
      "text/plain": [
       "'I\\'m the first line. Check how line-breaks are shown in the second line.\\nDo you see the line-break?\\n\"What\\'s going on here?,\" you might ask.\\nWell, \"that\\'s just how tiple quotes work.\"\\n'"
      ]
     },
     "execution_count": 84,
     "metadata": {},
     "output_type": "execute_result"
    }
   ],
   "source": [
    "'''I'm the first line. Check how line-breaks are shown in the second line.\n",
    "Do you see the line-break?\n",
    "\"What's going on here?,\" you might ask.\n",
    "Well, \"that's just how tiple quotes work.\"\n",
    "'''"
   ]
  },
  {
   "cell_type": "markdown",
   "metadata": {
    "slideshow": {
     "slide_type": "subslide"
    }
   },
   "source": [
    "##### Exercise 5.1\n",
    "\n",
    "Create two `variable`s called `info_wombat` and `info_capybara` and provide them the following `values` respectively:\n",
    "\n",
    "\"The wombat is quadrupedal marsupial and can weigh up to 35 kg.\"\n",
    "\n",
    "\"The capybara is the largest rodent on earth. Its relatives include the guinea pig and the chinchilla.\" \n",
    "\n",
    "Once created, please verify that the `type` is `string`."
   ]
  },
  {
   "cell_type": "code",
   "execution_count": null,
   "metadata": {
    "solution2": "hidden",
    "solution2_first": true
   },
   "outputs": [],
   "source": [
    "# Please write your solution here"
   ]
  },
  {
   "cell_type": "code",
   "execution_count": 85,
   "metadata": {
    "solution2": "hidden"
   },
   "outputs": [
    {
     "name": "stdout",
     "output_type": "stream",
     "text": [
      "<class 'str'>\n",
      "<class 'str'>\n"
     ]
    }
   ],
   "source": [
    "info_wombat = \"The wombat is quadrupedal marsupial and can weigh up to 35 kg.\"\n",
    "info_capybara = \"The capybara is the largest rodent on earth. Its relatives include the guinea pig and the chinchilla.\"\n",
    "\n",
    "print(type(info_wombat))\n",
    "print(type(info_capybara))"
   ]
  },
  {
   "cell_type": "markdown",
   "metadata": {
    "slideshow": {
     "slide_type": "subslide"
    }
   },
   "source": [
    "##### Exercise 5.2\n",
    "\n",
    "Compute the `length` and `print` within the `strings` \"The wombat information has [insert length here] characters.\" and \"The capybara information has [insert length here] characters.\" After that, please compare the length of the `strings` and `print` if they are equal."
   ]
  },
  {
   "cell_type": "code",
   "execution_count": null,
   "metadata": {
    "solution2": "hidden",
    "solution2_first": true
   },
   "outputs": [],
   "source": [
    "# Please write your solution here"
   ]
  },
  {
   "cell_type": "code",
   "execution_count": 86,
   "metadata": {
    "solution2": "hidden"
   },
   "outputs": [
    {
     "name": "stdout",
     "output_type": "stream",
     "text": [
      "The wombat information has 62 characters.\n",
      "The capybara information has 101 characters.\n",
      "The information has an equal amount of characters: False\n"
     ]
    }
   ],
   "source": [
    "print(\"The wombat information has %s characters.\" %len(info_wombat))\n",
    "print(\"The capybara information has %s characters.\" %len(info_capybara))\n",
    "print(\"The information has an equal amount of characters: %s\" %str(len(info_wombat)==len(info_capybara)))"
   ]
  },
  {
   "cell_type": "markdown",
   "metadata": {
    "solution2": "hidden",
    "solution2_first": true
   },
   "source": [
    "##### Exercise 5.3\n",
    "\n",
    "Get the following `indices` from the `info_wombat` and `info_capybara` respectively: `4`-`10` and `4`-`12`. Replace the resulting word in `info_wombat` with `capybara` and the resulting word in `info_capybara` with `wombat`."
   ]
  },
  {
   "cell_type": "code",
   "execution_count": 87,
   "metadata": {
    "solution2": "hidden"
   },
   "outputs": [
    {
     "name": "stdout",
     "output_type": "stream",
     "text": [
      "wombat\n",
      "capybara\n",
      "The capybara is quadrupedal marsupial and can weigh up to 35 kg.\n",
      "The wombat is the largest rodent on earth. Its relatives include the guinea pig and the chinchilla.\n"
     ]
    }
   ],
   "source": [
    "print(info_wombat[4:10])\n",
    "print(info_capybara[4:12])\n",
    "\n",
    "print(info_wombat.replace('wombat', 'capybara'))\n",
    "print(info_capybara.replace('capybara', 'wombat'))"
   ]
  },
  {
   "cell_type": "markdown",
   "metadata": {
    "slideshow": {
     "slide_type": "subslide"
    }
   },
   "source": [
    "### List\n",
    "\n",
    "Next up: `list`s. In general, `list`s are very similar to `strings`. One crucial difference is that `list` elements (things in the `list`) can be of any `type`: `integers`, `floats`, `strings`, etc. . Additionally, `types` can be freely mixed within a `list`, that is, each `element` of a list can be of a different `type`. `List`s are among the `data types` and `structures` you'll work with almost every time you do something in `python`. They are super handy and comparably to `strings`, have a look of \"in-built\" functionality.\n",
    "\n",
    "\n",
    "</br>\n",
    "<center><img src=\"https://raw.githubusercontent.com/PeerHerholz/Python_for_Psychologists_Winter2021/master/lecture/static/python_data_types_2.png\"></center>"
   ]
  },
  {
   "cell_type": "markdown",
   "metadata": {
    "slideshow": {
     "slide_type": "subslide"
    }
   },
   "source": [
    "The basic `syntax` for creating `list`s in `python` is `[...]`:"
   ]
  },
  {
   "cell_type": "code",
   "execution_count": 88,
   "metadata": {
    "slideshow": {
     "slide_type": "fragment"
    }
   },
   "outputs": [
    {
     "data": {
      "text/plain": [
       "[1, 2, 3, 4]"
      ]
     },
     "execution_count": 88,
     "metadata": {},
     "output_type": "execute_result"
    }
   ],
   "source": [
    "[1,2,3,4]"
   ]
  },
  {
   "cell_type": "code",
   "execution_count": 89,
   "metadata": {
    "slideshow": {
     "slide_type": "fragment"
    }
   },
   "outputs": [
    {
     "data": {
      "text/plain": [
       "list"
      ]
     },
     "execution_count": 89,
     "metadata": {},
     "output_type": "execute_result"
    }
   ],
   "source": [
    "type([1,2,3,4])"
   ]
  },
  {
   "cell_type": "markdown",
   "metadata": {
    "slideshow": {
     "slide_type": "subslide"
    }
   },
   "source": [
    "You can of course also set `list`s as the `value` of a `variable`. For example, we can create a `list` with our `reaction times` from before:"
   ]
  },
  {
   "cell_type": "code",
   "execution_count": 90,
   "metadata": {
    "slideshow": {
     "slide_type": "fragment"
    }
   },
   "outputs": [
    {
     "name": "stdout",
     "output_type": "stream",
     "text": [
      "<class 'list'>\n",
      "[1.2, 1.0, 1.5, 1.9, 1.3, 1.2, 1.7]\n"
     ]
    }
   ],
   "source": [
    "reaction_times = [1.2, 1.0, 1.5, 1.9, 1.3, 1.2, 1.7]\n",
    "print(type(reaction_times))\n",
    "print(reaction_times)"
   ]
  },
  {
   "cell_type": "markdown",
   "metadata": {
    "slideshow": {
     "slide_type": "subslide"
    }
   },
   "source": [
    "Going back to the comparison with `strings`, we can use the same `index` and `slicing` techniques to manipulate `list`s as we could use on `strings`: `list[index]`, `list[start:stop]`."
   ]
  },
  {
   "cell_type": "code",
   "execution_count": 91,
   "metadata": {
    "slideshow": {
     "slide_type": "fragment"
    }
   },
   "outputs": [
    {
     "name": "stdout",
     "output_type": "stream",
     "text": [
      "[1.2, 1.0, 1.5, 1.9, 1.3, 1.2, 1.7]\n",
      "[1.0, 1.5]\n",
      "[1.2, 1.5, 1.3, 1.7]\n"
     ]
    }
   ],
   "source": [
    "print(reaction_times)\n",
    "print(reaction_times[1:3])\n",
    "print(reaction_times[::2])"
   ]
  },
  {
   "cell_type": "markdown",
   "metadata": {
    "slideshow": {
     "slide_type": "subslide"
    }
   },
   "source": [
    "<center><img src=\"https://media1.giphy.com/media/BXOEmFSzNkOObZhIA3/giphy.gif?cid=ecf05e47iuhbrrici7z2tn33dxeu0xxi96i19uk7qphiojb3&rid=giphy.gif&ct=g\" width=\"300\"></center>\n",
    "\n",
    "<center><a href=\"https://giphy.com/gifs/theoffice-the-office-tv-secret-santa-BXOEmFSzNkOObZhIA3\">via GIPHY</a></center>\n",
    "\n",
    "**HEADS UP EVERYONE: INDEXING IN `PYTHON` STARTS AT 0**\n",
    "\n",
    "</br>\n",
    "<center><img src=\"https://raw.githubusercontent.com/PeerHerholz/Python_for_Psychologists_Winter2021/master/lecture/static/index_list.png\"></center>\n",
    "\n",
    "This means that the `first index` is `0`, the `second index` `1`, the `third index` 2, etc. . This holds true independent of the `data type` and is one of the major confusions when folks start programming in `python`, so always watch out!"
   ]
  },
  {
   "cell_type": "markdown",
   "metadata": {
    "slideshow": {
     "slide_type": "subslide"
    }
   },
   "source": [
    "Thus, to get the first index of our `reaction_times`, we have to do the following:"
   ]
  },
  {
   "cell_type": "code",
   "execution_count": 92,
   "metadata": {
    "slideshow": {
     "slide_type": "fragment"
    }
   },
   "outputs": [
    {
     "data": {
      "text/plain": [
       "1.2"
      ]
     },
     "execution_count": 92,
     "metadata": {},
     "output_type": "execute_result"
    }
   ],
   "source": [
    "reaction_times[0]"
   ]
  },
  {
   "cell_type": "markdown",
   "metadata": {
    "slideshow": {
     "slide_type": "fragment"
    }
   },
   "source": [
    "There's another important aspect related to `index` and `slicing`. Have a look at the following example that _should_ get us the `reaction times` from index `1` to `4`: "
   ]
  },
  {
   "cell_type": "code",
   "execution_count": 93,
   "metadata": {
    "slideshow": {
     "slide_type": "fragment"
    }
   },
   "outputs": [
    {
     "name": "stdout",
     "output_type": "stream",
     "text": [
      "[1.2, 1.0, 1.5, 1.9, 1.3, 1.2, 1.7]\n",
      "[1.0, 1.5, 1.9]\n"
     ]
    }
   ],
   "source": [
    "print(reaction_times)\n",
    "print(reaction_times[1:4])"
   ]
  },
  {
   "cell_type": "markdown",
   "metadata": {
    "slideshow": {
     "slide_type": "fragment"
    }
   },
   "source": [
    "Isn't there something missing, specifically the last `index` we wanted to grasp, i.e. `4`?"
   ]
  },
  {
   "cell_type": "markdown",
   "metadata": {
    "slideshow": {
     "slide_type": "subslide"
    }
   },
   "source": [
    "<center><img src=\"https://media1.giphy.com/media/BXOEmFSzNkOObZhIA3/giphy.gif?cid=ecf05e47iuhbrrici7z2tn33dxeu0xxi96i19uk7qphiojb3&rid=giphy.gif&ct=g\" width=\"300\"></center>\n",
    "\n",
    "<center><a href=\"https://giphy.com/gifs/theoffice-the-office-tv-secret-santa-BXOEmFSzNkOObZhIA3\">via GIPHY</a></center>\n",
    "\n",
    "**HEADS UP EVERYONE: SLICING IN `PYTHON` EXCLUDES THE \"STOP\" INDEX**\n",
    "\n",
    "</br>\n",
    "<center><img src=\"https://raw.githubusercontent.com/PeerHerholz/Python_for_Psychologists_Winter2021/master/lecture/static/index_list_slicing.png\"></center>\n",
    "\n",
    "This means that the `slicing` technique gives you everything up to the `stop` `index` but does not include the `stop` `index` itself. For example, `reaction_times[1:4]` will return the `list elements` from index `1` up to `4` but not the fourth `index`. This holds true independent of the `data type` and is one of the major confusions when folks start programming in `python`, so always watch out!"
   ]
  },
  {
   "cell_type": "markdown",
   "metadata": {
    "slideshow": {
     "slide_type": "subslide"
    }
   },
   "source": [
    "So, to get to `list elements` from `index` `0` - `4`, including `4`, we have to do the following:"
   ]
  },
  {
   "cell_type": "code",
   "execution_count": 94,
   "metadata": {
    "slideshow": {
     "slide_type": "fragment"
    }
   },
   "outputs": [
    {
     "name": "stdout",
     "output_type": "stream",
     "text": [
      "[1.2, 1.0, 1.5, 1.9, 1.3, 1.2, 1.7]\n",
      "[1.2, 1.0, 1.5, 1.9, 1.3]\n"
     ]
    }
   ],
   "source": [
    "print(reaction_times)\n",
    "print(reaction_times[0:5])"
   ]
  },
  {
   "cell_type": "markdown",
   "metadata": {
    "slideshow": {
     "slide_type": "fragment"
    }
   },
   "source": [
    "As mentioned before, `elements` in a `list` do not all have to be of the same `type`:"
   ]
  },
  {
   "cell_type": "code",
   "execution_count": 95,
   "metadata": {
    "slideshow": {
     "slide_type": "fragment"
    }
   },
   "outputs": [
    {
     "name": "stdout",
     "output_type": "stream",
     "text": [
      "[1, 'a', 4.0, 'What is happening?']\n"
     ]
    }
   ],
   "source": [
    "mixed_list = [1, 'a', 4.0, 'What is happening?']\n",
    "\n",
    "print(mixed_list)"
   ]
  },
  {
   "cell_type": "markdown",
   "metadata": {
    "slideshow": {
     "slide_type": "subslide"
    }
   },
   "source": [
    "Another nice thing to know: `python` `list`s can be `inhomogeneous` and `arbitrarily nested`, meaning that we can define and access `list`s within `list`s. Is this `list`-ception??"
   ]
  },
  {
   "cell_type": "code",
   "execution_count": 96,
   "metadata": {
    "slideshow": {
     "slide_type": "fragment"
    }
   },
   "outputs": [
    {
     "name": "stdout",
     "output_type": "stream",
     "text": [
      "our nest list looks like this: [1, [2, [3, [4, [5]]]]]\n",
      "the length of our nested list is: 2\n",
      "the first index of our nested_list is: 1\n",
      "the second index of our nested_list is: [2, [3, [4, [5]]]]\n",
      "the second index of our nested_list is a list we can index again via nested_list[1][index]: [3, [4, [5]]]\n"
     ]
    }
   ],
   "source": [
    "nested_list = [1, [2, [3, [4, [5]]]]]\n",
    "\n",
    "print(\"our nest list looks like this: %s\" %nested_list)\n",
    "print(\"the length of our nested list is: %s\" %len(nested_list))\n",
    "print(\"the first index of our nested_list is: %s\" %nested_list[0])\n",
    "print(\"the second index of our nested_list is: %s\" %nested_list[1])\n",
    "print(\"the second index of our nested_list is a list we can index again via nested_list[1][index]: %s\" %nested_list[1][1])"
   ]
  },
  {
   "cell_type": "markdown",
   "metadata": {
    "slideshow": {
     "slide_type": "subslide"
    }
   },
   "source": [
    "Lets have a look at another `list`. Assuming you obtain data describing the favorite `movies` and `snacks` of a sample population, we can put the respective responses in `list`s for easy handling:"
   ]
  },
  {
   "cell_type": "code",
   "execution_count": 97,
   "metadata": {
    "slideshow": {
     "slide_type": "fragment"
    }
   },
   "outputs": [],
   "source": [
    "movies = ['The_Intouchables', 'James Bond', 'Forrest Gump', 'Retired Extremely Dangerous', 'The Imitation Game',\n",
    "          'The Philosophers', 'Call Me by Your Name', 'Shutter Island', 'Love actually', 'The Great Gatsby',\n",
    "          'Interstellar', 'Inception', 'Lord of the Rings - The Two Towers', 'Fight Club', 'Shutter Island',\n",
    "          'Harry Potter', 'Harry Potter and the MatLab-Prince', 'Shindlers List', 'Inception']"
   ]
  },
  {
   "cell_type": "markdown",
   "metadata": {
    "slideshow": {
     "slide_type": "fragment"
    }
   },
   "source": [
    "BTW: thanks so much for these, I really enjoyed going through the `notebooks`. However, `Harry Potter and the MatLab-Prince`....that one really got me. I mean there was even a short summary of the story..."
   ]
  },
  {
   "cell_type": "code",
   "execution_count": 98,
   "metadata": {
    "slideshow": {
     "slide_type": "fragment"
    }
   },
   "outputs": [],
   "source": [
    "snacks = ['pancakes', 'Banana', 'dominoes', 'carrots', 'hummus', 'chocolate', 'chocolate', 'Pringles', 'snickers',\n",
    "          'chocolate','Kinder bueno', 'sushi',  'mint chocolate', 'fruit', 'dried mango', 'dark chocolate', \n",
    "          'too complicated', 'snickers', 'Rocher']"
   ]
  },
  {
   "cell_type": "markdown",
   "metadata": {
    "slideshow": {
     "slide_type": "subslide"
    }
   },
   "source": [
    "A smaller subsample also provided their favorite animal. (If you also provided one but it doesn't show up it means that you most likely used the \"add attachment\" option to add images or a way to refers to local files but doesn't embed them directly in the `notebook`. Unfortunately, things can be a bit strange there...so don't worry, we address this in subsequent sessions.)  "
   ]
  },
  {
   "cell_type": "code",
   "execution_count": 99,
   "metadata": {
    "slideshow": {
     "slide_type": "fragment"
    }
   },
   "outputs": [],
   "source": [
    "animals = ['cat', 'lizard', 'coral', 'elephant', 'barred owl', 'groundhog']"
   ]
  },
  {
   "cell_type": "markdown",
   "metadata": {
    "slideshow": {
     "slide_type": "subslide"
    }
   },
   "source": [
    "So lets check what we can do with these lists. At first, here they are again:"
   ]
  },
  {
   "cell_type": "code",
   "execution_count": 100,
   "metadata": {
    "slideshow": {
     "slide_type": "fragment"
    }
   },
   "outputs": [
    {
     "name": "stdout",
     "output_type": "stream",
     "text": [
      "The favorite movies were: ['The_Intouchables', 'James Bond', 'Forrest Gump', 'Retired Extremely Dangerous', 'The Imitation Game', 'The Philosophers', 'Call Me by Your Name', 'Shutter Island', 'Love actually', 'The Great Gatsby', 'Interstellar', 'Inception', 'Lord of the Rings - The Two Towers', 'Fight Club', 'Shutter Island', 'Harry Potter', 'Harry Potter and the MatLab-Prince', 'Shindlers List', 'Inception']\n",
      "\n",
      "\n",
      "The favorite snacks were: ['pancakes', 'Banana', 'dominoes', 'carrots', 'hummus', 'chocolate', 'chocolate', 'Pringles', 'snickers', 'chocolate', 'Kinder bueno', 'sushi', 'mint chocolate', 'fruit', 'dried mango', 'dark chocolate', 'too complicated', 'snickers', 'Rocher']\n",
      "\n",
      "\n",
      "The favorite animals were: ['cat', 'lizard', 'coral', 'elephant', 'barred owl', 'groundhog']\n"
     ]
    }
   ],
   "source": [
    "print('The favorite movies were: %s' %movies)\n",
    "print('\\n')\n",
    "print('The favorite snacks were: %s'%snacks)\n",
    "print('\\n')\n",
    "print('The favorite animals were: %s' %animals)"
   ]
  },
  {
   "cell_type": "markdown",
   "metadata": {
    "slideshow": {
     "slide_type": "subslide"
    }
   },
   "source": [
    "Initially we might want to `count` how many responses there were. We can achieve this via our old friend the `len` `function`. If we want to also check if we got responses from all 19 participants of our sample population, we can directly use `comparisons`.  "
   ]
  },
  {
   "cell_type": "code",
   "execution_count": 101,
   "metadata": {
    "slideshow": {
     "slide_type": "fragment"
    }
   },
   "outputs": [
    {
     "name": "stdout",
     "output_type": "stream",
     "text": [
      "Regarding movies there were 19 responses\n",
      "We got responses from all participants: True\n"
     ]
    }
   ],
   "source": [
    "print('Regarding movies there were %s responses' %len(movies))\n",
    "print('We got responses from all participants: %s' %str(len(movies)==19))"
   ]
  },
  {
   "cell_type": "markdown",
   "metadata": {
    "slideshow": {
     "slide_type": "subslide"
    }
   },
   "source": [
    "We can do the same for `snacks` and `animals`:"
   ]
  },
  {
   "cell_type": "code",
   "execution_count": 102,
   "metadata": {
    "slideshow": {
     "slide_type": "fragment"
    }
   },
   "outputs": [
    {
     "name": "stdout",
     "output_type": "stream",
     "text": [
      "Regarding snacks there were 19 responses\n",
      "We got responses from all participants: True\n"
     ]
    }
   ],
   "source": [
    "print('Regarding snacks there were %s responses' %len(snacks))\n",
    "print('We got responses from all participants: %s' %str(len(snacks)==19))"
   ]
  },
  {
   "cell_type": "code",
   "execution_count": 103,
   "metadata": {
    "slideshow": {
     "slide_type": "fragment"
    }
   },
   "outputs": [
    {
     "name": "stdout",
     "output_type": "stream",
     "text": [
      "Regarding animals there were 6 responses\n",
      "We got responses from all participants: False\n"
     ]
    }
   ],
   "source": [
    "print('Regarding animals there were %s responses' %len(animals))\n",
    "print('We got responses from all participants: %s' %str(len(animals)==19))"
   ]
  },
  {
   "cell_type": "markdown",
   "metadata": {
    "slideshow": {
     "slide_type": "subslide"
    }
   },
   "source": [
    "Another thing we might want to check is the number of `unique` responses, that is if some `values` in our `list` appear multiple times and we might also want to get these `values`.  In `python` we have various ways to do this, most often you'll see (and most likely use) `set` and `numpy`'s `unique` `functions`. While the first is another example of in-built `python functions` that don't need to be `imported`, the second as a `function` of the `numpy` `module`. They however can achieve the same goal, that is getting us the number of `unique` `values`. "
   ]
  },
  {
   "cell_type": "code",
   "execution_count": 104,
   "metadata": {
    "slideshow": {
     "slide_type": "fragment"
    }
   },
   "outputs": [
    {
     "name": "stdout",
     "output_type": "stream",
     "text": [
      "There are 17 unique responses regarding movies\n"
     ]
    }
   ],
   "source": [
    "print('There are %s unique responses regarding movies' %len(set(movies)))"
   ]
  },
  {
   "cell_type": "code",
   "execution_count": 105,
   "metadata": {
    "slideshow": {
     "slide_type": "fragment"
    }
   },
   "outputs": [
    {
     "name": "stdout",
     "output_type": "stream",
     "text": [
      "There are 17 unique responses regarding movies\n"
     ]
    }
   ],
   "source": [
    "import numpy as np\n",
    "print('There are %s unique responses regarding movies' %len(np.unique(movies)))"
   ]
  },
  {
   "cell_type": "markdown",
   "metadata": {
    "slideshow": {
     "slide_type": "subslide"
    }
   },
   "source": [
    "The `function`s themselves will also give us the `list` of `unique` `values`:"
   ]
  },
  {
   "cell_type": "code",
   "execution_count": 106,
   "metadata": {
    "slideshow": {
     "slide_type": "fragment"
    }
   },
   "outputs": [
    {
     "name": "stdout",
     "output_type": "stream",
     "text": [
      "The unique responses regarding movies were:  ['Call Me by Your Name' 'Fight Club' 'Forrest Gump' 'Harry Potter'\n",
      " 'Harry Potter and the MatLab-Prince' 'Inception' 'Interstellar'\n",
      " 'James Bond' 'Lord of the Rings - The Two Towers' 'Love actually'\n",
      " 'Retired Extremely Dangerous' 'Shindlers List' 'Shutter Island'\n",
      " 'The Great Gatsby' 'The Imitation Game' 'The Philosophers'\n",
      " 'The_Intouchables']\n"
     ]
    }
   ],
   "source": [
    "print('The unique responses regarding movies were:  %s' %np.unique(movies))"
   ]
  },
  {
   "cell_type": "markdown",
   "metadata": {
    "slideshow": {
     "slide_type": "subslide"
    }
   },
   "source": [
    "Doing the same for `snacks` and `animals` again is straightforward:"
   ]
  },
  {
   "cell_type": "code",
   "execution_count": 107,
   "metadata": {
    "slideshow": {
     "slide_type": "fragment"
    }
   },
   "outputs": [
    {
     "name": "stdout",
     "output_type": "stream",
     "text": [
      "There are 16 unique responses regarding snacks\n",
      "The unique responses regarding snacks were:  ['Banana' 'Kinder bueno' 'Pringles' 'Rocher' 'carrots' 'chocolate'\n",
      " 'dark chocolate' 'dominoes' 'dried mango' 'fruit' 'hummus'\n",
      " 'mint chocolate' 'pancakes' 'snickers' 'sushi' 'too complicated']\n"
     ]
    }
   ],
   "source": [
    "print('There are %s unique responses regarding snacks' %len(np.unique(snacks)))\n",
    "print('The unique responses regarding snacks were:  %s' %np.unique(snacks))"
   ]
  },
  {
   "cell_type": "code",
   "execution_count": 108,
   "metadata": {
    "slideshow": {
     "slide_type": "fragment"
    }
   },
   "outputs": [
    {
     "name": "stdout",
     "output_type": "stream",
     "text": [
      "There are 6 unique responses regarding animals\n",
      "The unique responses regarding animals were:  ['barred owl' 'cat' 'coral' 'elephant' 'groundhog' 'lizard']\n"
     ]
    }
   ],
   "source": [
    "print('There are %s unique responses regarding animals' %len(np.unique(animals)))\n",
    "print('The unique responses regarding animals were:  %s' %np.unique(animals))"
   ]
  },
  {
   "cell_type": "markdown",
   "metadata": {
    "slideshow": {
     "slide_type": "subslide"
    }
   },
   "source": [
    "##### In-built functions\n",
    "\n",
    "As indicated before, `list`s have a great set of in-built functions that allow to perform various `operations`/`transformations` on them: `sort`, `append`, `insert` and `remove`. Please note, as these `function`s are part of the `data type` \"`list`\", you don't prepend (`sort(list)`) but append them: `list.sort()`, `list.append()`, `list.insert()` and `list.remove()`.  \n",
    "\n",
    "Lets start with `sort` which, as you might have expected, will `sort` our `list`."
   ]
  },
  {
   "cell_type": "code",
   "execution_count": 109,
   "metadata": {
    "slideshow": {
     "slide_type": "subslide"
    }
   },
   "outputs": [
    {
     "data": {
      "text/plain": [
       "['Call Me by Your Name',\n",
       " 'Fight Club',\n",
       " 'Forrest Gump',\n",
       " 'Harry Potter',\n",
       " 'Harry Potter and the MatLab-Prince',\n",
       " 'Inception',\n",
       " 'Inception',\n",
       " 'Interstellar',\n",
       " 'James Bond',\n",
       " 'Lord of the Rings - The Two Towers',\n",
       " 'Love actually',\n",
       " 'Retired Extremely Dangerous',\n",
       " 'Shindlers List',\n",
       " 'Shutter Island',\n",
       " 'Shutter Island',\n",
       " 'The Great Gatsby',\n",
       " 'The Imitation Game',\n",
       " 'The Philosophers',\n",
       " 'The_Intouchables']"
      ]
     },
     "execution_count": 109,
     "metadata": {},
     "output_type": "execute_result"
    }
   ],
   "source": [
    "movies.sort()\n",
    "movies"
   ]
  },
  {
   "cell_type": "markdown",
   "metadata": {
    "slideshow": {
     "slide_type": "fragment"
    }
   },
   "source": [
    "Please note that our `list` is modified/changed in-place. While it's nice to not have to do a new `assignment`, this can become problematic if the `index` is of relevance!"
   ]
  },
  {
   "cell_type": "markdown",
   "metadata": {
    "slideshow": {
     "slide_type": "subslide"
    }
   },
   "source": [
    "`.sort()` also allows you to specify _how_ the `list` should be sorted: `ascending` or `descending`. This is controlled via the `reverse` argument of the `.sort()` `function`. By default, `list`s are sorted in an `descending` order. If you want to sort your `list` in an `ascending` order you have to set the `reverse` argument to `True`: `list.sort(reverse=True)`."
   ]
  },
  {
   "cell_type": "code",
   "execution_count": 110,
   "metadata": {
    "slideshow": {
     "slide_type": "fragment"
    }
   },
   "outputs": [
    {
     "data": {
      "text/plain": [
       "['The_Intouchables',\n",
       " 'The Philosophers',\n",
       " 'The Imitation Game',\n",
       " 'The Great Gatsby',\n",
       " 'Shutter Island',\n",
       " 'Shutter Island',\n",
       " 'Shindlers List',\n",
       " 'Retired Extremely Dangerous',\n",
       " 'Love actually',\n",
       " 'Lord of the Rings - The Two Towers',\n",
       " 'James Bond',\n",
       " 'Interstellar',\n",
       " 'Inception',\n",
       " 'Inception',\n",
       " 'Harry Potter and the MatLab-Prince',\n",
       " 'Harry Potter',\n",
       " 'Forrest Gump',\n",
       " 'Fight Club',\n",
       " 'Call Me by Your Name']"
      ]
     },
     "execution_count": 110,
     "metadata": {},
     "output_type": "execute_result"
    }
   ],
   "source": [
    "movies.sort(reverse=True)\n",
    "movies"
   ]
  },
  {
   "cell_type": "markdown",
   "metadata": {
    "slideshow": {
     "slide_type": "subslide"
    }
   },
   "source": [
    "We of course also want to sort our `list`s of `snacks` and `animals`:"
   ]
  },
  {
   "cell_type": "code",
   "execution_count": 111,
   "metadata": {
    "slideshow": {
     "slide_type": "fragment"
    }
   },
   "outputs": [
    {
     "data": {
      "text/plain": [
       "['Banana',\n",
       " 'Kinder bueno',\n",
       " 'Pringles',\n",
       " 'Rocher',\n",
       " 'carrots',\n",
       " 'chocolate',\n",
       " 'chocolate',\n",
       " 'chocolate',\n",
       " 'dark chocolate',\n",
       " 'dominoes',\n",
       " 'dried mango',\n",
       " 'fruit',\n",
       " 'hummus',\n",
       " 'mint chocolate',\n",
       " 'pancakes',\n",
       " 'snickers',\n",
       " 'snickers',\n",
       " 'sushi',\n",
       " 'too complicated']"
      ]
     },
     "execution_count": 111,
     "metadata": {},
     "output_type": "execute_result"
    }
   ],
   "source": [
    "snacks.sort()\n",
    "snacks"
   ]
  },
  {
   "cell_type": "code",
   "execution_count": 112,
   "metadata": {
    "slideshow": {
     "slide_type": "fragment"
    }
   },
   "outputs": [
    {
     "data": {
      "text/plain": [
       "['barred owl', 'cat', 'coral', 'elephant', 'groundhog', 'lizard']"
      ]
     },
     "execution_count": 112,
     "metadata": {},
     "output_type": "execute_result"
    }
   ],
   "source": [
    "animals.sort()\n",
    "animals"
   ]
  },
  {
   "cell_type": "markdown",
   "metadata": {
    "slideshow": {
     "slide_type": "subslide"
    }
   },
   "source": [
    "Lets assume we got new data from two participants and thus need to update our `list`, we can simply use `.append()` to, well, append or add these new entries:"
   ]
  },
  {
   "cell_type": "code",
   "execution_count": 113,
   "metadata": {
    "slideshow": {
     "slide_type": "fragment"
    }
   },
   "outputs": [
    {
     "data": {
      "text/plain": [
       "['The_Intouchables',\n",
       " 'The Philosophers',\n",
       " 'The Imitation Game',\n",
       " 'The Great Gatsby',\n",
       " 'Shutter Island',\n",
       " 'Shutter Island',\n",
       " 'Shindlers List',\n",
       " 'Retired Extremely Dangerous',\n",
       " 'Love actually',\n",
       " 'Lord of the Rings - The Two Towers',\n",
       " 'James Bond',\n",
       " 'Interstellar',\n",
       " 'Inception',\n",
       " 'Inception',\n",
       " 'Harry Potter and the MatLab-Prince',\n",
       " 'Harry Potter',\n",
       " 'Forrest Gump',\n",
       " 'Fight Club',\n",
       " 'Call Me by Your Name',\n",
       " 'My Neighbor Totoro']"
      ]
     },
     "execution_count": 113,
     "metadata": {},
     "output_type": "execute_result"
    }
   ],
   "source": [
    "movies.append('My Neighbor Totoro')\n",
    "movies"
   ]
  },
  {
   "cell_type": "markdown",
   "metadata": {
    "slideshow": {
     "slide_type": "subslide"
    }
   },
   "source": [
    "We obviously do the same for `snacks` and `animals` again:"
   ]
  },
  {
   "cell_type": "code",
   "execution_count": 114,
   "metadata": {
    "slideshow": {
     "slide_type": "fragment"
    }
   },
   "outputs": [
    {
     "data": {
      "text/plain": [
       "['Banana',\n",
       " 'Kinder bueno',\n",
       " 'Pringles',\n",
       " 'Rocher',\n",
       " 'carrots',\n",
       " 'chocolate',\n",
       " 'chocolate',\n",
       " 'chocolate',\n",
       " 'dark chocolate',\n",
       " 'dominoes',\n",
       " 'dried mango',\n",
       " 'fruit',\n",
       " 'hummus',\n",
       " 'mint chocolate',\n",
       " 'pancakes',\n",
       " 'snickers',\n",
       " 'snickers',\n",
       " 'sushi',\n",
       " 'too complicated',\n",
       " 'Wasabi Peanuts']"
      ]
     },
     "execution_count": 114,
     "metadata": {},
     "output_type": "execute_result"
    }
   ],
   "source": [
    "snacks.append('Wasabi Peanuts')\n",
    "snacks"
   ]
  },
  {
   "cell_type": "code",
   "execution_count": 115,
   "metadata": {
    "slideshow": {
     "slide_type": "fragment"
    }
   },
   "outputs": [
    {
     "data": {
      "text/plain": [
       "['barred owl', 'cat', 'coral', 'elephant', 'groundhog', 'lizard', 'bear']"
      ]
     },
     "execution_count": 115,
     "metadata": {},
     "output_type": "execute_result"
    }
   ],
   "source": [
    "animals.append('bear')\n",
    "animals"
   ]
  },
  {
   "cell_type": "markdown",
   "metadata": {
    "slideshow": {
     "slide_type": "subslide"
    }
   },
   "source": [
    "Should the `index` of the new `value` be important, you have to use `.insert` as `.append` will only ever, you guessed it: append. The `.insert` `functions` takes two `arguments`, the `index` where a new `value` should be inserted and the `value` that should be inserted: `list.insert(index, value)`. The `index` of the subsequent `values` will shift +1 accordingly. Assuming, we want to add a new `value` at the `third index` of each of our `list`s, this how we would do that:"
   ]
  },
  {
   "cell_type": "code",
   "execution_count": 116,
   "metadata": {
    "slideshow": {
     "slide_type": "fragment"
    }
   },
   "outputs": [
    {
     "name": "stdout",
     "output_type": "stream",
     "text": [
      "['The_Intouchables', 'The Philosophers', 'The Big Lebowski', 'The Imitation Game', 'The Great Gatsby', 'Shutter Island', 'Shutter Island', 'Shindlers List', 'Retired Extremely Dangerous', 'Love actually', 'Lord of the Rings - The Two Towers', 'James Bond', 'Interstellar', 'Inception', 'Inception', 'Harry Potter and the MatLab-Prince', 'Harry Potter', 'Forrest Gump', 'Fight Club', 'Call Me by Your Name', 'My Neighbor Totoro']\n"
     ]
    }
   ],
   "source": [
    "movies.insert(2, 'The Big Lebowski')\n",
    "print(movies)"
   ]
  },
  {
   "cell_type": "code",
   "execution_count": 117,
   "metadata": {
    "slideshow": {
     "slide_type": "subslide"
    }
   },
   "outputs": [
    {
     "name": "stdout",
     "output_type": "stream",
     "text": [
      "['Banana', 'Kinder bueno', 'PB&J', 'Pringles', 'Rocher', 'carrots', 'chocolate', 'chocolate', 'chocolate', 'dark chocolate', 'dominoes', 'dried mango', 'fruit', 'hummus', 'mint chocolate', 'pancakes', 'snickers', 'snickers', 'sushi', 'too complicated', 'Wasabi Peanuts']\n"
     ]
    }
   ],
   "source": [
    "snacks.insert(2, 'PB&J')\n",
    "print(snacks)"
   ]
  },
  {
   "cell_type": "code",
   "execution_count": 118,
   "metadata": {
    "slideshow": {
     "slide_type": "fragment"
    }
   },
   "outputs": [
    {
     "name": "stdout",
     "output_type": "stream",
     "text": [
      "['barred owl', 'cat', 'Manatee', 'coral', 'elephant', 'groundhog', 'lizard', 'bear']\n"
     ]
    }
   ],
   "source": [
    "animals.insert(2, 'Manatee')\n",
    "print(animals)"
   ]
  },
  {
   "cell_type": "markdown",
   "metadata": {
    "slideshow": {
     "slide_type": "subslide"
    }
   },
   "source": [
    "If you want to change the `value` of a `list` `element` (e.g. you noticed an error and need to change the `value`), you can do that directly by `assigning` a new `value` to the `element` at the given `index`:"
   ]
  },
  {
   "cell_type": "code",
   "execution_count": 119,
   "metadata": {
    "slideshow": {
     "slide_type": "fragment"
    }
   },
   "outputs": [
    {
     "name": "stdout",
     "output_type": "stream",
     "text": [
      "The element at index 14 of the list movies is: Inception\n",
      "\n",
      "It is now Harry Potter and the Python-Prince\n",
      "\n",
      "['The_Intouchables', 'The Philosophers', 'The Big Lebowski', 'The Imitation Game', 'The Great Gatsby', 'Shutter Island', 'Shutter Island', 'Shindlers List', 'Retired Extremely Dangerous', 'Love actually', 'Lord of the Rings - The Two Towers', 'James Bond', 'Interstellar', 'Inception', 'Harry Potter and the Python-Prince', 'Harry Potter and the MatLab-Prince', 'Harry Potter', 'Forrest Gump', 'Fight Club', 'Call Me by Your Name', 'My Neighbor Totoro']\n"
     ]
    }
   ],
   "source": [
    "print('The element at index 14 of the list movies is: %s\\n' %movies[14])\n",
    "movies[14] = 'Harry Potter and the Python-Prince'\n",
    "print('It is now %s\\n' %movies[14])\n",
    "print(movies)"
   ]
  },
  {
   "cell_type": "markdown",
   "metadata": {
    "slideshow": {
     "slide_type": "fragment"
    }
   },
   "source": [
    "Please note that this is final and the original `value` overwritten. The characteristic of modifying `lists` by `assigning` new `values` to `elements` in the `list` is called `mutable` in technical jargon."
   ]
  },
  {
   "cell_type": "markdown",
   "metadata": {
    "slideshow": {
     "slide_type": "subslide"
    }
   },
   "source": [
    "If you want to remove an `element` of a given `list` (e.g. you noticed there are unwanted duplicates, etc.), you basically have two options `list.remove(element)` and `del list[index]` and which one you have to use depends on the goal. As you can see `.remove(element)` expects the `element` that should be removed from the `list`, that is the `element` with the specified `value`. For example, if we want to remove the duplicate `Shutter Island`, we can do the following:  "
   ]
  },
  {
   "cell_type": "code",
   "execution_count": 120,
   "metadata": {
    "slideshow": {
     "slide_type": "fragment"
    }
   },
   "outputs": [
    {
     "name": "stdout",
     "output_type": "stream",
     "text": [
      "['The_Intouchables', 'The Philosophers', 'The Big Lebowski', 'The Imitation Game', 'The Great Gatsby', 'Shutter Island', 'Shindlers List', 'Retired Extremely Dangerous', 'Love actually', 'Lord of the Rings - The Two Towers', 'James Bond', 'Interstellar', 'Inception', 'Harry Potter and the Python-Prince', 'Harry Potter and the MatLab-Prince', 'Harry Potter', 'Forrest Gump', 'Fight Club', 'Call Me by Your Name', 'My Neighbor Totoro']\n"
     ]
    }
   ],
   "source": [
    "movies.remove(\"Shutter Island\")\n",
    "print(movies)"
   ]
  },
  {
   "cell_type": "markdown",
   "metadata": {
    "slideshow": {
     "slide_type": "fragment"
    }
   },
   "source": [
    "As you can see, only one \"Shutter Island\" is removed and not both, this is because `.remove(element)` only removes the first `element` of the `specified` value. Thus, if there are more `elements` you want to remove, the `del` `function` could be more handy.  "
   ]
  },
  {
   "cell_type": "markdown",
   "metadata": {
    "slideshow": {
     "slide_type": "subslide"
    }
   },
   "source": [
    "You may have noticed that the `del` `function` expects the `index` of the `element` that should be removed from the `list`. Thus, if we, for example, want to remove the duplicate `Inception`, we can also achieve that via the following: "
   ]
  },
  {
   "cell_type": "code",
   "execution_count": 121,
   "metadata": {
    "slideshow": {
     "slide_type": "fragment"
    }
   },
   "outputs": [
    {
     "name": "stdout",
     "output_type": "stream",
     "text": [
      "['The_Intouchables', 'The Philosophers', 'The Big Lebowski', 'The Imitation Game', 'The Great Gatsby', 'Shutter Island', 'Shindlers List', 'Retired Extremely Dangerous', 'Love actually', 'Lord of the Rings - The Two Towers', 'James Bond', 'Interstellar', 'Harry Potter and the Python-Prince', 'Harry Potter and the MatLab-Prince', 'Harry Potter', 'Forrest Gump', 'Fight Club', 'Call Me by Your Name', 'My Neighbor Totoro']\n"
     ]
    }
   ],
   "source": [
    "del movies[12]\n",
    "print(movies)"
   ]
  },
  {
   "cell_type": "markdown",
   "metadata": {
    "slideshow": {
     "slide_type": "subslide"
    }
   },
   "source": [
    "If there are multiple `elements` you want to remove, you can make use of `slicing` again. For example, our `snack` `list` has multiple `elements` with the `value` `chocolate`. Nothing against `chocolate`, but you might want to have this `value` only once in our `list`. To achieve that, we basically combing `slicing` and `del` via indicating what `indices` should be removed:"
   ]
  },
  {
   "cell_type": "code",
   "execution_count": 122,
   "metadata": {
    "slideshow": {
     "slide_type": "fragment"
    }
   },
   "outputs": [
    {
     "name": "stdout",
     "output_type": "stream",
     "text": [
      "['Banana', 'Kinder bueno', 'PB&J', 'Pringles', 'Rocher', 'carrots', 'chocolate', 'dark chocolate', 'dominoes', 'dried mango', 'fruit', 'hummus', 'mint chocolate', 'pancakes', 'snickers', 'snickers', 'sushi', 'too complicated', 'Wasabi Peanuts']\n"
     ]
    }
   ],
   "source": [
    "del snacks[7:9]\n",
    "print(snacks)"
   ]
  },
  {
   "cell_type": "markdown",
   "metadata": {
    "slideshow": {
     "slide_type": "subslide"
    }
   },
   "source": [
    "`List`s play a very important role in `python` and are for example used in `loops` and other `flow control structures` (discussed in the next session). There are a number of convenient `functions` for generating `list`s of various `types`, for example, the `range` function (note that in Python 3 `range` creates a generator, so you have to use the `list` `function` to convert the output to a `list`). Creating a `list` that ranges from `10` to `50` advancing in steps of `2` is as easy as:"
   ]
  },
  {
   "cell_type": "code",
   "execution_count": 123,
   "metadata": {
    "slideshow": {
     "slide_type": "fragment"
    }
   },
   "outputs": [
    {
     "data": {
      "text/plain": [
       "[10,\n",
       " 12,\n",
       " 14,\n",
       " 16,\n",
       " 18,\n",
       " 20,\n",
       " 22,\n",
       " 24,\n",
       " 26,\n",
       " 28,\n",
       " 30,\n",
       " 32,\n",
       " 34,\n",
       " 36,\n",
       " 38,\n",
       " 40,\n",
       " 42,\n",
       " 44,\n",
       " 46,\n",
       " 48]"
      ]
     },
     "execution_count": 123,
     "metadata": {},
     "output_type": "execute_result"
    }
   ],
   "source": [
    "start = 10\n",
    "stop = 50\n",
    "step = 2\n",
    "\n",
    "list(range(start, stop, step))"
   ]
  },
  {
   "cell_type": "markdown",
   "metadata": {
    "slideshow": {
     "slide_type": "fragment"
    }
   },
   "source": [
    "This can be very handy if you want to create `participant list`s and/or `condition list`s for your experiment and/or analyzes."
   ]
  },
  {
   "cell_type": "markdown",
   "metadata": {},
   "source": [
    "##### Exercise 6.1 \n",
    "\n",
    "Create a `variable` called `rare_animals` that stores the following `values`: 'Addax', 'Black-footed Ferret', 'Northern Bald Ibis', 'Cross River Gorilla', 'Saola', 'Amur Leopard', 'Philippine Crocodile', 'Sumatran Rhino', 'South China Tiger', 'Vaquita'. After that, please count how many `elements` the `list` has and provide the info within the following statement: \"There are [insert number of elements here] animals in the list.\"     "
   ]
  },
  {
   "cell_type": "code",
   "execution_count": null,
   "metadata": {
    "solution2": "hidden",
    "solution2_first": true
   },
   "outputs": [],
   "source": [
    "# Please write your solution here"
   ]
  },
  {
   "cell_type": "code",
   "execution_count": 124,
   "metadata": {
    "solution2": "hidden"
   },
   "outputs": [
    {
     "name": "stdout",
     "output_type": "stream",
     "text": [
      "There are 10 animals in the list.\n"
     ]
    }
   ],
   "source": [
    "rare_animals = ['Addax', 'Black-footed Ferret', 'Northern Bald Ibis', 'Cross River Gorilla', 'Saola', 'Amur Leopard', 'Philippine Crocodile', 'Sumatran Rhino', 'South China Tiger', 'Vaquita']\n",
    "print(\"There are %s animals in the list.\" %len(rare_animals))"
   ]
  },
  {
   "cell_type": "markdown",
   "metadata": {},
   "source": [
    "##### Exercise 6.2\n",
    "\n",
    "Please add 'Manatee' to the list and subsequently evaluate how many unique `elements` the list has. "
   ]
  },
  {
   "cell_type": "code",
   "execution_count": null,
   "metadata": {
    "solution2": "hidden",
    "solution2_first": true
   },
   "outputs": [],
   "source": [
    "# Please write your solution here"
   ]
  },
  {
   "cell_type": "code",
   "execution_count": 125,
   "metadata": {
    "solution2": "hidden"
   },
   "outputs": [
    {
     "data": {
      "text/plain": [
       "11"
      ]
     },
     "execution_count": 125,
     "metadata": {},
     "output_type": "execute_result"
    }
   ],
   "source": [
    "rare_animals.append('Manatee')\n",
    "len(set(rare_animals))"
   ]
  },
  {
   "cell_type": "markdown",
   "metadata": {},
   "source": [
    "##### Exercise 6.3\n",
    "\n",
    "Learning that the `manatee` is not endangered anymore, please remove it from the list. Unfortunately, we have to add \"Giant Panda\". Could you please do that at `index` `3`."
   ]
  },
  {
   "cell_type": "code",
   "execution_count": null,
   "metadata": {
    "solution2": "hidden",
    "solution2_first": true
   },
   "outputs": [],
   "source": [
    "# Please write your solution here"
   ]
  },
  {
   "cell_type": "code",
   "execution_count": 126,
   "metadata": {
    "solution2": "hidden"
   },
   "outputs": [
    {
     "data": {
      "text/plain": [
       "['Addax',\n",
       " 'Black-footed Ferret',\n",
       " 'Giant Panda',\n",
       " 'Northern Bald Ibis',\n",
       " 'Cross River Gorilla',\n",
       " 'Saola',\n",
       " 'Amur Leopard',\n",
       " 'Philippine Crocodile',\n",
       " 'Sumatran Rhino',\n",
       " 'South China Tiger',\n",
       " 'Vaquita']"
      ]
     },
     "execution_count": 126,
     "metadata": {},
     "output_type": "execute_result"
    }
   ],
   "source": [
    "rare_animals.remove('Manatee') # or del rare_animals[11]\n",
    "rare_animals.insert(2, 'Giant Panda')\n",
    "rare_animals"
   ]
  },
  {
   "cell_type": "markdown",
   "metadata": {
    "slideshow": {
     "slide_type": "subslide"
    }
   },
   "source": [
    "### Tuples\n",
    "\n",
    "`Tuples` are like `lists`, except that they cannot be modified once created, that is they are **immutable**. \n",
    "\n",
    "</br>\n",
    "<center><img src=\"https://raw.githubusercontent.com/PeerHerholz/Python_for_Psychologists_Winter2021/master/lecture/static/python_data_types_2.png\"></center>\n",
    "\n",
    "In `python`, `tuples` are created using the syntax `(..., ..., ...)`, or even `..., ...`:"
   ]
  },
  {
   "cell_type": "code",
   "execution_count": 127,
   "metadata": {
    "slideshow": {
     "slide_type": "subslide"
    }
   },
   "outputs": [
    {
     "name": "stdout",
     "output_type": "stream",
     "text": [
      "<class 'tuple'>\n",
      "(10, 20, 'Whoa another thing')\n"
     ]
    }
   ],
   "source": [
    "point = (10, 20, 'Whoa another thing')\n",
    "print(type(point))\n",
    "print(point)"
   ]
  },
  {
   "cell_type": "markdown",
   "metadata": {
    "slideshow": {
     "slide_type": "fragment"
    }
   },
   "source": [
    "`Elements` of `tuples` can also be referenced via their respective `index`:"
   ]
  },
  {
   "cell_type": "code",
   "execution_count": 128,
   "metadata": {},
   "outputs": [
    {
     "name": "stdout",
     "output_type": "stream",
     "text": [
      "10\n",
      "20\n",
      "Whoa another thing\n"
     ]
    }
   ],
   "source": [
    "print(point[0])\n",
    "print(point[1])\n",
    "print(point[2])"
   ]
  },
  {
   "cell_type": "markdown",
   "metadata": {
    "slideshow": {
     "slide_type": "subslide"
    }
   },
   "source": [
    "However, as mentioned above, if we try to `assign` a new `value` to an `element` in a `tuple` we get an `error`:"
   ]
  },
  {
   "cell_type": "code",
   "execution_count": 129,
   "metadata": {
    "slideshow": {
     "slide_type": "fragment"
    }
   },
   "outputs": [
    {
     "name": "stdout",
     "output_type": "stream",
     "text": [
      "TypeError: 'tuple' object does not support item assignment\n"
     ]
    }
   ],
   "source": [
    "try:\n",
    "    point[0] = 20\n",
    "except(TypeError) as er:\n",
    "    print(\"TypeError:\", er)\n",
    "else:\n",
    "    raise"
   ]
  },
  {
   "cell_type": "markdown",
   "metadata": {
    "slideshow": {
     "slide_type": "fragment"
    }
   },
   "source": [
    "Thus, `tuples` also don't have the set of `functions` to modify `elements` `lists` do."
   ]
  },
  {
   "cell_type": "markdown",
   "metadata": {},
   "source": [
    "##### Exercise 7.1\n",
    "\n",
    "Please create a `tuple` called `deep_thought` with the following `values`: 'answer', `42`."
   ]
  },
  {
   "cell_type": "code",
   "execution_count": null,
   "metadata": {
    "solution2": "hidden",
    "solution2_first": true
   },
   "outputs": [],
   "source": [
    "# Please write your solution here"
   ]
  },
  {
   "cell_type": "code",
   "execution_count": 130,
   "metadata": {
    "solution2": "hidden"
   },
   "outputs": [
    {
     "data": {
      "text/plain": [
       "('answer', 42)"
      ]
     },
     "execution_count": 130,
     "metadata": {},
     "output_type": "execute_result"
    }
   ],
   "source": [
    "deep_thought = ('answer', 42)\n",
    "deep_thought"
   ]
  },
  {
   "cell_type": "markdown",
   "metadata": {
    "slideshow": {
     "slide_type": "subslide"
    }
   },
   "source": [
    "### Dictionaries\n",
    "\n",
    "`Dictionaries` are also like `lists`, except that each element is a `key-value pair`. That is, `elements` or `entries` of the `dictionary`, the `values`, can only be assessed via their respective `key` and not via `indexing`, `slicing`, etc. . \n",
    "\n",
    "</br>\n",
    "<center><img src=\"https://raw.githubusercontent.com/PeerHerholz/Python_for_Psychologists_Winter2021/master/lecture/static/python_data_types_2.png\"></center>\n",
    "\n",
    "The syntax for dictionaries is `{key1 : value1, ...}`."
   ]
  },
  {
   "cell_type": "markdown",
   "metadata": {
    "slideshow": {
     "slide_type": "subslide"
    }
   },
   "source": [
    "`Dictionaries` are fantastic if you need to organize your data in a highly `structured` way where a precise mapping of a multiple of `type`s is crucial and `list`s might be insufficient. For example, we want to have the information we assessed above for our `list`s in a detailed and holistic manner. Instead of specifying multiple `list`s and `variables`, we could also create a `dictionary` that comprises all of that information."
   ]
  },
  {
   "cell_type": "code",
   "execution_count": 131,
   "metadata": {
    "slideshow": {
     "slide_type": "fragment"
    }
   },
   "outputs": [
    {
     "name": "stdout",
     "output_type": "stream",
     "text": [
      "<class 'dict'>\n",
      "{'n_responses': 19, 'n_responses_unique': 19, 'responses': ['The_Intouchables', 'The Philosophers', 'The Big Lebowski', 'The Imitation Game', 'The Great Gatsby', 'Shutter Island', 'Shindlers List', 'Retired Extremely Dangerous', 'Love actually', 'Lord of the Rings - The Two Towers', 'James Bond', 'Interstellar', 'Harry Potter and the Python-Prince', 'Harry Potter and the MatLab-Prince', 'Harry Potter', 'Forrest Gump', 'Fight Club', 'Call Me by Your Name', 'My Neighbor Totoro']}\n"
     ]
    }
   ],
   "source": [
    "movie_info = {\"n_responses\" :        len(movies),\n",
    "              \"n_responses_unique\" : len(set(movies)),\n",
    "              \"responses\" :          movies}\n",
    "\n",
    "print(type(movie_info))\n",
    "print(movie_info)"
   ]
  },
  {
   "cell_type": "markdown",
   "metadata": {
    "slideshow": {
     "slide_type": "subslide"
    }
   },
   "source": [
    "See how great this is? We have everything in one place and can access the information we need/want via the respective `key`."
   ]
  },
  {
   "cell_type": "code",
   "execution_count": 132,
   "metadata": {
    "slideshow": {
     "slide_type": "fragment"
    }
   },
   "outputs": [
    {
     "data": {
      "text/plain": [
       "19"
      ]
     },
     "execution_count": 132,
     "metadata": {},
     "output_type": "execute_result"
    }
   ],
   "source": [
    "movie_info['n_responses']"
   ]
  },
  {
   "cell_type": "code",
   "execution_count": 133,
   "metadata": {
    "slideshow": {
     "slide_type": "fragment"
    }
   },
   "outputs": [
    {
     "data": {
      "text/plain": [
       "19"
      ]
     },
     "execution_count": 133,
     "metadata": {},
     "output_type": "execute_result"
    }
   ],
   "source": [
    "movie_info['n_responses_unique']"
   ]
  },
  {
   "cell_type": "code",
   "execution_count": 134,
   "metadata": {
    "slideshow": {
     "slide_type": "fragment"
    }
   },
   "outputs": [
    {
     "data": {
      "text/plain": [
       "['The_Intouchables',\n",
       " 'The Philosophers',\n",
       " 'The Big Lebowski',\n",
       " 'The Imitation Game',\n",
       " 'The Great Gatsby',\n",
       " 'Shutter Island',\n",
       " 'Shindlers List',\n",
       " 'Retired Extremely Dangerous',\n",
       " 'Love actually',\n",
       " 'Lord of the Rings - The Two Towers',\n",
       " 'James Bond',\n",
       " 'Interstellar',\n",
       " 'Harry Potter and the Python-Prince',\n",
       " 'Harry Potter and the MatLab-Prince',\n",
       " 'Harry Potter',\n",
       " 'Forrest Gump',\n",
       " 'Fight Club',\n",
       " 'Call Me by Your Name',\n",
       " 'My Neighbor Totoro']"
      ]
     },
     "execution_count": 134,
     "metadata": {},
     "output_type": "execute_result"
    }
   ],
   "source": [
    "movie_info['responses']"
   ]
  },
  {
   "cell_type": "markdown",
   "metadata": {
    "slideshow": {
     "slide_type": "subslide"
    }
   },
   "source": [
    "As you can see and mentioned before: like `list`s, each `value` of a `dictionary` can entail various `types`: `integer`, `float`, `string` and even `data types`: `list`s, `tuples`, etc. . However, in contrast to `list`s, we can access `entries` can only via their `key name` and not `indices`:"
   ]
  },
  {
   "cell_type": "code",
   "execution_count": 135,
   "metadata": {
    "slideshow": {
     "slide_type": "fragment"
    }
   },
   "outputs": [
    {
     "ename": "KeyError",
     "evalue": "1",
     "output_type": "error",
     "traceback": [
      "\u001b[0;31m---------------------------------------------------------------------------\u001b[0m",
      "\u001b[0;31mKeyError\u001b[0m                                  Traceback (most recent call last)",
      "\u001b[0;32m/var/folders/61/0lj9r7px3k52gv9yfyx6ky300000gn/T/ipykernel_24944/2976284230.py\u001b[0m in \u001b[0;36m<module>\u001b[0;34m\u001b[0m\n\u001b[0;32m----> 1\u001b[0;31m \u001b[0mmovie_info\u001b[0m\u001b[0;34m[\u001b[0m\u001b[0;36m1\u001b[0m\u001b[0;34m]\u001b[0m\u001b[0;34m\u001b[0m\u001b[0;34m\u001b[0m\u001b[0m\n\u001b[0m",
      "\u001b[0;31mKeyError\u001b[0m: 1"
     ]
    }
   ],
   "source": [
    "movie_info[1]"
   ]
  },
  {
   "cell_type": "markdown",
   "metadata": {
    "slideshow": {
     "slide_type": "fragment"
    }
   },
   "source": [
    "If you try that, you'll get a `KeyError` indicating that the `key` whose `value` you want to access doesn't exist.\n",
    "If you're uncertain about the `keys` in your `dictionary`, you can get a `list` of all of them via `dictionary.keys`:"
   ]
  },
  {
   "cell_type": "code",
   "execution_count": 136,
   "metadata": {
    "slideshow": {
     "slide_type": "fragment"
    }
   },
   "outputs": [
    {
     "data": {
      "text/plain": [
       "dict_keys(['n_responses', 'n_responses_unique', 'responses'])"
      ]
     },
     "execution_count": 136,
     "metadata": {},
     "output_type": "execute_result"
    }
   ],
   "source": [
    "movie_info.keys()"
   ]
  },
  {
   "cell_type": "markdown",
   "metadata": {
    "slideshow": {
     "slide_type": "subslide"
    }
   },
   "source": [
    "Comparably, if you want to get all the `values`, you can use `dictionary.values` to obtain a respective `list`:"
   ]
  },
  {
   "cell_type": "code",
   "execution_count": 137,
   "metadata": {
    "slideshow": {
     "slide_type": "fragment"
    }
   },
   "outputs": [
    {
     "data": {
      "text/plain": [
       "dict_values([19, 19, ['The_Intouchables', 'The Philosophers', 'The Big Lebowski', 'The Imitation Game', 'The Great Gatsby', 'Shutter Island', 'Shindlers List', 'Retired Extremely Dangerous', 'Love actually', 'Lord of the Rings - The Two Towers', 'James Bond', 'Interstellar', 'Harry Potter and the Python-Prince', 'Harry Potter and the MatLab-Prince', 'Harry Potter', 'Forrest Gump', 'Fight Club', 'Call Me by Your Name', 'My Neighbor Totoro']])"
      ]
     },
     "execution_count": 137,
     "metadata": {},
     "output_type": "execute_result"
    }
   ],
   "source": [
    "movie_info.values()"
   ]
  },
  {
   "cell_type": "markdown",
   "metadata": {
    "slideshow": {
     "slide_type": "subslide"
    }
   },
   "source": [
    "Assuming you want to add new information to your `dictionary`, i.e. a new `key`, this can directly be done via `dictionary[new_key] = value`. For example, you run some stats on our `list` of `movies` and determined that this selection is `significantly awesome` with a `p value` of `0.000001`, we can easily add this to our `dictionary`:"
   ]
  },
  {
   "cell_type": "code",
   "execution_count": 138,
   "metadata": {
    "slideshow": {
     "slide_type": "fragment"
    }
   },
   "outputs": [
    {
     "data": {
      "text/plain": [
       "{'n_responses': 19,\n",
       " 'n_responses_unique': 19,\n",
       " 'responses': ['The_Intouchables',\n",
       "  'The Philosophers',\n",
       "  'The Big Lebowski',\n",
       "  'The Imitation Game',\n",
       "  'The Great Gatsby',\n",
       "  'Shutter Island',\n",
       "  'Shindlers List',\n",
       "  'Retired Extremely Dangerous',\n",
       "  'Love actually',\n",
       "  'Lord of the Rings - The Two Towers',\n",
       "  'James Bond',\n",
       "  'Interstellar',\n",
       "  'Harry Potter and the Python-Prince',\n",
       "  'Harry Potter and the MatLab-Prince',\n",
       "  'Harry Potter',\n",
       "  'Forrest Gump',\n",
       "  'Fight Club',\n",
       "  'Call Me by Your Name',\n",
       "  'My Neighbor Totoro'],\n",
       " 'movie_selection_awesome': True,\n",
       " 'movie_selection_awesome_p_value': 1e-06}"
      ]
     },
     "execution_count": 138,
     "metadata": {},
     "output_type": "execute_result"
    }
   ],
   "source": [
    "movie_info['movie_selection_awesome'] = True\n",
    "movie_info['movie_selection_awesome_p_value'] = 0.000001\n",
    "movie_info"
   ]
  },
  {
   "cell_type": "markdown",
   "metadata": {
    "slideshow": {
     "slide_type": "subslide"
    }
   },
   "source": [
    "As with `list`s, the `value` of a given `element`, here `entry` can be modified and deleted. This means they are `mutable`. If we for example forgot to correct our `p value` for `multiple comparisons`, we can simply overwrite the original with corrected one: "
   ]
  },
  {
   "cell_type": "code",
   "execution_count": 139,
   "metadata": {},
   "outputs": [
    {
     "data": {
      "text/plain": [
       "{'n_responses': 19,\n",
       " 'n_responses_unique': 19,\n",
       " 'responses': ['The_Intouchables',\n",
       "  'The Philosophers',\n",
       "  'The Big Lebowski',\n",
       "  'The Imitation Game',\n",
       "  'The Great Gatsby',\n",
       "  'Shutter Island',\n",
       "  'Shindlers List',\n",
       "  'Retired Extremely Dangerous',\n",
       "  'Love actually',\n",
       "  'Lord of the Rings - The Two Towers',\n",
       "  'James Bond',\n",
       "  'Interstellar',\n",
       "  'Harry Potter and the Python-Prince',\n",
       "  'Harry Potter and the MatLab-Prince',\n",
       "  'Harry Potter',\n",
       "  'Forrest Gump',\n",
       "  'Fight Club',\n",
       "  'Call Me by Your Name',\n",
       "  'My Neighbor Totoro'],\n",
       " 'movie_selection_awesome': True,\n",
       " 'movie_selection_awesome_p_value': 0.001}"
      ]
     },
     "execution_count": 139,
     "metadata": {},
     "output_type": "execute_result"
    }
   ],
   "source": [
    "movie_info['movie_selection_awesome_p_value'] = 0.001\n",
    "movie_info"
   ]
  },
  {
   "cell_type": "markdown",
   "metadata": {
    "slideshow": {
     "slide_type": "subslide"
    }
   },
   "source": [
    "Assuming we then want to delete the `p value` from our `dictionary` because we remembered that the sole focus on `significance` and `p values` brought the entirety of science down to a very bad place, we can achieve this via:"
   ]
  },
  {
   "cell_type": "code",
   "execution_count": 140,
   "metadata": {
    "slideshow": {
     "slide_type": "fragment"
    }
   },
   "outputs": [
    {
     "data": {
      "text/plain": [
       "{'n_responses': 19,\n",
       " 'n_responses_unique': 19,\n",
       " 'responses': ['The_Intouchables',\n",
       "  'The Philosophers',\n",
       "  'The Big Lebowski',\n",
       "  'The Imitation Game',\n",
       "  'The Great Gatsby',\n",
       "  'Shutter Island',\n",
       "  'Shindlers List',\n",
       "  'Retired Extremely Dangerous',\n",
       "  'Love actually',\n",
       "  'Lord of the Rings - The Two Towers',\n",
       "  'James Bond',\n",
       "  'Interstellar',\n",
       "  'Harry Potter and the Python-Prince',\n",
       "  'Harry Potter and the MatLab-Prince',\n",
       "  'Harry Potter',\n",
       "  'Forrest Gump',\n",
       "  'Fight Club',\n",
       "  'Call Me by Your Name',\n",
       "  'My Neighbor Totoro'],\n",
       " 'movie_selection_awesome': True}"
      ]
     },
     "execution_count": 140,
     "metadata": {},
     "output_type": "execute_result"
    }
   ],
   "source": [
    "del movie_info['movie_selection_awesome_p_value']\n",
    "movie_info"
   ]
  },
  {
   "cell_type": "markdown",
   "metadata": {
    "slideshow": {
     "slide_type": "subslide"
    }
   },
   "source": [
    "##### Exercise 8.1\n",
    "\n",
    "Oh damn, we completely forgot to create a comparable `dictionary` for our `snacks` `list`. How would create one that follows the example from the `movie` `list`? NB: you can skip the `p value` right away: "
   ]
  },
  {
   "cell_type": "code",
   "execution_count": null,
   "metadata": {
    "solution2": "hidden",
    "solution2_first": true
   },
   "outputs": [],
   "source": [
    "# Please write your solution here"
   ]
  },
  {
   "cell_type": "code",
   "execution_count": 141,
   "metadata": {
    "solution2": "hidden"
   },
   "outputs": [
    {
     "name": "stdout",
     "output_type": "stream",
     "text": [
      "<class 'dict'>\n",
      "{'n_responses': 19, 'n_responses_unique': 18, 'responses': ['Banana', 'Kinder bueno', 'PB&J', 'Pringles', 'Rocher', 'carrots', 'chocolate', 'dark chocolate', 'dominoes', 'dried mango', 'fruit', 'hummus', 'mint chocolate', 'pancakes', 'snickers', 'snickers', 'sushi', 'too complicated', 'Wasabi Peanuts'], 'snack_selection_awesome': True}\n"
     ]
    }
   ],
   "source": [
    "snack_info = {\"n_responses\" :            len(snacks),\n",
    "              \"n_responses_unique\" :     len(set(snacks)),\n",
    "              \"responses\" :              snacks,\n",
    "              \"snack_selection_awesome\": True}\n",
    "\n",
    "print(type(snack_info))\n",
    "print(snack_info)"
   ]
  },
  {
   "cell_type": "markdown",
   "metadata": {
    "slideshow": {
     "slide_type": "subslide"
    }
   },
   "source": [
    "##### Exercise 8.2 \n",
    "\n",
    "Obviously, we would love to do the same thing for our `list` of `animals` again!"
   ]
  },
  {
   "cell_type": "code",
   "execution_count": null,
   "metadata": {
    "solution2": "hidden",
    "solution2_first": true
   },
   "outputs": [],
   "source": [
    "# Please write your solution here"
   ]
  },
  {
   "cell_type": "code",
   "execution_count": 142,
   "metadata": {
    "solution2": "hidden"
   },
   "outputs": [
    {
     "name": "stdout",
     "output_type": "stream",
     "text": [
      "<class 'dict'>\n",
      "{'n_responses': 8, 'n_responses_unique': 8, 'responses': ['barred owl', 'cat', 'Manatee', 'coral', 'elephant', 'groundhog', 'lizard', 'bear'], 'animal_selection_awesome': True}\n"
     ]
    }
   ],
   "source": [
    "animal_info = {\"n_responses\" :            len(animals),\n",
    "              \"n_responses_unique\" :      len(set(animals)),\n",
    "              \"responses\" :               animals,\n",
    "              \"animal_selection_awesome\": True}\n",
    "\n",
    "print(type(animal_info))\n",
    "print(animal_info)"
   ]
  },
  {
   "cell_type": "markdown",
   "metadata": {
    "slideshow": {
     "slide_type": "subslide"
    }
   },
   "source": [
    "### Everything is an object in Python\n",
    "\n",
    "* All of these `data types` are actually just `objects` in `python`\n",
    "* *Everything* is an object in `python`!\n",
    "* The `operations` you can perform with a `variable` depend on the `object`'s definition\n",
    "* E.g., the `multiplication operator` `*` is defined for some `objects` but not others\n",
    "\n",
    "</br>\n",
    "<center><img src=\"https://raw.githubusercontent.com/PeerHerholz/Python_for_Psychologists_Winter2021/master/lecture/static/python_data_types_2.png\"></center>"
   ]
  }
 ],
 "metadata": {
  "anaconda-cloud": {},
  "celltoolbar": "Slideshow",
  "kernelspec": {
   "display_name": "Python [conda env:pfp_2021] *",
   "language": "python",
   "name": "conda-env-pfp_2021-py"
  },
  "language_info": {
   "codemirror_mode": {
    "name": "ipython",
    "version": 3
   },
   "file_extension": ".py",
   "mimetype": "text/x-python",
   "name": "python",
   "nbconvert_exporter": "python",
   "pygments_lexer": "ipython3",
   "version": "3.9.7"
  }
 },
 "nbformat": 4,
 "nbformat_minor": 2
}
