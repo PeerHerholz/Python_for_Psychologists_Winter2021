{
 "cells": [
  {
   "cell_type": "markdown",
   "metadata": {},
   "source": [
    "# Data analyzes I - basics in data handling\n",
    "\n",
    "[Peer Herholz (he/him)](https://peerherholz.github.io/)  \n",
    "Habilitation candidate  - [Fiebach Lab](http://www.fiebachlab.org/), [Neurocognitive Psychology](https://www.psychologie.uni-frankfurt.de/49868684/Abteilungen) at [Goethe-University Frankfurt](https://www.goethe-university-frankfurt.de/en?locale=en)    \n",
    "Research affiliate - [NeuroDataScience lab](https://neurodatascience.github.io/) at [MNI](https://www.mcgill.ca/neuro/)/[McGill](https://www.mcgill.ca/)  \n",
    "Member - [BIDS](https://bids-specification.readthedocs.io/en/stable/), [ReproNim](https://www.repronim.org/), [Brainhack](https://brainhack.org/), [Neuromod](https://www.cneuromod.ca/), [OHBM SEA-SIG](https://ohbm-environment.org/), [UNIQUE](https://sites.google.com/view/unique-neuro-ai)  \n",
    "\n",
    "<img align=\"left\" src=\"https://raw.githubusercontent.com/G0RELLA/gorella_mwn/master/lecture/static/Twitter%20social%20icons%20-%20circle%20-%20blue.png\" alt=\"logo\" title=\"Twitter\" width=\"32\" height=\"20\" /> <img align=\"left\" src=\"https://raw.githubusercontent.com/G0RELLA/gorella_mwn/master/lecture/static/GitHub-Mark-120px-plus.png\" alt=\"logo\" title=\"Github\" width=\"30\" height=\"20\" />   &nbsp;&nbsp;@peerherholz \n",
    "\n"
   ]
  },
  {
   "cell_type": "markdown",
   "metadata": {
    "slideshow": {
     "slide_type": "slide"
    }
   },
   "source": [
    "## Before we get started ...\n",
    "<br>\n",
    "\n",
    "- most of what you’ll see within this lecture was prepared by Ross Markello, Michael Notter and Peer Herholz and further adapted for this course by Peer Herholz \n",
    "- based on Tal Yarkoni's [\"Introduction to Python\" lecture at Neurohackademy 2019](https://neurohackademy.org/course/introduction-to-python-2/)\n",
    "- based on [10 minutes to pandas](https://pandas.pydata.org/pandas-docs/stable/user_guide/10min.html)"
   ]
  },
  {
   "cell_type": "markdown",
   "metadata": {
    "slideshow": {
     "slide_type": "slide"
    }
   },
   "source": [
    "## Objectives 📍\n",
    "\n",
    "* learn basic and efficient usage of python for data analyzes & visualization\n",
    "    * working with data: \n",
    "        * reading, working, writing\n",
    "        * preprocessing, filtering, wrangling\n",
    "    * visualizing data:\n",
    "        * basic plots\n",
    "        * advanced & fancy stuff"
   ]
  },
  {
   "cell_type": "markdown",
   "metadata": {
    "slideshow": {
     "slide_type": "slide"
    }
   },
   "source": [
    "## Why do data science in Python?\n",
    "\n",
    "* all the general benefits of the `Python language` (`open source`, fast, etc.)\n",
    "    * Specifically, it's a **widely used/very flexible**, **high-level**, **general-purpose**, **dynamic** programming language\n",
    "* the `Python ecosystem` contains tens of thousands of packages, several are very widely used in data science applications:\n",
    "    * Jupyter: interactive notebooks\n",
    "    * Numpy: numerical computing in Python\n",
    "    * pandas: data structures for Python\n",
    "    * pingouin: statistics in Python\n",
    "    * statsmodels: statistics in Python    \n",
    "    * seaborn: data visualization in Python    \n",
    "    * plotly: interactive data visualization in Python    \n",
    "    * Scipy: scientific Python tools\n",
    "    * Matplotlib: plotting in Python\n",
    "    * scikit-learn: machine learning in Python"
   ]
  },
  {
   "cell_type": "markdown",
   "metadata": {
    "slideshow": {
     "slide_type": "subslide"
    }
   },
   "source": [
    "* even more: `Python` has very good (often best-in-class) external packages for almost everything\n",
    "* Particularly important for data science, which draws on a very broad toolkit\n",
    "* Package management is easy (conda, pip)\n",
    "* Examples for further important/central python data science packages :\n",
    "    * Web development: flask, Django\n",
    "    * Database ORMs: SQLAlchemy, Django ORM (w/ adapters for all major DBs)\n",
    "    * Scraping/parsing text/markup: beautifulsoup, scrapy\n",
    "    * Natural language processing (NLP): nltk, gensim, textblob\n",
    "    * Numerical computation and data analysis: numpy, scipy, pandas, xarray\n",
    "    * Machine learning: scikit-learn, Tensorflow, keras\n",
    "    * Image processing: pillow, scikit-image, OpenCV\n",
    "    * Plotting: matplotlib, seaborn, altair, ggplot, Bokeh\n",
    "    * GUI development: pyQT, wxPython\n",
    "    * Testing: py.test"
   ]
  },
  {
   "cell_type": "markdown",
   "metadata": {
    "slideshow": {
     "slide_type": "subslide"
    }
   },
   "source": [
    "### Widely-used\n",
    "* Python is the fastest-growing major programming language\n",
    "* Top 3 overall (with JavaScript, Java)"
   ]
  },
  {
   "cell_type": "markdown",
   "metadata": {
    "slideshow": {
     "slide_type": "subslide"
    }
   },
   "source": [
    "<center><img src=\"https://149351115.v2.pressablecdn.com/wp-content/uploads/2017/09/growth_major_languages-1-1400x1200.png\" width=\"800px\" style=\"margin-bottom: 10px;\"></center>"
   ]
  },
  {
   "cell_type": "markdown",
   "metadata": {
    "slideshow": {
     "slide_type": "slide"
    }
   },
   "source": [
    "What we will do in this section of the course is a _short_ introduction to `Python` for `data analyses` including basic `data operations` like `file reading` and `wrangling`, as well as `statistics` and `data visualization`. The goal is to showcase crucial tools/resources and their underlying working principles to allow further more in-depth exploration and direct application. \n",
    "\n",
    "It is divided into the following chapters:\n",
    "\n",
    "- [Getting ready]()\n",
    "- [Basic data operations]()\n",
    "    - [Reading data]()\n",
    "    - [Exploring data]()\n",
    "    - [Data wrangling]()\n",
    "- [Basic data visualization]()    \n",
    "    - [Underlying principles]()\n",
    "    - [\"standard\" plots]()\n",
    "    - [Going further with advanced plots]()\n",
    "- [Statistics in python]()\n",
    "    - [Descriptive analyses]()\n",
    "    - [Inferential analyses]()\n",
    "- [Interactive data visualization]()"
   ]
  },
  {
   "cell_type": "markdown",
   "metadata": {
    "slideshow": {
     "slide_type": "subslide"
    }
   },
   "source": [
    "Here's what we will focus on in the first block:\n",
    "\n",
    "- [Getting ready]()\n",
    "- [Basic data operations]()\n",
    "    - [Reading data]()\n",
    "    - [Exploring data]()\n",
    "    - [Data wrangling]()"
   ]
  },
  {
   "cell_type": "markdown",
   "metadata": {
    "slideshow": {
     "slide_type": "slide"
    }
   },
   "source": [
    "## Getting ready\n",
    "\n",
    "What's the first thing we have to check/evaluate before we start working with data, no matter if in `Python` or any other software? That's right: getting everything ready! \n",
    "\n",
    "This includes outlining the core workflow and respective steps. Quite often, this notebook and its content included, this entails the following:\n",
    "\n",
    "1. What kind of data do I have and where is it?\n",
    "2. What is the goal of the data analyses?\n",
    "3. How will the respective steps be implemented?\n",
    "\n",
    "So let's check these aspects out in slightly more detail."
   ]
  },
  {
   "cell_type": "markdown",
   "metadata": {
    "slideshow": {
     "slide_type": "subslide"
    }
   },
   "source": [
    "### What kind of data do I have and where is it\n",
    "\n",
    "The first crucial step is to get a brief idea of the kind of data we have, where it is, etc. to outline the subsequent parts of the workflow (`python modules` to use, analyses to conduct, etc.). At this point it's important to note that `Python` and its `modules` work tremendously well for basically all kinds of data out there, no matter if `behavior`, neuroimaging, etc. . To keep things rather simple, we will use a `behavioral dataset` that contains `ratings` and `demographic information` from a group of university students (ah, the classics...)."
   ]
  },
  {
   "cell_type": "markdown",
   "metadata": {
    "slideshow": {
     "slide_type": "subslide"
    }
   },
   "source": [
    "Knowing that all `data files` are located in a folder called `data_experiment` on our `desktop`, we will use the [os]() `module` to change our `current working directory` to our `desktop` to make things easier:"
   ]
  },
  {
   "cell_type": "code",
   "execution_count": 1,
   "metadata": {
    "slideshow": {
     "slide_type": "fragment"
    }
   },
   "outputs": [],
   "source": [
    "from os import chdir\n",
    "\n",
    "chdir('/Users/peerherholz/Desktop/')"
   ]
  },
  {
   "cell_type": "markdown",
   "metadata": {
    "slideshow": {
     "slide_type": "subslide"
    }
   },
   "source": [
    "Now we can actually already start using `Python` to explore things further. For example, we can use the [glob]() `module` to check what `files` are in this directory and obtain a respective `list`:"
   ]
  },
  {
   "cell_type": "code",
   "execution_count": 2,
   "metadata": {
    "slideshow": {
     "slide_type": "fragment"
    }
   },
   "outputs": [],
   "source": [
    "from glob import glob\n",
    "\n",
    "data_files = glob('data_experiment/*.csv')"
   ]
  },
  {
   "cell_type": "markdown",
   "metadata": {
    "slideshow": {
     "slide_type": "fragment"
    }
   },
   "source": [
    "As you can see, we provide a `path` as `input` to the `function` and end with an `*.csv` which means that we would like to gather all `files` that are in this `directory` that end with `.csv`. If you already know more about your `data`, you could also use other `expressions` and `patterns` to restrain the `file list` to files with a certain name or `extension`."
   ]
  },
  {
   "cell_type": "markdown",
   "metadata": {
    "slideshow": {
     "slide_type": "subslide"
    }
   },
   "source": [
    "So let's see what we got. Remember, the function should output a `list` of all `files` in the specified `directory`.  "
   ]
  },
  {
   "cell_type": "code",
   "execution_count": 3,
   "metadata": {
    "slideshow": {
     "slide_type": "fragment"
    }
   },
   "outputs": [
    {
     "data": {
      "text/plain": [
       "['data_experiment/yagurllea_experiment_2022_Jan_25_1318.csv',\n",
       " 'data_experiment/pauli4psychopy_experiment_2022_Jan_24_1145.csv',\n",
       " 'data_experiment/porla_experiment_2022_Jan_24_2154.csv',\n",
       " 'data_experiment/Sophie Oprée_experiment_2022_Jan_24_1411.csv',\n",
       " 'data_experiment/participant_123_experiment_2022_Jan_26_1307.csv',\n",
       " 'data_experiment/funny_ID_experiment_2022_Jan_24_1215.csv',\n",
       " 'data_experiment/Chiara Ferrandina_experiment_2022_Jan_24_1829.csv',\n",
       " 'data_experiment/Heidi Klum_experiment_2022_Jan_26_1600.csv',\n",
       " 'data_experiment/Smitty_Werben_Jagger_Man_Jensen#1_experiment_2022_Jan_26_1158.csv',\n",
       " 'data_experiment/wile_coyote_2022_Jan_23_1805.csv',\n",
       " 'data_experiment/bugs_bunny_experiment_2022_Jan_23_1745.csv',\n",
       " 'data_experiment/Bruce_Wayne_experiment_2022_Jan_23_1605.csv',\n",
       " 'data_experiment/twentyfour_experiment_2022_Jan_26_1436.csv',\n",
       " 'data_experiment/Nina _experiment_2022_Jan_24_1212.csv',\n",
       " 'data_experiment/daffy_duck_experiment_2022_Jan_23_1409.csv']"
      ]
     },
     "execution_count": 3,
     "metadata": {},
     "output_type": "execute_result"
    }
   ],
   "source": [
    "data_files"
   ]
  },
  {
   "cell_type": "markdown",
   "metadata": {
    "slideshow": {
     "slide_type": "subslide"
    }
   },
   "source": [
    "Coolio, that worked. We get a `list` indicating all `files` as `items` in the form of `strings`. We also see that we get the `relative paths` and that our `files` are in `.csv` format. Having everything in a `list`, we can make use of this great `python` `data type` and e.g. check how many `files` we have, as well as if we have a `file` for every `participant` (should be `15`).      "
   ]
  },
  {
   "cell_type": "code",
   "execution_count": 4,
   "metadata": {
    "slideshow": {
     "slide_type": "subslide"
    }
   },
   "outputs": [
    {
     "name": "stdout",
     "output_type": "stream",
     "text": [
      "15\n",
      "The number of data files matches the number of participants.\n"
     ]
    }
   ],
   "source": [
    "print(len(data_files))\n",
    "\n",
    "if len(data_files)==15:\n",
    "    print('The number of data files matches the number of participants.')\n",
    "elif len(data_files) > 15:\n",
    "    print('There are %s more data files than participants.' %str(int(len(data_files)-19)))\n",
    "elif len(data_files) < 15:\n",
    "    print('There are %s data files missing.' %str(19-len(data_files)))"
   ]
  },
  {
   "cell_type": "markdown",
   "metadata": {
    "slideshow": {
     "slide_type": "subslide"
    }
   },
   "source": [
    "We also saw that some `files` contain a `' '`, i.e. `space`, and knowing that this can cause major problems when coding `analyzes`, we will use `python` again to `rename` them. Specifically, we will use the [rename]() `function` of the [os]() `module`. It expects the `old file name` and the `new file name` as `positional arguments`, i.e. `os.rename(old_file_name, new_file_name)`. While renaming, we follow \"best practices\" and will `replace` the `space` with an `_`. In order to avoid doing this manually for all `files`, we will just use a combination of a `for loop` and an `if statement`:"
   ]
  },
  {
   "cell_type": "code",
   "execution_count": 5,
   "metadata": {
    "slideshow": {
     "slide_type": "fragment"
    }
   },
   "outputs": [],
   "source": [
    "from os import rename\n",
    "\n",
    "for file in data_files:\n",
    "    if ' ' in file:\n",
    "        rename(file, file.replace(' ', \"_\"))"
   ]
  },
  {
   "cell_type": "markdown",
   "metadata": {
    "slideshow": {
     "slide_type": "subslide"
    },
    "solution2": "hidden",
    "solution2_first": true
   },
   "source": [
    "#### Exercise 1 \n",
    "\n",
    "Can you describe what behavior the above lines of `code` implement?"
   ]
  },
  {
   "cell_type": "markdown",
   "metadata": {
    "slideshow": {
     "slide_type": "subslide"
    }
   },
   "source": [
    "See how cool and easy the `python basics` we explored in the introduction can be applied \"in the wild\"? That being said, we should check if everything worked as expected and get an updated `list` of our `files`: "
   ]
  },
  {
   "cell_type": "code",
   "execution_count": 6,
   "metadata": {
    "slideshow": {
     "slide_type": "fragment"
    }
   },
   "outputs": [
    {
     "data": {
      "text/plain": [
       "['data_experiment/yagurllea_experiment_2022_Jan_25_1318.csv',\n",
       " 'data_experiment/pauli4psychopy_experiment_2022_Jan_24_1145.csv',\n",
       " 'data_experiment/porla_experiment_2022_Jan_24_2154.csv',\n",
       " 'data_experiment/Nina__experiment_2022_Jan_24_1212.csv',\n",
       " 'data_experiment/Sophie Oprée_experiment_2022_Jan_24_1411.csv',\n",
       " 'data_experiment/participant_123_experiment_2022_Jan_26_1307.csv',\n",
       " 'data_experiment/funny_ID_experiment_2022_Jan_24_1215.csv',\n",
       " 'data_experiment/Chiara Ferrandina_experiment_2022_Jan_24_1829.csv',\n",
       " 'data_experiment/Smitty_Werben_Jagger_Man_Jensen#1_experiment_2022_Jan_26_1158.csv',\n",
       " 'data_experiment/wile_coyote_2022_Jan_23_1805.csv',\n",
       " 'data_experiment/Heidi_Klum_experiment_2022_Jan_26_1600.csv',\n",
       " 'data_experiment/bugs bunny_experiment_2022_Jan_23_1745.csv',\n",
       " 'data_experiment/Bruce_Wayne_experiment_2022_Jan_23_1605.csv',\n",
       " 'data_experiment/twentyfour_experiment_2022_Jan_26_1436.csv',\n",
       " 'data_experiment/daffy_duck_experiment_2022_Jan_23_1409.csv']"
      ]
     },
     "execution_count": 6,
     "metadata": {},
     "output_type": "execute_result"
    }
   ],
   "source": [
    "data_files = glob('data_experiment/*.csv')\n",
    "\n",
    "data_files"
   ]
  },
  {
   "cell_type": "markdown",
   "metadata": {
    "slideshow": {
     "slide_type": "fragment"
    }
   },
   "source": [
    "Great! With these basics set, we can continue and start thinking about the potential goal of the analyses."
   ]
  },
  {
   "cell_type": "markdown",
   "metadata": {
    "solution2": "hidden"
   },
   "source": [
    "For each `file` in our `list` of files called `data_files` we will check if there's a `' '`, i.e. `space`, in the `file name` and if so, `rename` the respective `file`, `replacing` the `' '` with an `_`.  "
   ]
  },
  {
   "cell_type": "markdown",
   "metadata": {
    "slideshow": {
     "slide_type": "subslide"
    }
   },
   "source": [
    "### What is the goal of the data analyzes\n",
    "\n",
    "There obviously many different routes we could pursue when it comes to `analyzing data`. Ideally, we would know that before starting (`pre-registration` much?) but we all know how these things go... For the `dataset` at hand analyzes and respective steps will be on the rather exploratory side of things. How about the following:\n",
    "\n",
    "- read in single participant data\n",
    "- explore single participant data\n",
    "- extract needed data from single participant data\n",
    "- convert extracted data to more intelligible form\n",
    "    - repeat for all participant data\n",
    "    - combine all participant data in one file\n",
    "- explore data from all participants\n",
    "    - general overview\n",
    "    - basic plots\n",
    "- analyze data from all participant\n",
    "    - descriptive stats\n",
    "    - inferential stats\n",
    "        \n",
    "Sounds roughly right, so how we will implement/conduct these steps?        "
   ]
  },
  {
   "cell_type": "markdown",
   "metadata": {
    "slideshow": {
     "slide_type": "subslide"
    }
   },
   "source": [
    "### How will the respective steps be implemented\n",
    "\n",
    "After creating some sort of outline/workflow, we need to think about the respective steps in more detail and set overarching principles. Regarding the former, it's good to have a first idea of potentially useful `python modules` to use. Given the pointers above, this include entail the following:\n",
    "\n",
    "- [numpy]() and [pandas]() for data wrangling/exploration\n",
    "- [matplolib](), [seaborn]() and [plotly]() for data visualization\n",
    "- [pingouin]() and [statsmodels]() for data analyzes/stats\n",
    "\n",
    "Regarding the second, we have to go back to standards and principles concerning computational work:\n",
    "\n",
    "- use a dedicated computing environment\n",
    "- provide all steps and analyzes in a reproducible form\n",
    "- nothing will be done manually, everything will be coded\n",
    "- provide as much documentation as possible\n",
    "\n",
    "**Important**: these aspects should be followed no matter what you're working on!\n",
    "\n",
    "So, after \"getting ready\" for our endeavours, it's time to actually start them via `basic data operations`."
   ]
  },
  {
   "cell_type": "markdown",
   "metadata": {
    "slideshow": {
     "slide_type": "slide"
    }
   },
   "source": [
    "## Basic data operations\n",
    "\n",
    "Given that we now know data a bit more, including the `number` and `file type`, we can utilize the obtained `list` and start working with the included `data files`. As mentioned above, we will do so via the following steps one would classically conduct during data analyzes. Throughout each step, we will get to know respective `python modules` and `functions` and work on `single participant` as well as `group data`.\n",
    "\n",
    "- [Reading data]()\n",
    "- [Exploring data]()\n",
    "- [Data wrangling]()"
   ]
  },
  {
   "cell_type": "markdown",
   "metadata": {
    "slideshow": {
     "slide_type": "subslide"
    }
   },
   "source": [
    "### Reading data\n",
    "\n",
    "So far we actually have no idea what our `data files` entail. Sure, roughly as we conducted the respective experiment, but not in detail and in what form. For this and every subsequent step, we need to actually `read` or rather `load` the `data file`(s) via `python`. This can be done via many options and might depend on the `data` at hand but given that we have `behavioral data` in `.csv` files, we could simply use [numpy]()'s [genfromtxt]() `function`. Let's start with the `first data file` of our `list`."
   ]
  },
  {
   "cell_type": "code",
   "execution_count": 7,
   "metadata": {
    "slideshow": {
     "slide_type": "fragment"
    }
   },
   "outputs": [],
   "source": [
    "import numpy as np\n",
    "\n",
    "data_loaded = np.genfromtxt(data_files[0], delimiter=',')"
   ]
  },
  {
   "cell_type": "markdown",
   "metadata": {
    "slideshow": {
     "slide_type": "subslide"
    }
   },
   "source": [
    "So, what to we have now? Let's explore some basic properties, starting with the `data type`:"
   ]
  },
  {
   "cell_type": "code",
   "execution_count": 8,
   "metadata": {},
   "outputs": [
    {
     "data": {
      "text/plain": [
       "numpy.ndarray"
      ]
     },
     "execution_count": 8,
     "metadata": {},
     "output_type": "execute_result"
    }
   ],
   "source": [
    "type(data_loaded)"
   ]
  },
  {
   "cell_type": "markdown",
   "metadata": {},
   "source": [
    "It's an `numpy array`, i.e. a special form of an array that comes with several cool inbuilt `functions`. Unfortunately, we don't have time to go into more detail here but `numpy` and its `array`s are crucial to basically everything related to `data operations` and `analyzes` in `python`. To give you some idea/pointers, we will add a dedicated notebook that focuses on `numpy`. However, for now, what can do, for example, is easily checking the `shape` or `dimensions` of our `data`:"
   ]
  },
  {
   "cell_type": "code",
   "execution_count": 9,
   "metadata": {
    "slideshow": {
     "slide_type": "fragment"
    }
   },
   "outputs": [
    {
     "data": {
      "text/plain": [
       "(43, 93)"
      ]
     },
     "execution_count": 9,
     "metadata": {},
     "output_type": "execute_result"
    }
   ],
   "source": [
    "data_loaded.shape"
   ]
  },
  {
   "cell_type": "markdown",
   "metadata": {
    "slideshow": {
     "slide_type": "subslide"
    },
    "solution2": "hidden",
    "solution2_first": true
   },
   "source": [
    "#### Exercise 2\n",
    "\n",
    "How do we find out what this output means?"
   ]
  },
  {
   "cell_type": "markdown",
   "metadata": {
    "solution2": "hidden"
   },
   "source": [
    "We can use the `help` `function` to get some details:"
   ]
  },
  {
   "cell_type": "code",
   "execution_count": 10,
   "metadata": {
    "solution2": "hidden"
   },
   "outputs": [
    {
     "name": "stdout",
     "output_type": "stream",
     "text": [
      "Help on function shape in module numpy:\n",
      "\n",
      "shape(a)\n",
      "    Return the shape of an array.\n",
      "    \n",
      "    Parameters\n",
      "    ----------\n",
      "    a : array_like\n",
      "        Input array.\n",
      "    \n",
      "    Returns\n",
      "    -------\n",
      "    shape : tuple of ints\n",
      "        The elements of the shape tuple give the lengths of the\n",
      "        corresponding array dimensions.\n",
      "    \n",
      "    See Also\n",
      "    --------\n",
      "    len\n",
      "    ndarray.shape : Equivalent array method.\n",
      "    \n",
      "    Examples\n",
      "    --------\n",
      "    >>> np.shape(np.eye(3))\n",
      "    (3, 3)\n",
      "    >>> np.shape([[1, 2]])\n",
      "    (1, 2)\n",
      "    >>> np.shape([0])\n",
      "    (1,)\n",
      "    >>> np.shape(0)\n",
      "    ()\n",
      "    \n",
      "    >>> a = np.array([(1, 2), (3, 4)], dtype=[('x', 'i4'), ('y', 'i4')])\n",
      "    >>> np.shape(a)\n",
      "    (2,)\n",
      "    >>> a.shape\n",
      "    (2,)\n",
      "\n"
     ]
    }
   ],
   "source": [
    "help(np.shape)"
   ]
  },
  {
   "cell_type": "markdown",
   "metadata": {
    "slideshow": {
     "slide_type": "subslide"
    }
   },
   "source": [
    "Besides the `shape`, we can also easily get the `min`, `max` and `mean` `values` of our `data`."
   ]
  },
  {
   "cell_type": "code",
   "execution_count": 11,
   "metadata": {
    "slideshow": {
     "slide_type": "fragment"
    }
   },
   "outputs": [
    {
     "name": "stdout",
     "output_type": "stream",
     "text": [
      "nan nan nan\n"
     ]
    }
   ],
   "source": [
    "print(data_loaded.min(), data_loaded.max(), data_loaded.mean())"
   ]
  },
  {
   "cell_type": "markdown",
   "metadata": {
    "slideshow": {
     "slide_type": "fragment"
    }
   },
   "source": [
    "Wait a hot Montreal minute...why do we always get `nan`, i.e. `not a number`? Maybe we should have check what our `data_loaded` `variable` actually contains..."
   ]
  },
  {
   "cell_type": "markdown",
   "metadata": {
    "slideshow": {
     "slide_type": "subslide"
    }
   },
   "source": [
    "Let's do that now:"
   ]
  },
  {
   "cell_type": "code",
   "execution_count": 12,
   "metadata": {},
   "outputs": [
    {
     "data": {
      "text/plain": [
       "array([[        nan,         nan,         nan, ...,         nan,\n",
       "                nan,         nan],\n",
       "       [        nan,         nan,         nan, ...,         nan,\n",
       "        60.26717645,         nan],\n",
       "       [        nan,         nan,         nan, ...,         nan,\n",
       "        60.26717645,         nan],\n",
       "       ...,\n",
       "       [        nan,         nan,         nan, ...,         nan,\n",
       "        60.26717645,         nan],\n",
       "       [        nan,         nan,         nan, ...,         nan,\n",
       "        60.26717645,         nan],\n",
       "       [        nan,         nan,         nan, ...,         nan,\n",
       "                nan,         nan]])"
      ]
     },
     "execution_count": 12,
     "metadata": {},
     "output_type": "execute_result"
    }
   ],
   "source": [
    "data_loaded"
   ]
  },
  {
   "cell_type": "markdown",
   "metadata": {
    "slideshow": {
     "slide_type": "fragment"
    }
   },
   "source": [
    "Well...that's not really informative. There are some `numbers`, a lot of `nan` and there's also some structure in there but everything is far from being intelligible. The thing is: `numpy` is great for all the things re `data analyzes`, no matter the `type` but quite often understanding and getting things into the right `form(at)` can be a bit of a hassle. Interestingly, there are actually quite a few `python modules` that build upon `numpy` and focus on certain `data modalities` and `form(at)s`, making their respecting handling and wrangling way easier. "
   ]
  },
  {
   "cell_type": "markdown",
   "metadata": {
    "slideshow": {
     "slide_type": "subslide"
    }
   },
   "source": [
    "For `data` in `tabular form`, e.g. `.csv`, `.tsv`, such as we have, `pandas` will come to the rescue!\n",
    "\n",
    "<center><img src=\"https://miro.medium.com/max/1400/1*6d5dw6dPhy4vBp2vRW6uzw.png\" width=\"400px\" style=\"margin-bottom: 10px;\"></center>\n",
    "\n",
    "Nope, unfortunately not the cute fluffy animals but a `python module` of the same name. However make sure to check https://www.pandasinternational.org/ to see what you can do to help preserve cute fluffy fantastic animals."
   ]
  },
  {
   "cell_type": "markdown",
   "metadata": {
    "slideshow": {
     "slide_type": "subslide"
    }
   },
   "source": [
    "#### Pandas\n",
    "\n",
    "It is hard to describe how insanely useful and helpful the [pandas]() `python module` is. However, TL;DR: big time! It quickly became one of the standard and most used tools for various `data science` aspects and comes with a tremendous amount of `functions` for basically all data wrangling steps. Here is some core information:   \n",
    "\n",
    "- High-performance, easy-to-use `data structures` and `data analysis` tools\n",
    "- Provides structures very similar to `data frames` in `R` (or `tables` in `Matlab`)\n",
    "- Indeed, the primary data structure in `pandas` is a `dataframe`!\n",
    "- Has some `built-in` `plotting` functionality for exploring `data`\n",
    "- `pandas.DataFrame` structures seamlessly allowed for mixed `datatypes` (e.g., `int`, `float`, `string`, etc.)\n",
    "\n",
    "<center><img src=\"https://upload.wikimedia.org/wikipedia/commons/thumb/e/ed/Pandas_logo.svg/2560px-Pandas_logo.svg.png\" width=\"400px\" style=\"margin-bottom: 10px;\"></center>"
   ]
  },
  {
   "cell_type": "markdown",
   "metadata": {
    "slideshow": {
     "slide_type": "subslide"
    }
   },
   "source": [
    "<center><img src=\"https://pandas.pydata.org/docs/_images/02_io_readwrite.svg\" width=\"800px\" style=\"margin-bottom: 10px;\"></center>"
   ]
  },
  {
   "cell_type": "markdown",
   "metadata": {
    "slideshow": {
     "slide_type": "subslide"
    }
   },
   "source": [
    "<center><img src=\"https://pandas.pydata.org/docs/_images/01_table_dataframe.svg\" width=\"500px\" style=\"margin-bottom: 10px;\"></center>"
   ]
  },
  {
   "cell_type": "markdown",
   "metadata": {
    "slideshow": {
     "slide_type": "subslide"
    }
   },
   "source": [
    "Enough said, time to put it to the test on our `data`. First things first: `loading` the `data`. This should work way easier as compared to `numpy` as outlined above. We're going to import it and then check a few of its `functions` to get an idea of what might be helpful:"
   ]
  },
  {
   "cell_type": "code",
   "execution_count": 13,
   "metadata": {
    "slideshow": {
     "slide_type": "fragment"
    }
   },
   "outputs": [],
   "source": [
    "import pandas as pd"
   ]
  },
  {
   "cell_type": "markdown",
   "metadata": {
    "slideshow": {
     "slide_type": "fragment"
    },
    "solution2": "hidden",
    "solution2_first": true
   },
   "source": [
    "#### Exercise 3\n",
    "\n",
    "Having import `pandas`, how can we check its `functions`? Assuming you found out how: what `function` could be helpful and why?"
   ]
  },
  {
   "cell_type": "markdown",
   "metadata": {
    "solution2": "hidden"
   },
   "source": [
    "We can simply use `pd.` and `tab completion` to get the list of `available functions`."
   ]
  },
  {
   "cell_type": "code",
   "execution_count": 14,
   "metadata": {
    "solution2": "hidden"
   },
   "outputs": [
    {
     "ename": "SyntaxError",
     "evalue": "invalid syntax (3133375982.py, line 1)",
     "output_type": "error",
     "traceback": [
      "\u001b[0;36m  File \u001b[0;32m\"/var/folders/61/0lj9r7px3k52gv9yfyx6ky300000gn/T/ipykernel_62387/3133375982.py\"\u001b[0;36m, line \u001b[0;32m1\u001b[0m\n\u001b[0;31m    pd.\u001b[0m\n\u001b[0m       ^\u001b[0m\n\u001b[0;31mSyntaxError\u001b[0m\u001b[0;31m:\u001b[0m invalid syntax\n"
     ]
    }
   ],
   "source": [
    "pd."
   ]
  },
  {
   "cell_type": "markdown",
   "metadata": {
    "slideshow": {
     "slide_type": "subslide"
    }
   },
   "source": [
    "Don't know about you but the `read_csv` `function` appears to be a fitting candidate. Thus, lets try it out. (NB: did you see the `read_excel` `function`? That's how nice `python` and `pandas` are: they even allow you to work with `proprietary formats`!)"
   ]
  },
  {
   "cell_type": "code",
   "execution_count": 15,
   "metadata": {
    "slideshow": {
     "slide_type": "fragment"
    }
   },
   "outputs": [],
   "source": [
    "data_loaded = pd.read_csv(data_files[0], delimiter=';')"
   ]
  },
  {
   "cell_type": "markdown",
   "metadata": {
    "slideshow": {
     "slide_type": "fragment"
    }
   },
   "source": [
    "So, what kind of `data type` do we have now? "
   ]
  },
  {
   "cell_type": "code",
   "execution_count": 16,
   "metadata": {},
   "outputs": [
    {
     "data": {
      "text/plain": [
       "pandas.core.frame.DataFrame"
      ]
     },
     "execution_count": 16,
     "metadata": {},
     "output_type": "execute_result"
    }
   ],
   "source": [
    "type(data_loaded)"
   ]
  },
  {
   "cell_type": "markdown",
   "metadata": {
    "slideshow": {
     "slide_type": "subslide"
    }
   },
   "source": [
    "It's a `pandas DataFrame`, that comes with its own set of built-in `functions` (comparable to the other `data types` we already explored: `list`s, `string`s, `numpy arrays`, etc.). Before we go into the details here, we should check if the data is actually more intelligible now. To get a first idea and prevent getting all data at once, we can use `head()` to restrict the preview of our `data` to a certain number of rows, e.g. `10`:"
   ]
  },
  {
   "cell_type": "code",
   "execution_count": 17,
   "metadata": {},
   "outputs": [
    {
     "data": {
      "text/html": [
       "<div>\n",
       "<style scoped>\n",
       "    .dataframe tbody tr th:only-of-type {\n",
       "        vertical-align: middle;\n",
       "    }\n",
       "\n",
       "    .dataframe tbody tr th {\n",
       "        vertical-align: top;\n",
       "    }\n",
       "\n",
       "    .dataframe thead th {\n",
       "        text-align: right;\n",
       "    }\n",
       "</style>\n",
       "<table border=\"1\" class=\"dataframe\">\n",
       "  <thead>\n",
       "    <tr style=\"text-align: right;\">\n",
       "      <th></th>\n",
       "      <th>movie,snack,animal,loop_rating_movie.thisRepN,loop_rating_movie.thisTrialN,loop_rating_movie.thisN,loop_rating_movie.thisIndex,loop_rating_snacks.thisRepN,loop_rating_snacks.thisTrialN,loop_rating_snacks.thisN,loop_rating_snacks.thisIndex,loop_rating_animals.thisRepN,loop_rating_animals.thisTrialN,loop_rating_animals.thisN,loop_rating_animals.thisIndex,welcome_message.started,welcome_message.stopped,spacebar_welcome.keys,spacebar_welcome.rt,spacebar_welcome.started,spacebar_welcome.stopped,instruction.started,instruction.stopped,spacebar_instrunctions.keys,spacebar_instrunctions.rt,spacebar_instrunctions.started,spacebar_instrunctions.stopped,movie_intro_text.started,movie_intro_text.stopped,movies.started,movies.stopped,question_rating.started,question_rating.stopped,rating_movies.response,rating_movies.rt,rating_movies.started,rating_movies.stopped,spacebar_response.keys,spacebar_response.rt,spacebar_response.started,spacebar_response.stopped,explanation_rating.started,explanation_rating.stopped,snack_intro_text.started,snack_intro_text.stopped,snacks.started,snacks.stopped,question_rating_snack.started,question_rating_snack.stopped,rating_snacks.response,rating_snacks.rt,rating_snacks.started,rating_snacks.stopped,spacebar_response_snacks.keys,spacebar_response_snacks.rt,spacebar_response_snacks.started,spacebar_response_snacks.stopped,explanation_rating_snacks.started,explanation_rating_snacks.stopped,animal_intro_text.started,animal_intro_text.stopped,animal_text.started,animal_text.stopped,question_animal.started,question_animal.stopped,rating_animals.response,rating_animals.rt,rating_animals.started,rating_animals.stopped,spacebar_animals.keys,spacebar_animals.rt,spacebar_animals.started,spacebar_animals.stopped,explanation_animals.started,explanation_animals.stopped,end.started,end.stopped,spacebar_end.keys,spacebar_end.rt,spacebar_end.started,spacebar_end.stopped,thanks_image.started,thanks_image.stopped,participant,session,age,left-handed,like this course,date,expName,psychopyVersion,frameRate,</th>\n",
       "    </tr>\n",
       "  </thead>\n",
       "  <tbody>\n",
       "    <tr>\n",
       "      <th>0</th>\n",
       "      <td>,,,,,,,,,,,,,,,17.94193319999613,None,space,2....</td>\n",
       "    </tr>\n",
       "    <tr>\n",
       "      <th>1</th>\n",
       "      <td>,,,,,,,,,,,,,,,,,,,,,20.554694099992048,None,s...</td>\n",
       "    </tr>\n",
       "    <tr>\n",
       "      <th>2</th>\n",
       "      <td>The Intouchables,pancakes,barred owl,0,0,0,0,,...</td>\n",
       "    </tr>\n",
       "    <tr>\n",
       "      <th>3</th>\n",
       "      <td>James Bond,bananas,cat,0,1,1,1,,,,,,,,,,,,,,,,...</td>\n",
       "    </tr>\n",
       "    <tr>\n",
       "      <th>4</th>\n",
       "      <td>Forrest Gump,dominoes,coral,0,2,2,2,,,,,,,,,,,...</td>\n",
       "    </tr>\n",
       "    <tr>\n",
       "      <th>5</th>\n",
       "      <td>Retired Extremely Dangerous,carrots,elephant,0...</td>\n",
       "    </tr>\n",
       "    <tr>\n",
       "      <th>6</th>\n",
       "      <td>The Imitation Game,humus,groundhog,0,4,4,4,,,,...</td>\n",
       "    </tr>\n",
       "    <tr>\n",
       "      <th>7</th>\n",
       "      <td>The Philosophers,chocolate,lizard,0,5,5,5,,,,,...</td>\n",
       "    </tr>\n",
       "    <tr>\n",
       "      <th>8</th>\n",
       "      <td>Call Me by Your Name,Kinder bueno,None,0,6,6,6...</td>\n",
       "    </tr>\n",
       "    <tr>\n",
       "      <th>9</th>\n",
       "      <td>Shutter Island,Pringles,None,0,7,7,7,,,,,,,,,,...</td>\n",
       "    </tr>\n",
       "  </tbody>\n",
       "</table>\n",
       "</div>"
      ],
      "text/plain": [
       "  movie,snack,animal,loop_rating_movie.thisRepN,loop_rating_movie.thisTrialN,loop_rating_movie.thisN,loop_rating_movie.thisIndex,loop_rating_snacks.thisRepN,loop_rating_snacks.thisTrialN,loop_rating_snacks.thisN,loop_rating_snacks.thisIndex,loop_rating_animals.thisRepN,loop_rating_animals.thisTrialN,loop_rating_animals.thisN,loop_rating_animals.thisIndex,welcome_message.started,welcome_message.stopped,spacebar_welcome.keys,spacebar_welcome.rt,spacebar_welcome.started,spacebar_welcome.stopped,instruction.started,instruction.stopped,spacebar_instrunctions.keys,spacebar_instrunctions.rt,spacebar_instrunctions.started,spacebar_instrunctions.stopped,movie_intro_text.started,movie_intro_text.stopped,movies.started,movies.stopped,question_rating.started,question_rating.stopped,rating_movies.response,rating_movies.rt,rating_movies.started,rating_movies.stopped,spacebar_response.keys,spacebar_response.rt,spacebar_response.started,spacebar_response.stopped,explanation_rating.started,explanation_rating.stopped,snack_intro_text.started,snack_intro_text.stopped,snacks.started,snacks.stopped,question_rating_snack.started,question_rating_snack.stopped,rating_snacks.response,rating_snacks.rt,rating_snacks.started,rating_snacks.stopped,spacebar_response_snacks.keys,spacebar_response_snacks.rt,spacebar_response_snacks.started,spacebar_response_snacks.stopped,explanation_rating_snacks.started,explanation_rating_snacks.stopped,animal_intro_text.started,animal_intro_text.stopped,animal_text.started,animal_text.stopped,question_animal.started,question_animal.stopped,rating_animals.response,rating_animals.rt,rating_animals.started,rating_animals.stopped,spacebar_animals.keys,spacebar_animals.rt,spacebar_animals.started,spacebar_animals.stopped,explanation_animals.started,explanation_animals.stopped,end.started,end.stopped,spacebar_end.keys,spacebar_end.rt,spacebar_end.started,spacebar_end.stopped,thanks_image.started,thanks_image.stopped,participant,session,age,left-handed,like this course,date,expName,psychopyVersion,frameRate,\n",
       "0  ,,,,,,,,,,,,,,,17.94193319999613,None,space,2....                                                                                                                                                                                                                                                                                                                                                                                                                                                                                                                                                                                                                                                                                                                                                                                                                                                                                                                                                                                                                                                                                                                                                                                                                                                                                                                                                                                                                                                                                                                                                                                                                                                                                                                                                                                                                                                                                                                                                                                                                                                                     \n",
       "1  ,,,,,,,,,,,,,,,,,,,,,20.554694099992048,None,s...                                                                                                                                                                                                                                                                                                                                                                                                                                                                                                                                                                                                                                                                                                                                                                                                                                                                                                                                                                                                                                                                                                                                                                                                                                                                                                                                                                                                                                                                                                                                                                                                                                                                                                                                                                                                                                                                                                                                                                                                                                                                     \n",
       "2  The Intouchables,pancakes,barred owl,0,0,0,0,,...                                                                                                                                                                                                                                                                                                                                                                                                                                                                                                                                                                                                                                                                                                                                                                                                                                                                                                                                                                                                                                                                                                                                                                                                                                                                                                                                                                                                                                                                                                                                                                                                                                                                                                                                                                                                                                                                                                                                                                                                                                                                     \n",
       "3  James Bond,bananas,cat,0,1,1,1,,,,,,,,,,,,,,,,...                                                                                                                                                                                                                                                                                                                                                                                                                                                                                                                                                                                                                                                                                                                                                                                                                                                                                                                                                                                                                                                                                                                                                                                                                                                                                                                                                                                                                                                                                                                                                                                                                                                                                                                                                                                                                                                                                                                                                                                                                                                                     \n",
       "4  Forrest Gump,dominoes,coral,0,2,2,2,,,,,,,,,,,...                                                                                                                                                                                                                                                                                                                                                                                                                                                                                                                                                                                                                                                                                                                                                                                                                                                                                                                                                                                                                                                                                                                                                                                                                                                                                                                                                                                                                                                                                                                                                                                                                                                                                                                                                                                                                                                                                                                                                                                                                                                                     \n",
       "5  Retired Extremely Dangerous,carrots,elephant,0...                                                                                                                                                                                                                                                                                                                                                                                                                                                                                                                                                                                                                                                                                                                                                                                                                                                                                                                                                                                                                                                                                                                                                                                                                                                                                                                                                                                                                                                                                                                                                                                                                                                                                                                                                                                                                                                                                                                                                                                                                                                                     \n",
       "6  The Imitation Game,humus,groundhog,0,4,4,4,,,,...                                                                                                                                                                                                                                                                                                                                                                                                                                                                                                                                                                                                                                                                                                                                                                                                                                                                                                                                                                                                                                                                                                                                                                                                                                                                                                                                                                                                                                                                                                                                                                                                                                                                                                                                                                                                                                                                                                                                                                                                                                                                     \n",
       "7  The Philosophers,chocolate,lizard,0,5,5,5,,,,,...                                                                                                                                                                                                                                                                                                                                                                                                                                                                                                                                                                                                                                                                                                                                                                                                                                                                                                                                                                                                                                                                                                                                                                                                                                                                                                                                                                                                                                                                                                                                                                                                                                                                                                                                                                                                                                                                                                                                                                                                                                                                     \n",
       "8  Call Me by Your Name,Kinder bueno,None,0,6,6,6...                                                                                                                                                                                                                                                                                                                                                                                                                                                                                                                                                                                                                                                                                                                                                                                                                                                                                                                                                                                                                                                                                                                                                                                                                                                                                                                                                                                                                                                                                                                                                                                                                                                                                                                                                                                                                                                                                                                                                                                                                                                                     \n",
       "9  Shutter Island,Pringles,None,0,7,7,7,,,,,,,,,,...                                                                                                                                                                                                                                                                                                                                                                                                                                                                                                                                                                                                                                                                                                                                                                                                                                                                                                                                                                                                                                                                                                                                                                                                                                                                                                                                                                                                                                                                                                                                                                                                                                                                                                                                                                                                                                                                                                                                                                                                                                                                     "
      ]
     },
     "execution_count": 17,
     "metadata": {},
     "output_type": "execute_result"
    }
   ],
   "source": [
    "data_loaded.head(n=10)"
   ]
  },
  {
   "cell_type": "markdown",
   "metadata": {
    "slideshow": {
     "slide_type": "subslide"
    }
   },
   "source": [
    "Hm, definitely looks more intelligible than before with `numpy`. We see the expected form of `columns` and `rows` but something is still going wrong. Our `data` seems not correctly formatted...what happened? "
   ]
  },
  {
   "cell_type": "markdown",
   "metadata": {
    "slideshow": {
     "slide_type": "fragment"
    }
   },
   "source": [
    "The answer is comparably straightforward: our `data` is in a `.csv` which stands for `comma-separated-values`, i.e. \"things\" or `values` in our `data` should be separated by a `,`. This is also referred to as the `delimiter` and is something you should always watch out for: what kind of file is it, was the intended `delimiter` actually used, etc. .\n",
    "However, we told the `read_csv` `function` that the `delimiter` is `;` instead of `,` and thus the `data` was read in wrong. We can easily fix that via setting the right `delimiter` (or just using the `default` of the respective `keyword argument`):\n"
   ]
  },
  {
   "cell_type": "code",
   "execution_count": 18,
   "metadata": {},
   "outputs": [],
   "source": [
    "data_loaded = pd.read_csv(data_files[10], delimiter=',')"
   ]
  },
  {
   "cell_type": "markdown",
   "metadata": {
    "slideshow": {
     "slide_type": "subslide"
    }
   },
   "source": [
    "How does our `data` look now?"
   ]
  },
  {
   "cell_type": "code",
   "execution_count": 19,
   "metadata": {},
   "outputs": [
    {
     "data": {
      "text/html": [
       "<div>\n",
       "<style scoped>\n",
       "    .dataframe tbody tr th:only-of-type {\n",
       "        vertical-align: middle;\n",
       "    }\n",
       "\n",
       "    .dataframe tbody tr th {\n",
       "        vertical-align: top;\n",
       "    }\n",
       "\n",
       "    .dataframe thead th {\n",
       "        text-align: right;\n",
       "    }\n",
       "</style>\n",
       "<table border=\"1\" class=\"dataframe\">\n",
       "  <thead>\n",
       "    <tr style=\"text-align: right;\">\n",
       "      <th></th>\n",
       "      <th>movie</th>\n",
       "      <th>snack</th>\n",
       "      <th>animal</th>\n",
       "      <th>loop_rating_movie.thisRepN</th>\n",
       "      <th>loop_rating_movie.thisTrialN</th>\n",
       "      <th>loop_rating_movie.thisN</th>\n",
       "      <th>loop_rating_movie.thisIndex</th>\n",
       "      <th>loop_rating_snacks.thisRepN</th>\n",
       "      <th>loop_rating_snacks.thisTrialN</th>\n",
       "      <th>loop_rating_snacks.thisN</th>\n",
       "      <th>...</th>\n",
       "      <th>participant</th>\n",
       "      <th>session</th>\n",
       "      <th>age</th>\n",
       "      <th>left-handed</th>\n",
       "      <th>like this course</th>\n",
       "      <th>date</th>\n",
       "      <th>expName</th>\n",
       "      <th>psychopyVersion</th>\n",
       "      <th>frameRate</th>\n",
       "      <th>Unnamed: 92</th>\n",
       "    </tr>\n",
       "  </thead>\n",
       "  <tbody>\n",
       "    <tr>\n",
       "      <th>0</th>\n",
       "      <td>NaN</td>\n",
       "      <td>NaN</td>\n",
       "      <td>NaN</td>\n",
       "      <td>NaN</td>\n",
       "      <td>NaN</td>\n",
       "      <td>NaN</td>\n",
       "      <td>NaN</td>\n",
       "      <td>NaN</td>\n",
       "      <td>NaN</td>\n",
       "      <td>NaN</td>\n",
       "      <td>...</td>\n",
       "      <td>Heidi Klum</td>\n",
       "      <td>1.0</td>\n",
       "      <td>43.0</td>\n",
       "      <td>False</td>\n",
       "      <td>Yes</td>\n",
       "      <td>2022_Jan_26_1600</td>\n",
       "      <td>experiment</td>\n",
       "      <td>2021.2.3</td>\n",
       "      <td>59.572017</td>\n",
       "      <td>NaN</td>\n",
       "    </tr>\n",
       "    <tr>\n",
       "      <th>1</th>\n",
       "      <td>NaN</td>\n",
       "      <td>NaN</td>\n",
       "      <td>NaN</td>\n",
       "      <td>NaN</td>\n",
       "      <td>NaN</td>\n",
       "      <td>NaN</td>\n",
       "      <td>NaN</td>\n",
       "      <td>NaN</td>\n",
       "      <td>NaN</td>\n",
       "      <td>NaN</td>\n",
       "      <td>...</td>\n",
       "      <td>Heidi Klum</td>\n",
       "      <td>1.0</td>\n",
       "      <td>43.0</td>\n",
       "      <td>False</td>\n",
       "      <td>Yes</td>\n",
       "      <td>2022_Jan_26_1600</td>\n",
       "      <td>experiment</td>\n",
       "      <td>2021.2.3</td>\n",
       "      <td>59.572017</td>\n",
       "      <td>NaN</td>\n",
       "    </tr>\n",
       "    <tr>\n",
       "      <th>2</th>\n",
       "      <td>The Intouchables</td>\n",
       "      <td>pancakes</td>\n",
       "      <td>barred owl</td>\n",
       "      <td>0.0</td>\n",
       "      <td>0.0</td>\n",
       "      <td>0.0</td>\n",
       "      <td>0.0</td>\n",
       "      <td>NaN</td>\n",
       "      <td>NaN</td>\n",
       "      <td>NaN</td>\n",
       "      <td>...</td>\n",
       "      <td>Heidi Klum</td>\n",
       "      <td>1.0</td>\n",
       "      <td>43.0</td>\n",
       "      <td>False</td>\n",
       "      <td>Yes</td>\n",
       "      <td>2022_Jan_26_1600</td>\n",
       "      <td>experiment</td>\n",
       "      <td>2021.2.3</td>\n",
       "      <td>59.572017</td>\n",
       "      <td>NaN</td>\n",
       "    </tr>\n",
       "    <tr>\n",
       "      <th>3</th>\n",
       "      <td>James Bond</td>\n",
       "      <td>bananas</td>\n",
       "      <td>cat</td>\n",
       "      <td>0.0</td>\n",
       "      <td>1.0</td>\n",
       "      <td>1.0</td>\n",
       "      <td>1.0</td>\n",
       "      <td>NaN</td>\n",
       "      <td>NaN</td>\n",
       "      <td>NaN</td>\n",
       "      <td>...</td>\n",
       "      <td>Heidi Klum</td>\n",
       "      <td>1.0</td>\n",
       "      <td>43.0</td>\n",
       "      <td>False</td>\n",
       "      <td>Yes</td>\n",
       "      <td>2022_Jan_26_1600</td>\n",
       "      <td>experiment</td>\n",
       "      <td>2021.2.3</td>\n",
       "      <td>59.572017</td>\n",
       "      <td>NaN</td>\n",
       "    </tr>\n",
       "    <tr>\n",
       "      <th>4</th>\n",
       "      <td>Forrest Gump</td>\n",
       "      <td>dominoes</td>\n",
       "      <td>coral</td>\n",
       "      <td>0.0</td>\n",
       "      <td>2.0</td>\n",
       "      <td>2.0</td>\n",
       "      <td>2.0</td>\n",
       "      <td>NaN</td>\n",
       "      <td>NaN</td>\n",
       "      <td>NaN</td>\n",
       "      <td>...</td>\n",
       "      <td>Heidi Klum</td>\n",
       "      <td>1.0</td>\n",
       "      <td>43.0</td>\n",
       "      <td>False</td>\n",
       "      <td>Yes</td>\n",
       "      <td>2022_Jan_26_1600</td>\n",
       "      <td>experiment</td>\n",
       "      <td>2021.2.3</td>\n",
       "      <td>59.572017</td>\n",
       "      <td>NaN</td>\n",
       "    </tr>\n",
       "    <tr>\n",
       "      <th>5</th>\n",
       "      <td>Retired Extremely Dangerous</td>\n",
       "      <td>carrots</td>\n",
       "      <td>elephant</td>\n",
       "      <td>0.0</td>\n",
       "      <td>3.0</td>\n",
       "      <td>3.0</td>\n",
       "      <td>3.0</td>\n",
       "      <td>NaN</td>\n",
       "      <td>NaN</td>\n",
       "      <td>NaN</td>\n",
       "      <td>...</td>\n",
       "      <td>Heidi Klum</td>\n",
       "      <td>1.0</td>\n",
       "      <td>43.0</td>\n",
       "      <td>False</td>\n",
       "      <td>Yes</td>\n",
       "      <td>2022_Jan_26_1600</td>\n",
       "      <td>experiment</td>\n",
       "      <td>2021.2.3</td>\n",
       "      <td>59.572017</td>\n",
       "      <td>NaN</td>\n",
       "    </tr>\n",
       "    <tr>\n",
       "      <th>6</th>\n",
       "      <td>The Imitation Game</td>\n",
       "      <td>humus</td>\n",
       "      <td>groundhog</td>\n",
       "      <td>0.0</td>\n",
       "      <td>4.0</td>\n",
       "      <td>4.0</td>\n",
       "      <td>4.0</td>\n",
       "      <td>NaN</td>\n",
       "      <td>NaN</td>\n",
       "      <td>NaN</td>\n",
       "      <td>...</td>\n",
       "      <td>Heidi Klum</td>\n",
       "      <td>1.0</td>\n",
       "      <td>43.0</td>\n",
       "      <td>False</td>\n",
       "      <td>Yes</td>\n",
       "      <td>2022_Jan_26_1600</td>\n",
       "      <td>experiment</td>\n",
       "      <td>2021.2.3</td>\n",
       "      <td>59.572017</td>\n",
       "      <td>NaN</td>\n",
       "    </tr>\n",
       "    <tr>\n",
       "      <th>7</th>\n",
       "      <td>The Philosophers</td>\n",
       "      <td>chocolate</td>\n",
       "      <td>lizard</td>\n",
       "      <td>0.0</td>\n",
       "      <td>5.0</td>\n",
       "      <td>5.0</td>\n",
       "      <td>5.0</td>\n",
       "      <td>NaN</td>\n",
       "      <td>NaN</td>\n",
       "      <td>NaN</td>\n",
       "      <td>...</td>\n",
       "      <td>Heidi Klum</td>\n",
       "      <td>1.0</td>\n",
       "      <td>43.0</td>\n",
       "      <td>False</td>\n",
       "      <td>Yes</td>\n",
       "      <td>2022_Jan_26_1600</td>\n",
       "      <td>experiment</td>\n",
       "      <td>2021.2.3</td>\n",
       "      <td>59.572017</td>\n",
       "      <td>NaN</td>\n",
       "    </tr>\n",
       "    <tr>\n",
       "      <th>8</th>\n",
       "      <td>Call Me by Your Name</td>\n",
       "      <td>Kinder bueno</td>\n",
       "      <td>None</td>\n",
       "      <td>0.0</td>\n",
       "      <td>6.0</td>\n",
       "      <td>6.0</td>\n",
       "      <td>6.0</td>\n",
       "      <td>NaN</td>\n",
       "      <td>NaN</td>\n",
       "      <td>NaN</td>\n",
       "      <td>...</td>\n",
       "      <td>Heidi Klum</td>\n",
       "      <td>1.0</td>\n",
       "      <td>43.0</td>\n",
       "      <td>False</td>\n",
       "      <td>Yes</td>\n",
       "      <td>2022_Jan_26_1600</td>\n",
       "      <td>experiment</td>\n",
       "      <td>2021.2.3</td>\n",
       "      <td>59.572017</td>\n",
       "      <td>NaN</td>\n",
       "    </tr>\n",
       "    <tr>\n",
       "      <th>9</th>\n",
       "      <td>Shutter Island</td>\n",
       "      <td>Pringles</td>\n",
       "      <td>None</td>\n",
       "      <td>0.0</td>\n",
       "      <td>7.0</td>\n",
       "      <td>7.0</td>\n",
       "      <td>7.0</td>\n",
       "      <td>NaN</td>\n",
       "      <td>NaN</td>\n",
       "      <td>NaN</td>\n",
       "      <td>...</td>\n",
       "      <td>Heidi Klum</td>\n",
       "      <td>1.0</td>\n",
       "      <td>43.0</td>\n",
       "      <td>False</td>\n",
       "      <td>Yes</td>\n",
       "      <td>2022_Jan_26_1600</td>\n",
       "      <td>experiment</td>\n",
       "      <td>2021.2.3</td>\n",
       "      <td>59.572017</td>\n",
       "      <td>NaN</td>\n",
       "    </tr>\n",
       "  </tbody>\n",
       "</table>\n",
       "<p>10 rows × 93 columns</p>\n",
       "</div>"
      ],
      "text/plain": [
       "                         movie         snack      animal  \\\n",
       "0                          NaN           NaN         NaN   \n",
       "1                          NaN           NaN         NaN   \n",
       "2             The Intouchables      pancakes  barred owl   \n",
       "3                   James Bond       bananas         cat   \n",
       "4                 Forrest Gump      dominoes       coral   \n",
       "5  Retired Extremely Dangerous       carrots    elephant   \n",
       "6           The Imitation Game         humus   groundhog   \n",
       "7             The Philosophers     chocolate      lizard   \n",
       "8         Call Me by Your Name  Kinder bueno        None   \n",
       "9               Shutter Island      Pringles        None   \n",
       "\n",
       "   loop_rating_movie.thisRepN  loop_rating_movie.thisTrialN  \\\n",
       "0                         NaN                           NaN   \n",
       "1                         NaN                           NaN   \n",
       "2                         0.0                           0.0   \n",
       "3                         0.0                           1.0   \n",
       "4                         0.0                           2.0   \n",
       "5                         0.0                           3.0   \n",
       "6                         0.0                           4.0   \n",
       "7                         0.0                           5.0   \n",
       "8                         0.0                           6.0   \n",
       "9                         0.0                           7.0   \n",
       "\n",
       "   loop_rating_movie.thisN  loop_rating_movie.thisIndex  \\\n",
       "0                      NaN                          NaN   \n",
       "1                      NaN                          NaN   \n",
       "2                      0.0                          0.0   \n",
       "3                      1.0                          1.0   \n",
       "4                      2.0                          2.0   \n",
       "5                      3.0                          3.0   \n",
       "6                      4.0                          4.0   \n",
       "7                      5.0                          5.0   \n",
       "8                      6.0                          6.0   \n",
       "9                      7.0                          7.0   \n",
       "\n",
       "   loop_rating_snacks.thisRepN  loop_rating_snacks.thisTrialN  \\\n",
       "0                          NaN                            NaN   \n",
       "1                          NaN                            NaN   \n",
       "2                          NaN                            NaN   \n",
       "3                          NaN                            NaN   \n",
       "4                          NaN                            NaN   \n",
       "5                          NaN                            NaN   \n",
       "6                          NaN                            NaN   \n",
       "7                          NaN                            NaN   \n",
       "8                          NaN                            NaN   \n",
       "9                          NaN                            NaN   \n",
       "\n",
       "   loop_rating_snacks.thisN  ...  participant  session   age  left-handed  \\\n",
       "0                       NaN  ...   Heidi Klum      1.0  43.0        False   \n",
       "1                       NaN  ...   Heidi Klum      1.0  43.0        False   \n",
       "2                       NaN  ...   Heidi Klum      1.0  43.0        False   \n",
       "3                       NaN  ...   Heidi Klum      1.0  43.0        False   \n",
       "4                       NaN  ...   Heidi Klum      1.0  43.0        False   \n",
       "5                       NaN  ...   Heidi Klum      1.0  43.0        False   \n",
       "6                       NaN  ...   Heidi Klum      1.0  43.0        False   \n",
       "7                       NaN  ...   Heidi Klum      1.0  43.0        False   \n",
       "8                       NaN  ...   Heidi Klum      1.0  43.0        False   \n",
       "9                       NaN  ...   Heidi Klum      1.0  43.0        False   \n",
       "\n",
       "   like this course              date     expName psychopyVersion  frameRate  \\\n",
       "0               Yes  2022_Jan_26_1600  experiment        2021.2.3  59.572017   \n",
       "1               Yes  2022_Jan_26_1600  experiment        2021.2.3  59.572017   \n",
       "2               Yes  2022_Jan_26_1600  experiment        2021.2.3  59.572017   \n",
       "3               Yes  2022_Jan_26_1600  experiment        2021.2.3  59.572017   \n",
       "4               Yes  2022_Jan_26_1600  experiment        2021.2.3  59.572017   \n",
       "5               Yes  2022_Jan_26_1600  experiment        2021.2.3  59.572017   \n",
       "6               Yes  2022_Jan_26_1600  experiment        2021.2.3  59.572017   \n",
       "7               Yes  2022_Jan_26_1600  experiment        2021.2.3  59.572017   \n",
       "8               Yes  2022_Jan_26_1600  experiment        2021.2.3  59.572017   \n",
       "9               Yes  2022_Jan_26_1600  experiment        2021.2.3  59.572017   \n",
       "\n",
       "   Unnamed: 92  \n",
       "0          NaN  \n",
       "1          NaN  \n",
       "2          NaN  \n",
       "3          NaN  \n",
       "4          NaN  \n",
       "5          NaN  \n",
       "6          NaN  \n",
       "7          NaN  \n",
       "8          NaN  \n",
       "9          NaN  \n",
       "\n",
       "[10 rows x 93 columns]"
      ]
     },
     "execution_count": 19,
     "metadata": {},
     "output_type": "execute_result"
    }
   ],
   "source": [
    "data_loaded.head(n=10)"
   ]
  },
  {
   "cell_type": "markdown",
   "metadata": {
    "slideshow": {
     "slide_type": "subslide"
    }
   },
   "source": [
    "Ah yes, that's it: we see `columns` and `rows` and respective `values` therein. It's intelligible and should now rather easily allow us to `explore` our data!\n",
    "\n",
    "<center><img src=\"https://pandas.pydata.org/docs/_images/01_table_dataframe.svg\" width=\"500px\" style=\"margin-bottom: 10px;\"></center>"
   ]
  },
  {
   "cell_type": "markdown",
   "metadata": {
    "slideshow": {
     "slide_type": "fragment"
    }
   },
   "source": [
    "So, what's the lesson here?\n",
    "\n",
    "- always check your data files regarding their format\n",
    "- always check delimiters\n",
    "- before you start implementing a lot of things manually, be lazy and \n",
    "  check if `python` has a dedicated `module` that will ease up these processes\n",
    "  (spoiler: mosts of the time it does!)"
   ]
  },
  {
   "cell_type": "markdown",
   "metadata": {
    "slideshow": {
     "slide_type": "slide"
    }
   },
   "source": [
    "### Exploring data\n",
    "\n",
    "Now that our `data` is loaded and apparently in the right form, we can start exploring it in more detail. As mentioned above, `pandas` makes this super easy and allows us to check various aspects of our `data`. First of all, let's bring it back."
   ]
  },
  {
   "cell_type": "code",
   "execution_count": 20,
   "metadata": {},
   "outputs": [
    {
     "data": {
      "text/html": [
       "<div>\n",
       "<style scoped>\n",
       "    .dataframe tbody tr th:only-of-type {\n",
       "        vertical-align: middle;\n",
       "    }\n",
       "\n",
       "    .dataframe tbody tr th {\n",
       "        vertical-align: top;\n",
       "    }\n",
       "\n",
       "    .dataframe thead th {\n",
       "        text-align: right;\n",
       "    }\n",
       "</style>\n",
       "<table border=\"1\" class=\"dataframe\">\n",
       "  <thead>\n",
       "    <tr style=\"text-align: right;\">\n",
       "      <th></th>\n",
       "      <th>movie</th>\n",
       "      <th>snack</th>\n",
       "      <th>animal</th>\n",
       "      <th>loop_rating_movie.thisRepN</th>\n",
       "      <th>loop_rating_movie.thisTrialN</th>\n",
       "      <th>loop_rating_movie.thisN</th>\n",
       "      <th>loop_rating_movie.thisIndex</th>\n",
       "      <th>loop_rating_snacks.thisRepN</th>\n",
       "      <th>loop_rating_snacks.thisTrialN</th>\n",
       "      <th>loop_rating_snacks.thisN</th>\n",
       "      <th>...</th>\n",
       "      <th>participant</th>\n",
       "      <th>session</th>\n",
       "      <th>age</th>\n",
       "      <th>left-handed</th>\n",
       "      <th>like this course</th>\n",
       "      <th>date</th>\n",
       "      <th>expName</th>\n",
       "      <th>psychopyVersion</th>\n",
       "      <th>frameRate</th>\n",
       "      <th>Unnamed: 92</th>\n",
       "    </tr>\n",
       "  </thead>\n",
       "  <tbody>\n",
       "    <tr>\n",
       "      <th>0</th>\n",
       "      <td>NaN</td>\n",
       "      <td>NaN</td>\n",
       "      <td>NaN</td>\n",
       "      <td>NaN</td>\n",
       "      <td>NaN</td>\n",
       "      <td>NaN</td>\n",
       "      <td>NaN</td>\n",
       "      <td>NaN</td>\n",
       "      <td>NaN</td>\n",
       "      <td>NaN</td>\n",
       "      <td>...</td>\n",
       "      <td>Heidi Klum</td>\n",
       "      <td>1.0</td>\n",
       "      <td>43.0</td>\n",
       "      <td>False</td>\n",
       "      <td>Yes</td>\n",
       "      <td>2022_Jan_26_1600</td>\n",
       "      <td>experiment</td>\n",
       "      <td>2021.2.3</td>\n",
       "      <td>59.572017</td>\n",
       "      <td>NaN</td>\n",
       "    </tr>\n",
       "    <tr>\n",
       "      <th>1</th>\n",
       "      <td>NaN</td>\n",
       "      <td>NaN</td>\n",
       "      <td>NaN</td>\n",
       "      <td>NaN</td>\n",
       "      <td>NaN</td>\n",
       "      <td>NaN</td>\n",
       "      <td>NaN</td>\n",
       "      <td>NaN</td>\n",
       "      <td>NaN</td>\n",
       "      <td>NaN</td>\n",
       "      <td>...</td>\n",
       "      <td>Heidi Klum</td>\n",
       "      <td>1.0</td>\n",
       "      <td>43.0</td>\n",
       "      <td>False</td>\n",
       "      <td>Yes</td>\n",
       "      <td>2022_Jan_26_1600</td>\n",
       "      <td>experiment</td>\n",
       "      <td>2021.2.3</td>\n",
       "      <td>59.572017</td>\n",
       "      <td>NaN</td>\n",
       "    </tr>\n",
       "    <tr>\n",
       "      <th>2</th>\n",
       "      <td>The Intouchables</td>\n",
       "      <td>pancakes</td>\n",
       "      <td>barred owl</td>\n",
       "      <td>0.0</td>\n",
       "      <td>0.0</td>\n",
       "      <td>0.0</td>\n",
       "      <td>0.0</td>\n",
       "      <td>NaN</td>\n",
       "      <td>NaN</td>\n",
       "      <td>NaN</td>\n",
       "      <td>...</td>\n",
       "      <td>Heidi Klum</td>\n",
       "      <td>1.0</td>\n",
       "      <td>43.0</td>\n",
       "      <td>False</td>\n",
       "      <td>Yes</td>\n",
       "      <td>2022_Jan_26_1600</td>\n",
       "      <td>experiment</td>\n",
       "      <td>2021.2.3</td>\n",
       "      <td>59.572017</td>\n",
       "      <td>NaN</td>\n",
       "    </tr>\n",
       "    <tr>\n",
       "      <th>3</th>\n",
       "      <td>James Bond</td>\n",
       "      <td>bananas</td>\n",
       "      <td>cat</td>\n",
       "      <td>0.0</td>\n",
       "      <td>1.0</td>\n",
       "      <td>1.0</td>\n",
       "      <td>1.0</td>\n",
       "      <td>NaN</td>\n",
       "      <td>NaN</td>\n",
       "      <td>NaN</td>\n",
       "      <td>...</td>\n",
       "      <td>Heidi Klum</td>\n",
       "      <td>1.0</td>\n",
       "      <td>43.0</td>\n",
       "      <td>False</td>\n",
       "      <td>Yes</td>\n",
       "      <td>2022_Jan_26_1600</td>\n",
       "      <td>experiment</td>\n",
       "      <td>2021.2.3</td>\n",
       "      <td>59.572017</td>\n",
       "      <td>NaN</td>\n",
       "    </tr>\n",
       "    <tr>\n",
       "      <th>4</th>\n",
       "      <td>Forrest Gump</td>\n",
       "      <td>dominoes</td>\n",
       "      <td>coral</td>\n",
       "      <td>0.0</td>\n",
       "      <td>2.0</td>\n",
       "      <td>2.0</td>\n",
       "      <td>2.0</td>\n",
       "      <td>NaN</td>\n",
       "      <td>NaN</td>\n",
       "      <td>NaN</td>\n",
       "      <td>...</td>\n",
       "      <td>Heidi Klum</td>\n",
       "      <td>1.0</td>\n",
       "      <td>43.0</td>\n",
       "      <td>False</td>\n",
       "      <td>Yes</td>\n",
       "      <td>2022_Jan_26_1600</td>\n",
       "      <td>experiment</td>\n",
       "      <td>2021.2.3</td>\n",
       "      <td>59.572017</td>\n",
       "      <td>NaN</td>\n",
       "    </tr>\n",
       "    <tr>\n",
       "      <th>5</th>\n",
       "      <td>Retired Extremely Dangerous</td>\n",
       "      <td>carrots</td>\n",
       "      <td>elephant</td>\n",
       "      <td>0.0</td>\n",
       "      <td>3.0</td>\n",
       "      <td>3.0</td>\n",
       "      <td>3.0</td>\n",
       "      <td>NaN</td>\n",
       "      <td>NaN</td>\n",
       "      <td>NaN</td>\n",
       "      <td>...</td>\n",
       "      <td>Heidi Klum</td>\n",
       "      <td>1.0</td>\n",
       "      <td>43.0</td>\n",
       "      <td>False</td>\n",
       "      <td>Yes</td>\n",
       "      <td>2022_Jan_26_1600</td>\n",
       "      <td>experiment</td>\n",
       "      <td>2021.2.3</td>\n",
       "      <td>59.572017</td>\n",
       "      <td>NaN</td>\n",
       "    </tr>\n",
       "    <tr>\n",
       "      <th>6</th>\n",
       "      <td>The Imitation Game</td>\n",
       "      <td>humus</td>\n",
       "      <td>groundhog</td>\n",
       "      <td>0.0</td>\n",
       "      <td>4.0</td>\n",
       "      <td>4.0</td>\n",
       "      <td>4.0</td>\n",
       "      <td>NaN</td>\n",
       "      <td>NaN</td>\n",
       "      <td>NaN</td>\n",
       "      <td>...</td>\n",
       "      <td>Heidi Klum</td>\n",
       "      <td>1.0</td>\n",
       "      <td>43.0</td>\n",
       "      <td>False</td>\n",
       "      <td>Yes</td>\n",
       "      <td>2022_Jan_26_1600</td>\n",
       "      <td>experiment</td>\n",
       "      <td>2021.2.3</td>\n",
       "      <td>59.572017</td>\n",
       "      <td>NaN</td>\n",
       "    </tr>\n",
       "    <tr>\n",
       "      <th>7</th>\n",
       "      <td>The Philosophers</td>\n",
       "      <td>chocolate</td>\n",
       "      <td>lizard</td>\n",
       "      <td>0.0</td>\n",
       "      <td>5.0</td>\n",
       "      <td>5.0</td>\n",
       "      <td>5.0</td>\n",
       "      <td>NaN</td>\n",
       "      <td>NaN</td>\n",
       "      <td>NaN</td>\n",
       "      <td>...</td>\n",
       "      <td>Heidi Klum</td>\n",
       "      <td>1.0</td>\n",
       "      <td>43.0</td>\n",
       "      <td>False</td>\n",
       "      <td>Yes</td>\n",
       "      <td>2022_Jan_26_1600</td>\n",
       "      <td>experiment</td>\n",
       "      <td>2021.2.3</td>\n",
       "      <td>59.572017</td>\n",
       "      <td>NaN</td>\n",
       "    </tr>\n",
       "    <tr>\n",
       "      <th>8</th>\n",
       "      <td>Call Me by Your Name</td>\n",
       "      <td>Kinder bueno</td>\n",
       "      <td>None</td>\n",
       "      <td>0.0</td>\n",
       "      <td>6.0</td>\n",
       "      <td>6.0</td>\n",
       "      <td>6.0</td>\n",
       "      <td>NaN</td>\n",
       "      <td>NaN</td>\n",
       "      <td>NaN</td>\n",
       "      <td>...</td>\n",
       "      <td>Heidi Klum</td>\n",
       "      <td>1.0</td>\n",
       "      <td>43.0</td>\n",
       "      <td>False</td>\n",
       "      <td>Yes</td>\n",
       "      <td>2022_Jan_26_1600</td>\n",
       "      <td>experiment</td>\n",
       "      <td>2021.2.3</td>\n",
       "      <td>59.572017</td>\n",
       "      <td>NaN</td>\n",
       "    </tr>\n",
       "    <tr>\n",
       "      <th>9</th>\n",
       "      <td>Shutter Island</td>\n",
       "      <td>Pringles</td>\n",
       "      <td>None</td>\n",
       "      <td>0.0</td>\n",
       "      <td>7.0</td>\n",
       "      <td>7.0</td>\n",
       "      <td>7.0</td>\n",
       "      <td>NaN</td>\n",
       "      <td>NaN</td>\n",
       "      <td>NaN</td>\n",
       "      <td>...</td>\n",
       "      <td>Heidi Klum</td>\n",
       "      <td>1.0</td>\n",
       "      <td>43.0</td>\n",
       "      <td>False</td>\n",
       "      <td>Yes</td>\n",
       "      <td>2022_Jan_26_1600</td>\n",
       "      <td>experiment</td>\n",
       "      <td>2021.2.3</td>\n",
       "      <td>59.572017</td>\n",
       "      <td>NaN</td>\n",
       "    </tr>\n",
       "  </tbody>\n",
       "</table>\n",
       "<p>10 rows × 93 columns</p>\n",
       "</div>"
      ],
      "text/plain": [
       "                         movie         snack      animal  \\\n",
       "0                          NaN           NaN         NaN   \n",
       "1                          NaN           NaN         NaN   \n",
       "2             The Intouchables      pancakes  barred owl   \n",
       "3                   James Bond       bananas         cat   \n",
       "4                 Forrest Gump      dominoes       coral   \n",
       "5  Retired Extremely Dangerous       carrots    elephant   \n",
       "6           The Imitation Game         humus   groundhog   \n",
       "7             The Philosophers     chocolate      lizard   \n",
       "8         Call Me by Your Name  Kinder bueno        None   \n",
       "9               Shutter Island      Pringles        None   \n",
       "\n",
       "   loop_rating_movie.thisRepN  loop_rating_movie.thisTrialN  \\\n",
       "0                         NaN                           NaN   \n",
       "1                         NaN                           NaN   \n",
       "2                         0.0                           0.0   \n",
       "3                         0.0                           1.0   \n",
       "4                         0.0                           2.0   \n",
       "5                         0.0                           3.0   \n",
       "6                         0.0                           4.0   \n",
       "7                         0.0                           5.0   \n",
       "8                         0.0                           6.0   \n",
       "9                         0.0                           7.0   \n",
       "\n",
       "   loop_rating_movie.thisN  loop_rating_movie.thisIndex  \\\n",
       "0                      NaN                          NaN   \n",
       "1                      NaN                          NaN   \n",
       "2                      0.0                          0.0   \n",
       "3                      1.0                          1.0   \n",
       "4                      2.0                          2.0   \n",
       "5                      3.0                          3.0   \n",
       "6                      4.0                          4.0   \n",
       "7                      5.0                          5.0   \n",
       "8                      6.0                          6.0   \n",
       "9                      7.0                          7.0   \n",
       "\n",
       "   loop_rating_snacks.thisRepN  loop_rating_snacks.thisTrialN  \\\n",
       "0                          NaN                            NaN   \n",
       "1                          NaN                            NaN   \n",
       "2                          NaN                            NaN   \n",
       "3                          NaN                            NaN   \n",
       "4                          NaN                            NaN   \n",
       "5                          NaN                            NaN   \n",
       "6                          NaN                            NaN   \n",
       "7                          NaN                            NaN   \n",
       "8                          NaN                            NaN   \n",
       "9                          NaN                            NaN   \n",
       "\n",
       "   loop_rating_snacks.thisN  ...  participant  session   age  left-handed  \\\n",
       "0                       NaN  ...   Heidi Klum      1.0  43.0        False   \n",
       "1                       NaN  ...   Heidi Klum      1.0  43.0        False   \n",
       "2                       NaN  ...   Heidi Klum      1.0  43.0        False   \n",
       "3                       NaN  ...   Heidi Klum      1.0  43.0        False   \n",
       "4                       NaN  ...   Heidi Klum      1.0  43.0        False   \n",
       "5                       NaN  ...   Heidi Klum      1.0  43.0        False   \n",
       "6                       NaN  ...   Heidi Klum      1.0  43.0        False   \n",
       "7                       NaN  ...   Heidi Klum      1.0  43.0        False   \n",
       "8                       NaN  ...   Heidi Klum      1.0  43.0        False   \n",
       "9                       NaN  ...   Heidi Klum      1.0  43.0        False   \n",
       "\n",
       "   like this course              date     expName psychopyVersion  frameRate  \\\n",
       "0               Yes  2022_Jan_26_1600  experiment        2021.2.3  59.572017   \n",
       "1               Yes  2022_Jan_26_1600  experiment        2021.2.3  59.572017   \n",
       "2               Yes  2022_Jan_26_1600  experiment        2021.2.3  59.572017   \n",
       "3               Yes  2022_Jan_26_1600  experiment        2021.2.3  59.572017   \n",
       "4               Yes  2022_Jan_26_1600  experiment        2021.2.3  59.572017   \n",
       "5               Yes  2022_Jan_26_1600  experiment        2021.2.3  59.572017   \n",
       "6               Yes  2022_Jan_26_1600  experiment        2021.2.3  59.572017   \n",
       "7               Yes  2022_Jan_26_1600  experiment        2021.2.3  59.572017   \n",
       "8               Yes  2022_Jan_26_1600  experiment        2021.2.3  59.572017   \n",
       "9               Yes  2022_Jan_26_1600  experiment        2021.2.3  59.572017   \n",
       "\n",
       "   Unnamed: 92  \n",
       "0          NaN  \n",
       "1          NaN  \n",
       "2          NaN  \n",
       "3          NaN  \n",
       "4          NaN  \n",
       "5          NaN  \n",
       "6          NaN  \n",
       "7          NaN  \n",
       "8          NaN  \n",
       "9          NaN  \n",
       "\n",
       "[10 rows x 93 columns]"
      ]
     },
     "execution_count": 20,
     "metadata": {},
     "output_type": "execute_result"
    }
   ],
   "source": [
    "data_loaded.head(n=10)"
   ]
  },
  {
   "cell_type": "markdown",
   "metadata": {
    "slideshow": {
     "slide_type": "subslide"
    }
   },
   "source": [
    "Comparably to a `numpy array`, we could for example use `.shape` to get an idea regarding the dimensions of our, attention, `dataframe`."
   ]
  },
  {
   "cell_type": "code",
   "execution_count": 21,
   "metadata": {},
   "outputs": [
    {
     "data": {
      "text/plain": [
       "(42, 93)"
      ]
     },
     "execution_count": 21,
     "metadata": {},
     "output_type": "execute_result"
    }
   ],
   "source": [
    "data_loaded.shape"
   ]
  },
  {
   "cell_type": "markdown",
   "metadata": {
    "slideshow": {
     "slide_type": "fragment"
    }
   },
   "source": [
    "While the first number refers to the amount of `rows`, the second indicates the amount of `columns` in our `dataframe`. Regarding the first, we can also check the `index` of our `dataframe`, i.e. the name of the `rows`. By default/most often this will be integers (`0-N`) but can also be set to something else, e.g. `participants`, `dates`, etc. . "
   ]
  },
  {
   "cell_type": "code",
   "execution_count": 22,
   "metadata": {},
   "outputs": [
    {
     "data": {
      "text/plain": [
       "RangeIndex(start=0, stop=42, step=1)"
      ]
     },
     "execution_count": 22,
     "metadata": {},
     "output_type": "execute_result"
    }
   ],
   "source": [
    "data_loaded.index"
   ]
  },
  {
   "cell_type": "markdown",
   "metadata": {
    "slideshow": {
     "slide_type": "subslide"
    }
   },
   "source": [
    "In order to get a first very general overview of our `dataframe` and the `data` in, `pandas` has an amazing `function` called `.describe()` which will provide `summary statistics` for each `column`, including `count`, `mean`, `sd`, `min`/`max` and `percentiles`.  \n",
    "\n",
    "<center><img src=\"https://pandas.pydata.org/pandas-docs/dev/_images/06_reduction.svg\" width=\"500px\" style=\"margin-bottom: 10px;\"></center>"
   ]
  },
  {
   "cell_type": "code",
   "execution_count": 23,
   "metadata": {},
   "outputs": [
    {
     "data": {
      "text/html": [
       "<div>\n",
       "<style scoped>\n",
       "    .dataframe tbody tr th:only-of-type {\n",
       "        vertical-align: middle;\n",
       "    }\n",
       "\n",
       "    .dataframe tbody tr th {\n",
       "        vertical-align: top;\n",
       "    }\n",
       "\n",
       "    .dataframe thead th {\n",
       "        text-align: right;\n",
       "    }\n",
       "</style>\n",
       "<table border=\"1\" class=\"dataframe\">\n",
       "  <thead>\n",
       "    <tr style=\"text-align: right;\">\n",
       "      <th></th>\n",
       "      <th>loop_rating_movie.thisRepN</th>\n",
       "      <th>loop_rating_movie.thisTrialN</th>\n",
       "      <th>loop_rating_movie.thisN</th>\n",
       "      <th>loop_rating_movie.thisIndex</th>\n",
       "      <th>loop_rating_snacks.thisRepN</th>\n",
       "      <th>loop_rating_snacks.thisTrialN</th>\n",
       "      <th>loop_rating_snacks.thisN</th>\n",
       "      <th>loop_rating_snacks.thisIndex</th>\n",
       "      <th>loop_rating_animals.thisRepN</th>\n",
       "      <th>loop_rating_animals.thisTrialN</th>\n",
       "      <th>...</th>\n",
       "      <th>spacebar_animals.started</th>\n",
       "      <th>explanation_animals.started</th>\n",
       "      <th>end.started</th>\n",
       "      <th>spacebar_end.rt</th>\n",
       "      <th>spacebar_end.started</th>\n",
       "      <th>thanks_image.started</th>\n",
       "      <th>session</th>\n",
       "      <th>age</th>\n",
       "      <th>frameRate</th>\n",
       "      <th>Unnamed: 92</th>\n",
       "    </tr>\n",
       "  </thead>\n",
       "  <tbody>\n",
       "    <tr>\n",
       "      <th>count</th>\n",
       "      <td>17.0</td>\n",
       "      <td>17.000000</td>\n",
       "      <td>17.000000</td>\n",
       "      <td>17.000000</td>\n",
       "      <td>15.0</td>\n",
       "      <td>15.000000</td>\n",
       "      <td>15.000000</td>\n",
       "      <td>15.000000</td>\n",
       "      <td>6.0</td>\n",
       "      <td>6.000000</td>\n",
       "      <td>...</td>\n",
       "      <td>6.000000</td>\n",
       "      <td>6.000000</td>\n",
       "      <td>1.000000</td>\n",
       "      <td>1.000000</td>\n",
       "      <td>1.000000</td>\n",
       "      <td>1.00000</td>\n",
       "      <td>41.0</td>\n",
       "      <td>41.0</td>\n",
       "      <td>41.000000</td>\n",
       "      <td>0.0</td>\n",
       "    </tr>\n",
       "    <tr>\n",
       "      <th>mean</th>\n",
       "      <td>0.0</td>\n",
       "      <td>8.000000</td>\n",
       "      <td>8.000000</td>\n",
       "      <td>8.000000</td>\n",
       "      <td>0.0</td>\n",
       "      <td>7.000000</td>\n",
       "      <td>7.000000</td>\n",
       "      <td>7.000000</td>\n",
       "      <td>0.0</td>\n",
       "      <td>2.500000</td>\n",
       "      <td>...</td>\n",
       "      <td>157.171842</td>\n",
       "      <td>157.171842</td>\n",
       "      <td>169.010592</td>\n",
       "      <td>3.904135</td>\n",
       "      <td>169.010592</td>\n",
       "      <td>172.94734</td>\n",
       "      <td>1.0</td>\n",
       "      <td>43.0</td>\n",
       "      <td>59.572017</td>\n",
       "      <td>NaN</td>\n",
       "    </tr>\n",
       "    <tr>\n",
       "      <th>std</th>\n",
       "      <td>0.0</td>\n",
       "      <td>5.049752</td>\n",
       "      <td>5.049752</td>\n",
       "      <td>5.049752</td>\n",
       "      <td>0.0</td>\n",
       "      <td>4.472136</td>\n",
       "      <td>4.472136</td>\n",
       "      <td>4.472136</td>\n",
       "      <td>0.0</td>\n",
       "      <td>1.870829</td>\n",
       "      <td>...</td>\n",
       "      <td>7.021973</td>\n",
       "      <td>7.021973</td>\n",
       "      <td>NaN</td>\n",
       "      <td>NaN</td>\n",
       "      <td>NaN</td>\n",
       "      <td>NaN</td>\n",
       "      <td>0.0</td>\n",
       "      <td>0.0</td>\n",
       "      <td>0.000000</td>\n",
       "      <td>NaN</td>\n",
       "    </tr>\n",
       "    <tr>\n",
       "      <th>min</th>\n",
       "      <td>0.0</td>\n",
       "      <td>0.000000</td>\n",
       "      <td>0.000000</td>\n",
       "      <td>0.000000</td>\n",
       "      <td>0.0</td>\n",
       "      <td>0.000000</td>\n",
       "      <td>0.000000</td>\n",
       "      <td>0.000000</td>\n",
       "      <td>0.0</td>\n",
       "      <td>0.000000</td>\n",
       "      <td>...</td>\n",
       "      <td>147.578871</td>\n",
       "      <td>147.578871</td>\n",
       "      <td>169.010592</td>\n",
       "      <td>3.904135</td>\n",
       "      <td>169.010592</td>\n",
       "      <td>172.94734</td>\n",
       "      <td>1.0</td>\n",
       "      <td>43.0</td>\n",
       "      <td>59.572017</td>\n",
       "      <td>NaN</td>\n",
       "    </tr>\n",
       "    <tr>\n",
       "      <th>25%</th>\n",
       "      <td>0.0</td>\n",
       "      <td>4.000000</td>\n",
       "      <td>4.000000</td>\n",
       "      <td>4.000000</td>\n",
       "      <td>0.0</td>\n",
       "      <td>3.500000</td>\n",
       "      <td>3.500000</td>\n",
       "      <td>3.500000</td>\n",
       "      <td>0.0</td>\n",
       "      <td>1.250000</td>\n",
       "      <td>...</td>\n",
       "      <td>152.339791</td>\n",
       "      <td>152.339791</td>\n",
       "      <td>169.010592</td>\n",
       "      <td>3.904135</td>\n",
       "      <td>169.010592</td>\n",
       "      <td>172.94734</td>\n",
       "      <td>1.0</td>\n",
       "      <td>43.0</td>\n",
       "      <td>59.572017</td>\n",
       "      <td>NaN</td>\n",
       "    </tr>\n",
       "    <tr>\n",
       "      <th>50%</th>\n",
       "      <td>0.0</td>\n",
       "      <td>8.000000</td>\n",
       "      <td>8.000000</td>\n",
       "      <td>8.000000</td>\n",
       "      <td>0.0</td>\n",
       "      <td>7.000000</td>\n",
       "      <td>7.000000</td>\n",
       "      <td>7.000000</td>\n",
       "      <td>0.0</td>\n",
       "      <td>2.500000</td>\n",
       "      <td>...</td>\n",
       "      <td>157.730187</td>\n",
       "      <td>157.730187</td>\n",
       "      <td>169.010592</td>\n",
       "      <td>3.904135</td>\n",
       "      <td>169.010592</td>\n",
       "      <td>172.94734</td>\n",
       "      <td>1.0</td>\n",
       "      <td>43.0</td>\n",
       "      <td>59.572017</td>\n",
       "      <td>NaN</td>\n",
       "    </tr>\n",
       "    <tr>\n",
       "      <th>75%</th>\n",
       "      <td>0.0</td>\n",
       "      <td>12.000000</td>\n",
       "      <td>12.000000</td>\n",
       "      <td>12.000000</td>\n",
       "      <td>0.0</td>\n",
       "      <td>10.500000</td>\n",
       "      <td>10.500000</td>\n",
       "      <td>10.500000</td>\n",
       "      <td>0.0</td>\n",
       "      <td>3.750000</td>\n",
       "      <td>...</td>\n",
       "      <td>161.915188</td>\n",
       "      <td>161.915188</td>\n",
       "      <td>169.010592</td>\n",
       "      <td>3.904135</td>\n",
       "      <td>169.010592</td>\n",
       "      <td>172.94734</td>\n",
       "      <td>1.0</td>\n",
       "      <td>43.0</td>\n",
       "      <td>59.572017</td>\n",
       "      <td>NaN</td>\n",
       "    </tr>\n",
       "    <tr>\n",
       "      <th>max</th>\n",
       "      <td>0.0</td>\n",
       "      <td>16.000000</td>\n",
       "      <td>16.000000</td>\n",
       "      <td>16.000000</td>\n",
       "      <td>0.0</td>\n",
       "      <td>14.000000</td>\n",
       "      <td>14.000000</td>\n",
       "      <td>14.000000</td>\n",
       "      <td>0.0</td>\n",
       "      <td>5.000000</td>\n",
       "      <td>...</td>\n",
       "      <td>166.138628</td>\n",
       "      <td>166.138628</td>\n",
       "      <td>169.010592</td>\n",
       "      <td>3.904135</td>\n",
       "      <td>169.010592</td>\n",
       "      <td>172.94734</td>\n",
       "      <td>1.0</td>\n",
       "      <td>43.0</td>\n",
       "      <td>59.572017</td>\n",
       "      <td>NaN</td>\n",
       "    </tr>\n",
       "  </tbody>\n",
       "</table>\n",
       "<p>8 rows × 52 columns</p>\n",
       "</div>"
      ],
      "text/plain": [
       "       loop_rating_movie.thisRepN  loop_rating_movie.thisTrialN  \\\n",
       "count                        17.0                     17.000000   \n",
       "mean                          0.0                      8.000000   \n",
       "std                           0.0                      5.049752   \n",
       "min                           0.0                      0.000000   \n",
       "25%                           0.0                      4.000000   \n",
       "50%                           0.0                      8.000000   \n",
       "75%                           0.0                     12.000000   \n",
       "max                           0.0                     16.000000   \n",
       "\n",
       "       loop_rating_movie.thisN  loop_rating_movie.thisIndex  \\\n",
       "count                17.000000                    17.000000   \n",
       "mean                  8.000000                     8.000000   \n",
       "std                   5.049752                     5.049752   \n",
       "min                   0.000000                     0.000000   \n",
       "25%                   4.000000                     4.000000   \n",
       "50%                   8.000000                     8.000000   \n",
       "75%                  12.000000                    12.000000   \n",
       "max                  16.000000                    16.000000   \n",
       "\n",
       "       loop_rating_snacks.thisRepN  loop_rating_snacks.thisTrialN  \\\n",
       "count                         15.0                      15.000000   \n",
       "mean                           0.0                       7.000000   \n",
       "std                            0.0                       4.472136   \n",
       "min                            0.0                       0.000000   \n",
       "25%                            0.0                       3.500000   \n",
       "50%                            0.0                       7.000000   \n",
       "75%                            0.0                      10.500000   \n",
       "max                            0.0                      14.000000   \n",
       "\n",
       "       loop_rating_snacks.thisN  loop_rating_snacks.thisIndex  \\\n",
       "count                 15.000000                     15.000000   \n",
       "mean                   7.000000                      7.000000   \n",
       "std                    4.472136                      4.472136   \n",
       "min                    0.000000                      0.000000   \n",
       "25%                    3.500000                      3.500000   \n",
       "50%                    7.000000                      7.000000   \n",
       "75%                   10.500000                     10.500000   \n",
       "max                   14.000000                     14.000000   \n",
       "\n",
       "       loop_rating_animals.thisRepN  loop_rating_animals.thisTrialN  ...  \\\n",
       "count                           6.0                        6.000000  ...   \n",
       "mean                            0.0                        2.500000  ...   \n",
       "std                             0.0                        1.870829  ...   \n",
       "min                             0.0                        0.000000  ...   \n",
       "25%                             0.0                        1.250000  ...   \n",
       "50%                             0.0                        2.500000  ...   \n",
       "75%                             0.0                        3.750000  ...   \n",
       "max                             0.0                        5.000000  ...   \n",
       "\n",
       "       spacebar_animals.started  explanation_animals.started  end.started  \\\n",
       "count                  6.000000                     6.000000     1.000000   \n",
       "mean                 157.171842                   157.171842   169.010592   \n",
       "std                    7.021973                     7.021973          NaN   \n",
       "min                  147.578871                   147.578871   169.010592   \n",
       "25%                  152.339791                   152.339791   169.010592   \n",
       "50%                  157.730187                   157.730187   169.010592   \n",
       "75%                  161.915188                   161.915188   169.010592   \n",
       "max                  166.138628                   166.138628   169.010592   \n",
       "\n",
       "       spacebar_end.rt  spacebar_end.started  thanks_image.started  session  \\\n",
       "count         1.000000              1.000000               1.00000     41.0   \n",
       "mean          3.904135            169.010592             172.94734      1.0   \n",
       "std                NaN                   NaN                   NaN      0.0   \n",
       "min           3.904135            169.010592             172.94734      1.0   \n",
       "25%           3.904135            169.010592             172.94734      1.0   \n",
       "50%           3.904135            169.010592             172.94734      1.0   \n",
       "75%           3.904135            169.010592             172.94734      1.0   \n",
       "max           3.904135            169.010592             172.94734      1.0   \n",
       "\n",
       "        age  frameRate  Unnamed: 92  \n",
       "count  41.0  41.000000          0.0  \n",
       "mean   43.0  59.572017          NaN  \n",
       "std     0.0   0.000000          NaN  \n",
       "min    43.0  59.572017          NaN  \n",
       "25%    43.0  59.572017          NaN  \n",
       "50%    43.0  59.572017          NaN  \n",
       "75%    43.0  59.572017          NaN  \n",
       "max    43.0  59.572017          NaN  \n",
       "\n",
       "[8 rows x 52 columns]"
      ]
     },
     "execution_count": 23,
     "metadata": {},
     "output_type": "execute_result"
    }
   ],
   "source": [
    "data_loaded.describe()"
   ]
  },
  {
   "cell_type": "markdown",
   "metadata": {
    "slideshow": {
     "slide_type": "subslide"
    }
   },
   "source": [
    "One thing we immediately notice is the large difference between number of total `columns` and number of `columns` included in the descriptive overview. Something is going on there and this could make working with the `dataframe` a bit cumbersome. Thus, let's get a `list` of all `columns` to check what's happening. This can be done via the `.columns` `function`: "
   ]
  },
  {
   "cell_type": "code",
   "execution_count": 24,
   "metadata": {},
   "outputs": [
    {
     "data": {
      "text/plain": [
       "Index(['movie', 'snack', 'animal', 'loop_rating_movie.thisRepN',\n",
       "       'loop_rating_movie.thisTrialN', 'loop_rating_movie.thisN',\n",
       "       'loop_rating_movie.thisIndex', 'loop_rating_snacks.thisRepN',\n",
       "       'loop_rating_snacks.thisTrialN', 'loop_rating_snacks.thisN',\n",
       "       'loop_rating_snacks.thisIndex', 'loop_rating_animals.thisRepN',\n",
       "       'loop_rating_animals.thisTrialN', 'loop_rating_animals.thisN',\n",
       "       'loop_rating_animals.thisIndex', 'welcome_message.started',\n",
       "       'welcome_message.stopped', 'spacebar_welcome.keys',\n",
       "       'spacebar_welcome.rt', 'spacebar_welcome.started',\n",
       "       'spacebar_welcome.stopped', 'instruction.started',\n",
       "       'instruction.stopped', 'spacebar_instrunctions.keys',\n",
       "       'spacebar_instrunctions.rt', 'spacebar_instrunctions.started',\n",
       "       'spacebar_instrunctions.stopped', 'movie_intro_text.started',\n",
       "       'movie_intro_text.stopped', 'movies.started', 'movies.stopped',\n",
       "       'question_rating.started', 'question_rating.stopped',\n",
       "       'rating_movies.response', 'rating_movies.rt', 'rating_movies.started',\n",
       "       'rating_movies.stopped', 'spacebar_response.keys',\n",
       "       'spacebar_response.rt', 'spacebar_response.started',\n",
       "       'spacebar_response.stopped', 'explanation_rating.started',\n",
       "       'explanation_rating.stopped', 'snack_intro_text.started',\n",
       "       'snack_intro_text.stopped', 'snacks.started', 'snacks.stopped',\n",
       "       'question_rating_snack.started', 'question_rating_snack.stopped',\n",
       "       'rating_snacks.response', 'rating_snacks.rt', 'rating_snacks.started',\n",
       "       'rating_snacks.stopped', 'spacebar_response_snacks.keys',\n",
       "       'spacebar_response_snacks.rt', 'spacebar_response_snacks.started',\n",
       "       'spacebar_response_snacks.stopped', 'explanation_rating_snacks.started',\n",
       "       'explanation_rating_snacks.stopped', 'animal_intro_text.started',\n",
       "       'animal_intro_text.stopped', 'animal_text.started',\n",
       "       'animal_text.stopped', 'question_animal.started',\n",
       "       'question_animal.stopped', 'rating_animals.response',\n",
       "       'rating_animals.rt', 'rating_animals.started', 'rating_animals.stopped',\n",
       "       'spacebar_animals.keys', 'spacebar_animals.rt',\n",
       "       'spacebar_animals.started', 'spacebar_animals.stopped',\n",
       "       'explanation_animals.started', 'explanation_animals.stopped',\n",
       "       'end.started', 'end.stopped', 'spacebar_end.keys', 'spacebar_end.rt',\n",
       "       'spacebar_end.started', 'spacebar_end.stopped', 'thanks_image.started',\n",
       "       'thanks_image.stopped', 'participant', 'session', 'age', 'left-handed',\n",
       "       'like this course', 'date', 'expName', 'psychopyVersion', 'frameRate',\n",
       "       'Unnamed: 92'],\n",
       "      dtype='object')"
      ]
     },
     "execution_count": 24,
     "metadata": {},
     "output_type": "execute_result"
    }
   ],
   "source": [
    "data_loaded.columns"
   ]
  },
  {
   "cell_type": "markdown",
   "metadata": {
    "slideshow": {
     "slide_type": "subslide"
    }
   },
   "source": [
    "Oh damn, that's quite a bit. Given that we are interested in `analyzing` the `rating`s and `demographic data` we actually don't need a fair amount of `columns` and respective information therein. In other words: we need to `select` certain `column`s. \n",
    "\n",
    "<center><img src=\"https://pandas.pydata.org/docs/dev/_images/03_subset_columns.svg\" width=\"600px\" style=\"margin-bottom: 10px;\"></center>"
   ]
  },
  {
   "cell_type": "markdown",
   "metadata": {
    "slideshow": {
     "slide_type": "fragment"
    }
   },
   "source": [
    "In `pandas` this can be achieved via multiple options: `column names`, `slicing`, `labels`, `position` and `booleans`. We will check a few of those but start with the obvious ones: `column names` and `slicing`."
   ]
  },
  {
   "cell_type": "markdown",
   "metadata": {
    "slideshow": {
     "slide_type": "subslide"
    }
   },
   "source": [
    "Selecting `columns` via `column names` is straightforward in `pandas` and works comparably to selecting `keys` from a `dictionary`: `dataframe[column_name]`. For example, if we want to get the `participant ID`, i.e. the `column` `\"participant\"`, we can simply do the following:"
   ]
  },
  {
   "cell_type": "code",
   "execution_count": 25,
   "metadata": {},
   "outputs": [
    {
     "data": {
      "text/plain": [
       "0    Heidi Klum\n",
       "1    Heidi Klum\n",
       "2    Heidi Klum\n",
       "3    Heidi Klum\n",
       "4    Heidi Klum\n",
       "Name: participant, dtype: object"
      ]
     },
     "execution_count": 25,
     "metadata": {},
     "output_type": "execute_result"
    }
   ],
   "source": [
    "data_loaded['participant'].head()"
   ]
  },
  {
   "cell_type": "markdown",
   "metadata": {
    "slideshow": {
     "slide_type": "subslide"
    }
   },
   "source": [
    "One important aspect to note here, is that selecting a single `column` does not return a `dataframe` but what is called a `series` in `pandas`. It has `functions` comparable to a `dataframe` but is technically distinct as it doesn't have `columns` and is more like a `vector`.\n",
    "\n",
    "<center><img src=\"https://pandas.pydata.org/docs/_images/01_table_series.svg\" width=\"200px\" style=\"margin-bottom: 10px;\"></center>"
   ]
  },
  {
   "cell_type": "code",
   "execution_count": 26,
   "metadata": {},
   "outputs": [
    {
     "data": {
      "text/plain": [
       "pandas.core.series.Series"
      ]
     },
     "execution_count": 26,
     "metadata": {},
     "output_type": "execute_result"
    }
   ],
   "source": [
    "type(data_loaded['participant'])"
   ]
  },
  {
   "cell_type": "markdown",
   "metadata": {
    "slideshow": {
     "slide_type": "subslide"
    }
   },
   "source": [
    "Obviously, we want more than one `column`. This can be achieved via providing a `list` of `column names` we would like to select or use `slicing`. For example, to select all the `columns` that contain `rating data` we can simply provide the respective `list` of `column names`:"
   ]
  },
  {
   "cell_type": "code",
   "execution_count": 28,
   "metadata": {},
   "outputs": [
    {
     "data": {
      "text/html": [
       "<div>\n",
       "<style scoped>\n",
       "    .dataframe tbody tr th:only-of-type {\n",
       "        vertical-align: middle;\n",
       "    }\n",
       "\n",
       "    .dataframe tbody tr th {\n",
       "        vertical-align: top;\n",
       "    }\n",
       "\n",
       "    .dataframe thead th {\n",
       "        text-align: right;\n",
       "    }\n",
       "</style>\n",
       "<table border=\"1\" class=\"dataframe\">\n",
       "  <thead>\n",
       "    <tr style=\"text-align: right;\">\n",
       "      <th></th>\n",
       "      <th>movie</th>\n",
       "      <th>snack</th>\n",
       "      <th>animal</th>\n",
       "      <th>rating_movies.response</th>\n",
       "      <th>rating_snacks.response</th>\n",
       "      <th>rating_animals.response</th>\n",
       "    </tr>\n",
       "  </thead>\n",
       "  <tbody>\n",
       "    <tr>\n",
       "      <th>0</th>\n",
       "      <td>NaN</td>\n",
       "      <td>NaN</td>\n",
       "      <td>NaN</td>\n",
       "      <td>NaN</td>\n",
       "      <td>NaN</td>\n",
       "      <td>NaN</td>\n",
       "    </tr>\n",
       "    <tr>\n",
       "      <th>1</th>\n",
       "      <td>NaN</td>\n",
       "      <td>NaN</td>\n",
       "      <td>NaN</td>\n",
       "      <td>NaN</td>\n",
       "      <td>NaN</td>\n",
       "      <td>NaN</td>\n",
       "    </tr>\n",
       "    <tr>\n",
       "      <th>2</th>\n",
       "      <td>The Intouchables</td>\n",
       "      <td>pancakes</td>\n",
       "      <td>barred owl</td>\n",
       "      <td>4.00</td>\n",
       "      <td>NaN</td>\n",
       "      <td>NaN</td>\n",
       "    </tr>\n",
       "    <tr>\n",
       "      <th>3</th>\n",
       "      <td>James Bond</td>\n",
       "      <td>bananas</td>\n",
       "      <td>cat</td>\n",
       "      <td>7.00</td>\n",
       "      <td>NaN</td>\n",
       "      <td>NaN</td>\n",
       "    </tr>\n",
       "    <tr>\n",
       "      <th>4</th>\n",
       "      <td>Forrest Gump</td>\n",
       "      <td>dominoes</td>\n",
       "      <td>coral</td>\n",
       "      <td>3.44</td>\n",
       "      <td>NaN</td>\n",
       "      <td>NaN</td>\n",
       "    </tr>\n",
       "    <tr>\n",
       "      <th>5</th>\n",
       "      <td>Retired Extremely Dangerous</td>\n",
       "      <td>carrots</td>\n",
       "      <td>elephant</td>\n",
       "      <td>4.00</td>\n",
       "      <td>NaN</td>\n",
       "      <td>NaN</td>\n",
       "    </tr>\n",
       "    <tr>\n",
       "      <th>6</th>\n",
       "      <td>The Imitation Game</td>\n",
       "      <td>humus</td>\n",
       "      <td>groundhog</td>\n",
       "      <td>6.02</td>\n",
       "      <td>NaN</td>\n",
       "      <td>NaN</td>\n",
       "    </tr>\n",
       "    <tr>\n",
       "      <th>7</th>\n",
       "      <td>The Philosophers</td>\n",
       "      <td>chocolate</td>\n",
       "      <td>lizard</td>\n",
       "      <td>4.00</td>\n",
       "      <td>NaN</td>\n",
       "      <td>NaN</td>\n",
       "    </tr>\n",
       "    <tr>\n",
       "      <th>8</th>\n",
       "      <td>Call Me by Your Name</td>\n",
       "      <td>Kinder bueno</td>\n",
       "      <td>None</td>\n",
       "      <td>4.00</td>\n",
       "      <td>NaN</td>\n",
       "      <td>NaN</td>\n",
       "    </tr>\n",
       "    <tr>\n",
       "      <th>9</th>\n",
       "      <td>Shutter Island</td>\n",
       "      <td>Pringles</td>\n",
       "      <td>None</td>\n",
       "      <td>5.04</td>\n",
       "      <td>NaN</td>\n",
       "      <td>NaN</td>\n",
       "    </tr>\n",
       "  </tbody>\n",
       "</table>\n",
       "</div>"
      ],
      "text/plain": [
       "                         movie         snack      animal  \\\n",
       "0                          NaN           NaN         NaN   \n",
       "1                          NaN           NaN         NaN   \n",
       "2             The Intouchables      pancakes  barred owl   \n",
       "3                   James Bond       bananas         cat   \n",
       "4                 Forrest Gump      dominoes       coral   \n",
       "5  Retired Extremely Dangerous       carrots    elephant   \n",
       "6           The Imitation Game         humus   groundhog   \n",
       "7             The Philosophers     chocolate      lizard   \n",
       "8         Call Me by Your Name  Kinder bueno        None   \n",
       "9               Shutter Island      Pringles        None   \n",
       "\n",
       "   rating_movies.response  rating_snacks.response  rating_animals.response  \n",
       "0                     NaN                     NaN                      NaN  \n",
       "1                     NaN                     NaN                      NaN  \n",
       "2                    4.00                     NaN                      NaN  \n",
       "3                    7.00                     NaN                      NaN  \n",
       "4                    3.44                     NaN                      NaN  \n",
       "5                    4.00                     NaN                      NaN  \n",
       "6                    6.02                     NaN                      NaN  \n",
       "7                    4.00                     NaN                      NaN  \n",
       "8                    4.00                     NaN                      NaN  \n",
       "9                    5.04                     NaN                      NaN  "
      ]
     },
     "execution_count": 28,
     "metadata": {},
     "output_type": "execute_result"
    }
   ],
   "source": [
    "data_loaded[['movie', 'snack', 'animal', 'rating_movies.response', 'rating_snacks.response', 'rating_animals.response']].head(n=10)"
   ]
  },
  {
   "cell_type": "markdown",
   "metadata": {
    "slideshow": {
     "slide_type": "subslide"
    }
   },
   "source": [
    "As we saw in the `list` of `columns`, the `demographic information` covers a few `columns` that are adjacent to each other. Thus, `slicing` the respective `list` works nicely to get the respective information. This works as discussed during `slicing` of `list` or `strings`, i.e. we need to define the respective positions.  "
   ]
  },
  {
   "cell_type": "code",
   "execution_count": 29,
   "metadata": {
    "slideshow": {
     "slide_type": "fragment"
    }
   },
   "outputs": [
    {
     "data": {
      "text/html": [
       "<div>\n",
       "<style scoped>\n",
       "    .dataframe tbody tr th:only-of-type {\n",
       "        vertical-align: middle;\n",
       "    }\n",
       "\n",
       "    .dataframe tbody tr th {\n",
       "        vertical-align: top;\n",
       "    }\n",
       "\n",
       "    .dataframe thead th {\n",
       "        text-align: right;\n",
       "    }\n",
       "</style>\n",
       "<table border=\"1\" class=\"dataframe\">\n",
       "  <thead>\n",
       "    <tr style=\"text-align: right;\">\n",
       "      <th></th>\n",
       "      <th>participant</th>\n",
       "      <th>session</th>\n",
       "      <th>age</th>\n",
       "      <th>left-handed</th>\n",
       "      <th>like this course</th>\n",
       "    </tr>\n",
       "  </thead>\n",
       "  <tbody>\n",
       "    <tr>\n",
       "      <th>0</th>\n",
       "      <td>Heidi Klum</td>\n",
       "      <td>1.0</td>\n",
       "      <td>43.0</td>\n",
       "      <td>False</td>\n",
       "      <td>Yes</td>\n",
       "    </tr>\n",
       "    <tr>\n",
       "      <th>1</th>\n",
       "      <td>Heidi Klum</td>\n",
       "      <td>1.0</td>\n",
       "      <td>43.0</td>\n",
       "      <td>False</td>\n",
       "      <td>Yes</td>\n",
       "    </tr>\n",
       "    <tr>\n",
       "      <th>2</th>\n",
       "      <td>Heidi Klum</td>\n",
       "      <td>1.0</td>\n",
       "      <td>43.0</td>\n",
       "      <td>False</td>\n",
       "      <td>Yes</td>\n",
       "    </tr>\n",
       "    <tr>\n",
       "      <th>3</th>\n",
       "      <td>Heidi Klum</td>\n",
       "      <td>1.0</td>\n",
       "      <td>43.0</td>\n",
       "      <td>False</td>\n",
       "      <td>Yes</td>\n",
       "    </tr>\n",
       "    <tr>\n",
       "      <th>4</th>\n",
       "      <td>Heidi Klum</td>\n",
       "      <td>1.0</td>\n",
       "      <td>43.0</td>\n",
       "      <td>False</td>\n",
       "      <td>Yes</td>\n",
       "    </tr>\n",
       "  </tbody>\n",
       "</table>\n",
       "</div>"
      ],
      "text/plain": [
       "  participant  session   age left-handed like this course\n",
       "0  Heidi Klum      1.0  43.0       False              Yes\n",
       "1  Heidi Klum      1.0  43.0       False              Yes\n",
       "2  Heidi Klum      1.0  43.0       False              Yes\n",
       "3  Heidi Klum      1.0  43.0       False              Yes\n",
       "4  Heidi Klum      1.0  43.0       False              Yes"
      ]
     },
     "execution_count": 29,
     "metadata": {},
     "output_type": "execute_result"
    }
   ],
   "source": [
    "data_loaded[data_loaded.columns[83:88]].head()"
   ]
  },
  {
   "cell_type": "markdown",
   "metadata": {
    "slideshow": {
     "slide_type": "subslide"
    }
   },
   "source": [
    "<center><img src=\"https://media1.giphy.com/media/BXOEmFSzNkOObZhIA3/giphy.gif?cid=ecf05e47iuhbrrici7z2tn33dxeu0xxi96i19uk7qphiojb3&rid=giphy.gif&ct=g\" width=\"300\"></center>\n",
    "\n",
    "<center><a href=\"https://giphy.com/gifs/theoffice-the-office-tv-secret-santa-BXOEmFSzNkOObZhIA3\">via GIPHY</a></center>\n",
    "\n",
    "**HEADS UP EVERYONE: INDEXING IN `PYTHON` STARTS AT 0**"
   ]
  },
  {
   "cell_type": "markdown",
   "metadata": {
    "slideshow": {
     "slide_type": "subslide"
    }
   },
   "source": [
    "Using both, `select`ing via `column name` and `slicing` the respective `list` of `column names` might do the trick:"
   ]
  },
  {
   "cell_type": "code",
   "execution_count": 30,
   "metadata": {},
   "outputs": [],
   "source": [
    "columns_select = list(data_loaded.columns[83:88]) + ['movie', 'snack', 'animal', 'rating_movies.response', 'rating_snacks.response', 'rating_animals.response'] "
   ]
  },
  {
   "cell_type": "code",
   "execution_count": 31,
   "metadata": {},
   "outputs": [
    {
     "data": {
      "text/plain": [
       "['participant',\n",
       " 'session',\n",
       " 'age',\n",
       " 'left-handed',\n",
       " 'like this course',\n",
       " 'movie',\n",
       " 'snack',\n",
       " 'animal',\n",
       " 'rating_movies.response',\n",
       " 'rating_snacks.response',\n",
       " 'rating_animals.response']"
      ]
     },
     "execution_count": 31,
     "metadata": {},
     "output_type": "execute_result"
    }
   ],
   "source": [
    "columns_select"
   ]
  },
  {
   "cell_type": "code",
   "execution_count": 32,
   "metadata": {},
   "outputs": [
    {
     "data": {
      "text/html": [
       "<div>\n",
       "<style scoped>\n",
       "    .dataframe tbody tr th:only-of-type {\n",
       "        vertical-align: middle;\n",
       "    }\n",
       "\n",
       "    .dataframe tbody tr th {\n",
       "        vertical-align: top;\n",
       "    }\n",
       "\n",
       "    .dataframe thead th {\n",
       "        text-align: right;\n",
       "    }\n",
       "</style>\n",
       "<table border=\"1\" class=\"dataframe\">\n",
       "  <thead>\n",
       "    <tr style=\"text-align: right;\">\n",
       "      <th></th>\n",
       "      <th>participant</th>\n",
       "      <th>session</th>\n",
       "      <th>age</th>\n",
       "      <th>left-handed</th>\n",
       "      <th>like this course</th>\n",
       "      <th>movie</th>\n",
       "      <th>snack</th>\n",
       "      <th>animal</th>\n",
       "      <th>rating_movies.response</th>\n",
       "      <th>rating_snacks.response</th>\n",
       "      <th>rating_animals.response</th>\n",
       "    </tr>\n",
       "  </thead>\n",
       "  <tbody>\n",
       "    <tr>\n",
       "      <th>0</th>\n",
       "      <td>Heidi Klum</td>\n",
       "      <td>1.0</td>\n",
       "      <td>43.0</td>\n",
       "      <td>False</td>\n",
       "      <td>Yes</td>\n",
       "      <td>NaN</td>\n",
       "      <td>NaN</td>\n",
       "      <td>NaN</td>\n",
       "      <td>NaN</td>\n",
       "      <td>NaN</td>\n",
       "      <td>NaN</td>\n",
       "    </tr>\n",
       "    <tr>\n",
       "      <th>1</th>\n",
       "      <td>Heidi Klum</td>\n",
       "      <td>1.0</td>\n",
       "      <td>43.0</td>\n",
       "      <td>False</td>\n",
       "      <td>Yes</td>\n",
       "      <td>NaN</td>\n",
       "      <td>NaN</td>\n",
       "      <td>NaN</td>\n",
       "      <td>NaN</td>\n",
       "      <td>NaN</td>\n",
       "      <td>NaN</td>\n",
       "    </tr>\n",
       "    <tr>\n",
       "      <th>2</th>\n",
       "      <td>Heidi Klum</td>\n",
       "      <td>1.0</td>\n",
       "      <td>43.0</td>\n",
       "      <td>False</td>\n",
       "      <td>Yes</td>\n",
       "      <td>The Intouchables</td>\n",
       "      <td>pancakes</td>\n",
       "      <td>barred owl</td>\n",
       "      <td>4.00</td>\n",
       "      <td>NaN</td>\n",
       "      <td>NaN</td>\n",
       "    </tr>\n",
       "    <tr>\n",
       "      <th>3</th>\n",
       "      <td>Heidi Klum</td>\n",
       "      <td>1.0</td>\n",
       "      <td>43.0</td>\n",
       "      <td>False</td>\n",
       "      <td>Yes</td>\n",
       "      <td>James Bond</td>\n",
       "      <td>bananas</td>\n",
       "      <td>cat</td>\n",
       "      <td>7.00</td>\n",
       "      <td>NaN</td>\n",
       "      <td>NaN</td>\n",
       "    </tr>\n",
       "    <tr>\n",
       "      <th>4</th>\n",
       "      <td>Heidi Klum</td>\n",
       "      <td>1.0</td>\n",
       "      <td>43.0</td>\n",
       "      <td>False</td>\n",
       "      <td>Yes</td>\n",
       "      <td>Forrest Gump</td>\n",
       "      <td>dominoes</td>\n",
       "      <td>coral</td>\n",
       "      <td>3.44</td>\n",
       "      <td>NaN</td>\n",
       "      <td>NaN</td>\n",
       "    </tr>\n",
       "    <tr>\n",
       "      <th>5</th>\n",
       "      <td>Heidi Klum</td>\n",
       "      <td>1.0</td>\n",
       "      <td>43.0</td>\n",
       "      <td>False</td>\n",
       "      <td>Yes</td>\n",
       "      <td>Retired Extremely Dangerous</td>\n",
       "      <td>carrots</td>\n",
       "      <td>elephant</td>\n",
       "      <td>4.00</td>\n",
       "      <td>NaN</td>\n",
       "      <td>NaN</td>\n",
       "    </tr>\n",
       "    <tr>\n",
       "      <th>6</th>\n",
       "      <td>Heidi Klum</td>\n",
       "      <td>1.0</td>\n",
       "      <td>43.0</td>\n",
       "      <td>False</td>\n",
       "      <td>Yes</td>\n",
       "      <td>The Imitation Game</td>\n",
       "      <td>humus</td>\n",
       "      <td>groundhog</td>\n",
       "      <td>6.02</td>\n",
       "      <td>NaN</td>\n",
       "      <td>NaN</td>\n",
       "    </tr>\n",
       "    <tr>\n",
       "      <th>7</th>\n",
       "      <td>Heidi Klum</td>\n",
       "      <td>1.0</td>\n",
       "      <td>43.0</td>\n",
       "      <td>False</td>\n",
       "      <td>Yes</td>\n",
       "      <td>The Philosophers</td>\n",
       "      <td>chocolate</td>\n",
       "      <td>lizard</td>\n",
       "      <td>4.00</td>\n",
       "      <td>NaN</td>\n",
       "      <td>NaN</td>\n",
       "    </tr>\n",
       "    <tr>\n",
       "      <th>8</th>\n",
       "      <td>Heidi Klum</td>\n",
       "      <td>1.0</td>\n",
       "      <td>43.0</td>\n",
       "      <td>False</td>\n",
       "      <td>Yes</td>\n",
       "      <td>Call Me by Your Name</td>\n",
       "      <td>Kinder bueno</td>\n",
       "      <td>None</td>\n",
       "      <td>4.00</td>\n",
       "      <td>NaN</td>\n",
       "      <td>NaN</td>\n",
       "    </tr>\n",
       "    <tr>\n",
       "      <th>9</th>\n",
       "      <td>Heidi Klum</td>\n",
       "      <td>1.0</td>\n",
       "      <td>43.0</td>\n",
       "      <td>False</td>\n",
       "      <td>Yes</td>\n",
       "      <td>Shutter Island</td>\n",
       "      <td>Pringles</td>\n",
       "      <td>None</td>\n",
       "      <td>5.04</td>\n",
       "      <td>NaN</td>\n",
       "      <td>NaN</td>\n",
       "    </tr>\n",
       "  </tbody>\n",
       "</table>\n",
       "</div>"
      ],
      "text/plain": [
       "  participant  session   age left-handed like this course  \\\n",
       "0  Heidi Klum      1.0  43.0       False              Yes   \n",
       "1  Heidi Klum      1.0  43.0       False              Yes   \n",
       "2  Heidi Klum      1.0  43.0       False              Yes   \n",
       "3  Heidi Klum      1.0  43.0       False              Yes   \n",
       "4  Heidi Klum      1.0  43.0       False              Yes   \n",
       "5  Heidi Klum      1.0  43.0       False              Yes   \n",
       "6  Heidi Klum      1.0  43.0       False              Yes   \n",
       "7  Heidi Klum      1.0  43.0       False              Yes   \n",
       "8  Heidi Klum      1.0  43.0       False              Yes   \n",
       "9  Heidi Klum      1.0  43.0       False              Yes   \n",
       "\n",
       "                         movie         snack      animal  \\\n",
       "0                          NaN           NaN         NaN   \n",
       "1                          NaN           NaN         NaN   \n",
       "2             The Intouchables      pancakes  barred owl   \n",
       "3                   James Bond       bananas         cat   \n",
       "4                 Forrest Gump      dominoes       coral   \n",
       "5  Retired Extremely Dangerous       carrots    elephant   \n",
       "6           The Imitation Game         humus   groundhog   \n",
       "7             The Philosophers     chocolate      lizard   \n",
       "8         Call Me by Your Name  Kinder bueno        None   \n",
       "9               Shutter Island      Pringles        None   \n",
       "\n",
       "   rating_movies.response  rating_snacks.response  rating_animals.response  \n",
       "0                     NaN                     NaN                      NaN  \n",
       "1                     NaN                     NaN                      NaN  \n",
       "2                    4.00                     NaN                      NaN  \n",
       "3                    7.00                     NaN                      NaN  \n",
       "4                    3.44                     NaN                      NaN  \n",
       "5                    4.00                     NaN                      NaN  \n",
       "6                    6.02                     NaN                      NaN  \n",
       "7                    4.00                     NaN                      NaN  \n",
       "8                    4.00                     NaN                      NaN  \n",
       "9                    5.04                     NaN                      NaN  "
      ]
     },
     "execution_count": 32,
     "metadata": {},
     "output_type": "execute_result"
    }
   ],
   "source": [
    "data_loaded[columns_select].head(n=10)"
   ]
  },
  {
   "cell_type": "markdown",
   "metadata": {
    "slideshow": {
     "slide_type": "subslide"
    }
   },
   "source": [
    "Cool, so let's apply the `.describe()` `function` again to the adapted `dataframe`:"
   ]
  },
  {
   "cell_type": "code",
   "execution_count": 33,
   "metadata": {},
   "outputs": [
    {
     "data": {
      "text/html": [
       "<div>\n",
       "<style scoped>\n",
       "    .dataframe tbody tr th:only-of-type {\n",
       "        vertical-align: middle;\n",
       "    }\n",
       "\n",
       "    .dataframe tbody tr th {\n",
       "        vertical-align: top;\n",
       "    }\n",
       "\n",
       "    .dataframe thead th {\n",
       "        text-align: right;\n",
       "    }\n",
       "</style>\n",
       "<table border=\"1\" class=\"dataframe\">\n",
       "  <thead>\n",
       "    <tr style=\"text-align: right;\">\n",
       "      <th></th>\n",
       "      <th>loop_rating_movie.thisRepN</th>\n",
       "      <th>loop_rating_movie.thisTrialN</th>\n",
       "      <th>loop_rating_movie.thisN</th>\n",
       "      <th>loop_rating_movie.thisIndex</th>\n",
       "      <th>loop_rating_snacks.thisRepN</th>\n",
       "      <th>loop_rating_snacks.thisTrialN</th>\n",
       "      <th>loop_rating_snacks.thisN</th>\n",
       "      <th>loop_rating_snacks.thisIndex</th>\n",
       "      <th>loop_rating_animals.thisRepN</th>\n",
       "      <th>loop_rating_animals.thisTrialN</th>\n",
       "      <th>...</th>\n",
       "      <th>spacebar_animals.started</th>\n",
       "      <th>explanation_animals.started</th>\n",
       "      <th>end.started</th>\n",
       "      <th>spacebar_end.rt</th>\n",
       "      <th>spacebar_end.started</th>\n",
       "      <th>thanks_image.started</th>\n",
       "      <th>session</th>\n",
       "      <th>age</th>\n",
       "      <th>frameRate</th>\n",
       "      <th>Unnamed: 92</th>\n",
       "    </tr>\n",
       "  </thead>\n",
       "  <tbody>\n",
       "    <tr>\n",
       "      <th>count</th>\n",
       "      <td>17.0</td>\n",
       "      <td>17.000000</td>\n",
       "      <td>17.000000</td>\n",
       "      <td>17.000000</td>\n",
       "      <td>15.0</td>\n",
       "      <td>15.000000</td>\n",
       "      <td>15.000000</td>\n",
       "      <td>15.000000</td>\n",
       "      <td>6.0</td>\n",
       "      <td>6.000000</td>\n",
       "      <td>...</td>\n",
       "      <td>6.000000</td>\n",
       "      <td>6.000000</td>\n",
       "      <td>1.000000</td>\n",
       "      <td>1.000000</td>\n",
       "      <td>1.000000</td>\n",
       "      <td>1.00000</td>\n",
       "      <td>41.0</td>\n",
       "      <td>41.0</td>\n",
       "      <td>41.000000</td>\n",
       "      <td>0.0</td>\n",
       "    </tr>\n",
       "    <tr>\n",
       "      <th>mean</th>\n",
       "      <td>0.0</td>\n",
       "      <td>8.000000</td>\n",
       "      <td>8.000000</td>\n",
       "      <td>8.000000</td>\n",
       "      <td>0.0</td>\n",
       "      <td>7.000000</td>\n",
       "      <td>7.000000</td>\n",
       "      <td>7.000000</td>\n",
       "      <td>0.0</td>\n",
       "      <td>2.500000</td>\n",
       "      <td>...</td>\n",
       "      <td>157.171842</td>\n",
       "      <td>157.171842</td>\n",
       "      <td>169.010592</td>\n",
       "      <td>3.904135</td>\n",
       "      <td>169.010592</td>\n",
       "      <td>172.94734</td>\n",
       "      <td>1.0</td>\n",
       "      <td>43.0</td>\n",
       "      <td>59.572017</td>\n",
       "      <td>NaN</td>\n",
       "    </tr>\n",
       "    <tr>\n",
       "      <th>std</th>\n",
       "      <td>0.0</td>\n",
       "      <td>5.049752</td>\n",
       "      <td>5.049752</td>\n",
       "      <td>5.049752</td>\n",
       "      <td>0.0</td>\n",
       "      <td>4.472136</td>\n",
       "      <td>4.472136</td>\n",
       "      <td>4.472136</td>\n",
       "      <td>0.0</td>\n",
       "      <td>1.870829</td>\n",
       "      <td>...</td>\n",
       "      <td>7.021973</td>\n",
       "      <td>7.021973</td>\n",
       "      <td>NaN</td>\n",
       "      <td>NaN</td>\n",
       "      <td>NaN</td>\n",
       "      <td>NaN</td>\n",
       "      <td>0.0</td>\n",
       "      <td>0.0</td>\n",
       "      <td>0.000000</td>\n",
       "      <td>NaN</td>\n",
       "    </tr>\n",
       "    <tr>\n",
       "      <th>min</th>\n",
       "      <td>0.0</td>\n",
       "      <td>0.000000</td>\n",
       "      <td>0.000000</td>\n",
       "      <td>0.000000</td>\n",
       "      <td>0.0</td>\n",
       "      <td>0.000000</td>\n",
       "      <td>0.000000</td>\n",
       "      <td>0.000000</td>\n",
       "      <td>0.0</td>\n",
       "      <td>0.000000</td>\n",
       "      <td>...</td>\n",
       "      <td>147.578871</td>\n",
       "      <td>147.578871</td>\n",
       "      <td>169.010592</td>\n",
       "      <td>3.904135</td>\n",
       "      <td>169.010592</td>\n",
       "      <td>172.94734</td>\n",
       "      <td>1.0</td>\n",
       "      <td>43.0</td>\n",
       "      <td>59.572017</td>\n",
       "      <td>NaN</td>\n",
       "    </tr>\n",
       "    <tr>\n",
       "      <th>25%</th>\n",
       "      <td>0.0</td>\n",
       "      <td>4.000000</td>\n",
       "      <td>4.000000</td>\n",
       "      <td>4.000000</td>\n",
       "      <td>0.0</td>\n",
       "      <td>3.500000</td>\n",
       "      <td>3.500000</td>\n",
       "      <td>3.500000</td>\n",
       "      <td>0.0</td>\n",
       "      <td>1.250000</td>\n",
       "      <td>...</td>\n",
       "      <td>152.339791</td>\n",
       "      <td>152.339791</td>\n",
       "      <td>169.010592</td>\n",
       "      <td>3.904135</td>\n",
       "      <td>169.010592</td>\n",
       "      <td>172.94734</td>\n",
       "      <td>1.0</td>\n",
       "      <td>43.0</td>\n",
       "      <td>59.572017</td>\n",
       "      <td>NaN</td>\n",
       "    </tr>\n",
       "    <tr>\n",
       "      <th>50%</th>\n",
       "      <td>0.0</td>\n",
       "      <td>8.000000</td>\n",
       "      <td>8.000000</td>\n",
       "      <td>8.000000</td>\n",
       "      <td>0.0</td>\n",
       "      <td>7.000000</td>\n",
       "      <td>7.000000</td>\n",
       "      <td>7.000000</td>\n",
       "      <td>0.0</td>\n",
       "      <td>2.500000</td>\n",
       "      <td>...</td>\n",
       "      <td>157.730187</td>\n",
       "      <td>157.730187</td>\n",
       "      <td>169.010592</td>\n",
       "      <td>3.904135</td>\n",
       "      <td>169.010592</td>\n",
       "      <td>172.94734</td>\n",
       "      <td>1.0</td>\n",
       "      <td>43.0</td>\n",
       "      <td>59.572017</td>\n",
       "      <td>NaN</td>\n",
       "    </tr>\n",
       "    <tr>\n",
       "      <th>75%</th>\n",
       "      <td>0.0</td>\n",
       "      <td>12.000000</td>\n",
       "      <td>12.000000</td>\n",
       "      <td>12.000000</td>\n",
       "      <td>0.0</td>\n",
       "      <td>10.500000</td>\n",
       "      <td>10.500000</td>\n",
       "      <td>10.500000</td>\n",
       "      <td>0.0</td>\n",
       "      <td>3.750000</td>\n",
       "      <td>...</td>\n",
       "      <td>161.915188</td>\n",
       "      <td>161.915188</td>\n",
       "      <td>169.010592</td>\n",
       "      <td>3.904135</td>\n",
       "      <td>169.010592</td>\n",
       "      <td>172.94734</td>\n",
       "      <td>1.0</td>\n",
       "      <td>43.0</td>\n",
       "      <td>59.572017</td>\n",
       "      <td>NaN</td>\n",
       "    </tr>\n",
       "    <tr>\n",
       "      <th>max</th>\n",
       "      <td>0.0</td>\n",
       "      <td>16.000000</td>\n",
       "      <td>16.000000</td>\n",
       "      <td>16.000000</td>\n",
       "      <td>0.0</td>\n",
       "      <td>14.000000</td>\n",
       "      <td>14.000000</td>\n",
       "      <td>14.000000</td>\n",
       "      <td>0.0</td>\n",
       "      <td>5.000000</td>\n",
       "      <td>...</td>\n",
       "      <td>166.138628</td>\n",
       "      <td>166.138628</td>\n",
       "      <td>169.010592</td>\n",
       "      <td>3.904135</td>\n",
       "      <td>169.010592</td>\n",
       "      <td>172.94734</td>\n",
       "      <td>1.0</td>\n",
       "      <td>43.0</td>\n",
       "      <td>59.572017</td>\n",
       "      <td>NaN</td>\n",
       "    </tr>\n",
       "  </tbody>\n",
       "</table>\n",
       "<p>8 rows × 52 columns</p>\n",
       "</div>"
      ],
      "text/plain": [
       "       loop_rating_movie.thisRepN  loop_rating_movie.thisTrialN  \\\n",
       "count                        17.0                     17.000000   \n",
       "mean                          0.0                      8.000000   \n",
       "std                           0.0                      5.049752   \n",
       "min                           0.0                      0.000000   \n",
       "25%                           0.0                      4.000000   \n",
       "50%                           0.0                      8.000000   \n",
       "75%                           0.0                     12.000000   \n",
       "max                           0.0                     16.000000   \n",
       "\n",
       "       loop_rating_movie.thisN  loop_rating_movie.thisIndex  \\\n",
       "count                17.000000                    17.000000   \n",
       "mean                  8.000000                     8.000000   \n",
       "std                   5.049752                     5.049752   \n",
       "min                   0.000000                     0.000000   \n",
       "25%                   4.000000                     4.000000   \n",
       "50%                   8.000000                     8.000000   \n",
       "75%                  12.000000                    12.000000   \n",
       "max                  16.000000                    16.000000   \n",
       "\n",
       "       loop_rating_snacks.thisRepN  loop_rating_snacks.thisTrialN  \\\n",
       "count                         15.0                      15.000000   \n",
       "mean                           0.0                       7.000000   \n",
       "std                            0.0                       4.472136   \n",
       "min                            0.0                       0.000000   \n",
       "25%                            0.0                       3.500000   \n",
       "50%                            0.0                       7.000000   \n",
       "75%                            0.0                      10.500000   \n",
       "max                            0.0                      14.000000   \n",
       "\n",
       "       loop_rating_snacks.thisN  loop_rating_snacks.thisIndex  \\\n",
       "count                 15.000000                     15.000000   \n",
       "mean                   7.000000                      7.000000   \n",
       "std                    4.472136                      4.472136   \n",
       "min                    0.000000                      0.000000   \n",
       "25%                    3.500000                      3.500000   \n",
       "50%                    7.000000                      7.000000   \n",
       "75%                   10.500000                     10.500000   \n",
       "max                   14.000000                     14.000000   \n",
       "\n",
       "       loop_rating_animals.thisRepN  loop_rating_animals.thisTrialN  ...  \\\n",
       "count                           6.0                        6.000000  ...   \n",
       "mean                            0.0                        2.500000  ...   \n",
       "std                             0.0                        1.870829  ...   \n",
       "min                             0.0                        0.000000  ...   \n",
       "25%                             0.0                        1.250000  ...   \n",
       "50%                             0.0                        2.500000  ...   \n",
       "75%                             0.0                        3.750000  ...   \n",
       "max                             0.0                        5.000000  ...   \n",
       "\n",
       "       spacebar_animals.started  explanation_animals.started  end.started  \\\n",
       "count                  6.000000                     6.000000     1.000000   \n",
       "mean                 157.171842                   157.171842   169.010592   \n",
       "std                    7.021973                     7.021973          NaN   \n",
       "min                  147.578871                   147.578871   169.010592   \n",
       "25%                  152.339791                   152.339791   169.010592   \n",
       "50%                  157.730187                   157.730187   169.010592   \n",
       "75%                  161.915188                   161.915188   169.010592   \n",
       "max                  166.138628                   166.138628   169.010592   \n",
       "\n",
       "       spacebar_end.rt  spacebar_end.started  thanks_image.started  session  \\\n",
       "count         1.000000              1.000000               1.00000     41.0   \n",
       "mean          3.904135            169.010592             172.94734      1.0   \n",
       "std                NaN                   NaN                   NaN      0.0   \n",
       "min           3.904135            169.010592             172.94734      1.0   \n",
       "25%           3.904135            169.010592             172.94734      1.0   \n",
       "50%           3.904135            169.010592             172.94734      1.0   \n",
       "75%           3.904135            169.010592             172.94734      1.0   \n",
       "max           3.904135            169.010592             172.94734      1.0   \n",
       "\n",
       "        age  frameRate  Unnamed: 92  \n",
       "count  41.0  41.000000          0.0  \n",
       "mean   43.0  59.572017          NaN  \n",
       "std     0.0   0.000000          NaN  \n",
       "min    43.0  59.572017          NaN  \n",
       "25%    43.0  59.572017          NaN  \n",
       "50%    43.0  59.572017          NaN  \n",
       "75%    43.0  59.572017          NaN  \n",
       "max    43.0  59.572017          NaN  \n",
       "\n",
       "[8 rows x 52 columns]"
      ]
     },
     "execution_count": 33,
     "metadata": {},
     "output_type": "execute_result"
    }
   ],
   "source": [
    "data_loaded.describe()"
   ]
  },
  {
   "cell_type": "markdown",
   "metadata": {
    "slideshow": {
     "slide_type": "fragment"
    },
    "solution2": "hidden",
    "solution2_first": true
   },
   "source": [
    "#### Exercise 4\n",
    "\n",
    "Damn: the same output as before. Do you have any idea what might have gone wrong?"
   ]
  },
  {
   "cell_type": "markdown",
   "metadata": {
    "solution2": "hidden"
   },
   "source": [
    "`Selecting` certain `columns` from a `dataframe` does not automatically create a new `dataframe` but returns the original `dataframe` with the `selected columns`. In order to have a respective adapted version of the `dataframe` to work with, we need to create a new `variable`"
   ]
  },
  {
   "cell_type": "markdown",
   "metadata": {
    "slideshow": {
     "slide_type": "subslide"
    }
   },
   "source": [
    "Alright, so let's create a new `adapted` version of our `dataframe` that only contains the `specified columns`:"
   ]
  },
  {
   "cell_type": "code",
   "execution_count": 34,
   "metadata": {},
   "outputs": [],
   "source": [
    "data_loaded_sub = data_loaded[columns_select]"
   ]
  },
  {
   "cell_type": "code",
   "execution_count": 35,
   "metadata": {},
   "outputs": [
    {
     "data": {
      "text/html": [
       "<div>\n",
       "<style scoped>\n",
       "    .dataframe tbody tr th:only-of-type {\n",
       "        vertical-align: middle;\n",
       "    }\n",
       "\n",
       "    .dataframe tbody tr th {\n",
       "        vertical-align: top;\n",
       "    }\n",
       "\n",
       "    .dataframe thead th {\n",
       "        text-align: right;\n",
       "    }\n",
       "</style>\n",
       "<table border=\"1\" class=\"dataframe\">\n",
       "  <thead>\n",
       "    <tr style=\"text-align: right;\">\n",
       "      <th></th>\n",
       "      <th>participant</th>\n",
       "      <th>session</th>\n",
       "      <th>age</th>\n",
       "      <th>left-handed</th>\n",
       "      <th>like this course</th>\n",
       "      <th>movie</th>\n",
       "      <th>snack</th>\n",
       "      <th>animal</th>\n",
       "      <th>rating_movies.response</th>\n",
       "      <th>rating_snacks.response</th>\n",
       "      <th>rating_animals.response</th>\n",
       "    </tr>\n",
       "  </thead>\n",
       "  <tbody>\n",
       "    <tr>\n",
       "      <th>0</th>\n",
       "      <td>Heidi Klum</td>\n",
       "      <td>1.0</td>\n",
       "      <td>43.0</td>\n",
       "      <td>False</td>\n",
       "      <td>Yes</td>\n",
       "      <td>NaN</td>\n",
       "      <td>NaN</td>\n",
       "      <td>NaN</td>\n",
       "      <td>NaN</td>\n",
       "      <td>NaN</td>\n",
       "      <td>NaN</td>\n",
       "    </tr>\n",
       "    <tr>\n",
       "      <th>1</th>\n",
       "      <td>Heidi Klum</td>\n",
       "      <td>1.0</td>\n",
       "      <td>43.0</td>\n",
       "      <td>False</td>\n",
       "      <td>Yes</td>\n",
       "      <td>NaN</td>\n",
       "      <td>NaN</td>\n",
       "      <td>NaN</td>\n",
       "      <td>NaN</td>\n",
       "      <td>NaN</td>\n",
       "      <td>NaN</td>\n",
       "    </tr>\n",
       "    <tr>\n",
       "      <th>2</th>\n",
       "      <td>Heidi Klum</td>\n",
       "      <td>1.0</td>\n",
       "      <td>43.0</td>\n",
       "      <td>False</td>\n",
       "      <td>Yes</td>\n",
       "      <td>The Intouchables</td>\n",
       "      <td>pancakes</td>\n",
       "      <td>barred owl</td>\n",
       "      <td>4.00</td>\n",
       "      <td>NaN</td>\n",
       "      <td>NaN</td>\n",
       "    </tr>\n",
       "    <tr>\n",
       "      <th>3</th>\n",
       "      <td>Heidi Klum</td>\n",
       "      <td>1.0</td>\n",
       "      <td>43.0</td>\n",
       "      <td>False</td>\n",
       "      <td>Yes</td>\n",
       "      <td>James Bond</td>\n",
       "      <td>bananas</td>\n",
       "      <td>cat</td>\n",
       "      <td>7.00</td>\n",
       "      <td>NaN</td>\n",
       "      <td>NaN</td>\n",
       "    </tr>\n",
       "    <tr>\n",
       "      <th>4</th>\n",
       "      <td>Heidi Klum</td>\n",
       "      <td>1.0</td>\n",
       "      <td>43.0</td>\n",
       "      <td>False</td>\n",
       "      <td>Yes</td>\n",
       "      <td>Forrest Gump</td>\n",
       "      <td>dominoes</td>\n",
       "      <td>coral</td>\n",
       "      <td>3.44</td>\n",
       "      <td>NaN</td>\n",
       "      <td>NaN</td>\n",
       "    </tr>\n",
       "    <tr>\n",
       "      <th>5</th>\n",
       "      <td>Heidi Klum</td>\n",
       "      <td>1.0</td>\n",
       "      <td>43.0</td>\n",
       "      <td>False</td>\n",
       "      <td>Yes</td>\n",
       "      <td>Retired Extremely Dangerous</td>\n",
       "      <td>carrots</td>\n",
       "      <td>elephant</td>\n",
       "      <td>4.00</td>\n",
       "      <td>NaN</td>\n",
       "      <td>NaN</td>\n",
       "    </tr>\n",
       "    <tr>\n",
       "      <th>6</th>\n",
       "      <td>Heidi Klum</td>\n",
       "      <td>1.0</td>\n",
       "      <td>43.0</td>\n",
       "      <td>False</td>\n",
       "      <td>Yes</td>\n",
       "      <td>The Imitation Game</td>\n",
       "      <td>humus</td>\n",
       "      <td>groundhog</td>\n",
       "      <td>6.02</td>\n",
       "      <td>NaN</td>\n",
       "      <td>NaN</td>\n",
       "    </tr>\n",
       "    <tr>\n",
       "      <th>7</th>\n",
       "      <td>Heidi Klum</td>\n",
       "      <td>1.0</td>\n",
       "      <td>43.0</td>\n",
       "      <td>False</td>\n",
       "      <td>Yes</td>\n",
       "      <td>The Philosophers</td>\n",
       "      <td>chocolate</td>\n",
       "      <td>lizard</td>\n",
       "      <td>4.00</td>\n",
       "      <td>NaN</td>\n",
       "      <td>NaN</td>\n",
       "    </tr>\n",
       "    <tr>\n",
       "      <th>8</th>\n",
       "      <td>Heidi Klum</td>\n",
       "      <td>1.0</td>\n",
       "      <td>43.0</td>\n",
       "      <td>False</td>\n",
       "      <td>Yes</td>\n",
       "      <td>Call Me by Your Name</td>\n",
       "      <td>Kinder bueno</td>\n",
       "      <td>None</td>\n",
       "      <td>4.00</td>\n",
       "      <td>NaN</td>\n",
       "      <td>NaN</td>\n",
       "    </tr>\n",
       "    <tr>\n",
       "      <th>9</th>\n",
       "      <td>Heidi Klum</td>\n",
       "      <td>1.0</td>\n",
       "      <td>43.0</td>\n",
       "      <td>False</td>\n",
       "      <td>Yes</td>\n",
       "      <td>Shutter Island</td>\n",
       "      <td>Pringles</td>\n",
       "      <td>None</td>\n",
       "      <td>5.04</td>\n",
       "      <td>NaN</td>\n",
       "      <td>NaN</td>\n",
       "    </tr>\n",
       "  </tbody>\n",
       "</table>\n",
       "</div>"
      ],
      "text/plain": [
       "  participant  session   age left-handed like this course  \\\n",
       "0  Heidi Klum      1.0  43.0       False              Yes   \n",
       "1  Heidi Klum      1.0  43.0       False              Yes   \n",
       "2  Heidi Klum      1.0  43.0       False              Yes   \n",
       "3  Heidi Klum      1.0  43.0       False              Yes   \n",
       "4  Heidi Klum      1.0  43.0       False              Yes   \n",
       "5  Heidi Klum      1.0  43.0       False              Yes   \n",
       "6  Heidi Klum      1.0  43.0       False              Yes   \n",
       "7  Heidi Klum      1.0  43.0       False              Yes   \n",
       "8  Heidi Klum      1.0  43.0       False              Yes   \n",
       "9  Heidi Klum      1.0  43.0       False              Yes   \n",
       "\n",
       "                         movie         snack      animal  \\\n",
       "0                          NaN           NaN         NaN   \n",
       "1                          NaN           NaN         NaN   \n",
       "2             The Intouchables      pancakes  barred owl   \n",
       "3                   James Bond       bananas         cat   \n",
       "4                 Forrest Gump      dominoes       coral   \n",
       "5  Retired Extremely Dangerous       carrots    elephant   \n",
       "6           The Imitation Game         humus   groundhog   \n",
       "7             The Philosophers     chocolate      lizard   \n",
       "8         Call Me by Your Name  Kinder bueno        None   \n",
       "9               Shutter Island      Pringles        None   \n",
       "\n",
       "   rating_movies.response  rating_snacks.response  rating_animals.response  \n",
       "0                     NaN                     NaN                      NaN  \n",
       "1                     NaN                     NaN                      NaN  \n",
       "2                    4.00                     NaN                      NaN  \n",
       "3                    7.00                     NaN                      NaN  \n",
       "4                    3.44                     NaN                      NaN  \n",
       "5                    4.00                     NaN                      NaN  \n",
       "6                    6.02                     NaN                      NaN  \n",
       "7                    4.00                     NaN                      NaN  \n",
       "8                    4.00                     NaN                      NaN  \n",
       "9                    5.04                     NaN                      NaN  "
      ]
     },
     "execution_count": 35,
     "metadata": {},
     "output_type": "execute_result"
    }
   ],
   "source": [
    "data_loaded_sub.head(n=10)"
   ]
  },
  {
   "cell_type": "markdown",
   "metadata": {
    "slideshow": {
     "slide_type": "subslide"
    }
   },
   "source": [
    "Now we can try our `.describe()` `function` again:"
   ]
  },
  {
   "cell_type": "code",
   "execution_count": 36,
   "metadata": {},
   "outputs": [
    {
     "data": {
      "text/html": [
       "<div>\n",
       "<style scoped>\n",
       "    .dataframe tbody tr th:only-of-type {\n",
       "        vertical-align: middle;\n",
       "    }\n",
       "\n",
       "    .dataframe tbody tr th {\n",
       "        vertical-align: top;\n",
       "    }\n",
       "\n",
       "    .dataframe thead th {\n",
       "        text-align: right;\n",
       "    }\n",
       "</style>\n",
       "<table border=\"1\" class=\"dataframe\">\n",
       "  <thead>\n",
       "    <tr style=\"text-align: right;\">\n",
       "      <th></th>\n",
       "      <th>session</th>\n",
       "      <th>age</th>\n",
       "      <th>rating_movies.response</th>\n",
       "      <th>rating_snacks.response</th>\n",
       "      <th>rating_animals.response</th>\n",
       "    </tr>\n",
       "  </thead>\n",
       "  <tbody>\n",
       "    <tr>\n",
       "      <th>count</th>\n",
       "      <td>41.0</td>\n",
       "      <td>41.0</td>\n",
       "      <td>17.000000</td>\n",
       "      <td>15.000000</td>\n",
       "      <td>6.000000</td>\n",
       "    </tr>\n",
       "    <tr>\n",
       "      <th>mean</th>\n",
       "      <td>1.0</td>\n",
       "      <td>43.0</td>\n",
       "      <td>4.608235</td>\n",
       "      <td>4.910667</td>\n",
       "      <td>5.793333</td>\n",
       "    </tr>\n",
       "    <tr>\n",
       "      <th>std</th>\n",
       "      <td>0.0</td>\n",
       "      <td>0.0</td>\n",
       "      <td>1.277792</td>\n",
       "      <td>1.457079</td>\n",
       "      <td>1.027359</td>\n",
       "    </tr>\n",
       "    <tr>\n",
       "      <th>min</th>\n",
       "      <td>1.0</td>\n",
       "      <td>43.0</td>\n",
       "      <td>2.740000</td>\n",
       "      <td>2.000000</td>\n",
       "      <td>4.780000</td>\n",
       "    </tr>\n",
       "    <tr>\n",
       "      <th>25%</th>\n",
       "      <td>1.0</td>\n",
       "      <td>43.0</td>\n",
       "      <td>4.000000</td>\n",
       "      <td>4.300000</td>\n",
       "      <td>4.965000</td>\n",
       "    </tr>\n",
       "    <tr>\n",
       "      <th>50%</th>\n",
       "      <td>1.0</td>\n",
       "      <td>43.0</td>\n",
       "      <td>4.000000</td>\n",
       "      <td>5.060000</td>\n",
       "      <td>5.520000</td>\n",
       "    </tr>\n",
       "    <tr>\n",
       "      <th>75%</th>\n",
       "      <td>1.0</td>\n",
       "      <td>43.0</td>\n",
       "      <td>5.480000</td>\n",
       "      <td>5.800000</td>\n",
       "      <td>6.750000</td>\n",
       "    </tr>\n",
       "    <tr>\n",
       "      <th>max</th>\n",
       "      <td>1.0</td>\n",
       "      <td>43.0</td>\n",
       "      <td>7.000000</td>\n",
       "      <td>7.000000</td>\n",
       "      <td>7.000000</td>\n",
       "    </tr>\n",
       "  </tbody>\n",
       "</table>\n",
       "</div>"
      ],
      "text/plain": [
       "       session   age  rating_movies.response  rating_snacks.response  \\\n",
       "count     41.0  41.0               17.000000               15.000000   \n",
       "mean       1.0  43.0                4.608235                4.910667   \n",
       "std        0.0   0.0                1.277792                1.457079   \n",
       "min        1.0  43.0                2.740000                2.000000   \n",
       "25%        1.0  43.0                4.000000                4.300000   \n",
       "50%        1.0  43.0                4.000000                5.060000   \n",
       "75%        1.0  43.0                5.480000                5.800000   \n",
       "max        1.0  43.0                7.000000                7.000000   \n",
       "\n",
       "       rating_animals.response  \n",
       "count                 6.000000  \n",
       "mean                  5.793333  \n",
       "std                   1.027359  \n",
       "min                   4.780000  \n",
       "25%                   4.965000  \n",
       "50%                   5.520000  \n",
       "75%                   6.750000  \n",
       "max                   7.000000  "
      ]
     },
     "execution_count": 36,
     "metadata": {},
     "output_type": "execute_result"
    }
   ],
   "source": [
    "data_loaded_sub.describe()"
   ]
  },
  {
   "cell_type": "markdown",
   "metadata": {
    "slideshow": {
     "slide_type": "fragment"
    }
   },
   "source": [
    "Still not quite there...maybe we should check the `data type` of the `values`/`series` in the `columns`. Lucky for us, `pandas` has a respective `function` to easily do that: `.dtypes`:"
   ]
  },
  {
   "cell_type": "code",
   "execution_count": 37,
   "metadata": {},
   "outputs": [
    {
     "data": {
      "text/plain": [
       "participant                 object\n",
       "session                    float64\n",
       "age                        float64\n",
       "left-handed                 object\n",
       "like this course            object\n",
       "movie                       object\n",
       "snack                       object\n",
       "animal                      object\n",
       "rating_movies.response     float64\n",
       "rating_snacks.response     float64\n",
       "rating_animals.response    float64\n",
       "dtype: object"
      ]
     },
     "execution_count": 37,
     "metadata": {},
     "output_type": "execute_result"
    }
   ],
   "source": [
    "data_loaded_sub.dtypes"
   ]
  },
  {
   "cell_type": "markdown",
   "metadata": {
    "slideshow": {
     "slide_type": "subslide"
    }
   },
   "source": [
    "Oh, it appears that only the `columns` that contain `values` of a numeric type, here `float64` are included in the `descriptive` summary. This actually makes sense as computing `descriptive statistics` from `strings`, `booleans` or the alike wouldn't make a lot of sense per se. For this to work, we would need to change their data to a respective `numeric` expression. However, let's quickly check the content of the other `columns`:"
   ]
  },
  {
   "cell_type": "code",
   "execution_count": 38,
   "metadata": {
    "slideshow": {
     "slide_type": "-"
    }
   },
   "outputs": [
    {
     "name": "stdout",
     "output_type": "stream",
     "text": [
      "The data type of column participant is <class 'str'>\n",
      "The data type of column left-handed is <class 'bool'>\n",
      "The data type of column like this course is <class 'str'>\n",
      "The data type of column movie is <class 'str'>\n",
      "The data type of column snack is <class 'str'>\n",
      "The data type of column animal is <class 'str'>\n"
     ]
    }
   ],
   "source": [
    "for column in ['participant', 'left-handed', 'like this course', 'movie', 'snack', 'animal']:\n",
    "    print('The data type of column %s is %s' %(column, type(data_loaded_sub[column][3])))"
   ]
  },
  {
   "cell_type": "markdown",
   "metadata": {
    "slideshow": {
     "slide_type": "subslide"
    }
   },
   "source": [
    "Except for one `column` that contains `booleans` all other contain `strings`. This is important to remember for subsequent analyzes steps, e.g. if we want treat them as `categorical variables` or something else."
   ]
  },
  {
   "cell_type": "markdown",
   "metadata": {},
   "source": [
    "The `.describe()` function is obviously super handy but we could also obtain the same information using different built-in `functions`, for example `.mean()` and `std()`. "
   ]
  },
  {
   "cell_type": "code",
   "execution_count": 39,
   "metadata": {},
   "outputs": [
    {
     "name": "stdout",
     "output_type": "stream",
     "text": [
      "4.608235294117647\n",
      "1.2777922136155277\n"
     ]
    }
   ],
   "source": [
    "print(data_loaded_sub['rating_movies.response'].mean())\n",
    "print(data_loaded_sub['rating_movies.response'].std())"
   ]
  },
  {
   "cell_type": "markdown",
   "metadata": {
    "solution2": "hidden",
    "solution2_first": true
   },
   "source": [
    "#### Exercise 5\n",
    "\n",
    "How would you compute the `mean` and `sd` for the `ratings` of the other `categories`?"
   ]
  },
  {
   "cell_type": "code",
   "execution_count": null,
   "metadata": {
    "solution2": "hidden"
   },
   "outputs": [],
   "source": [
    "print(data_loaded_sub['rating_snacks.response'].mean())\n",
    "print(data_loaded_sub['rating_snacks.response'].std())"
   ]
  },
  {
   "cell_type": "code",
   "execution_count": null,
   "metadata": {
    "solution2": "hidden"
   },
   "outputs": [],
   "source": [
    "print(data_loaded_sub['rating_animals.response'].mean())\n",
    "print(data_loaded_sub['rating_animals.response'].std())"
   ]
  },
  {
   "cell_type": "markdown",
   "metadata": {
    "slideshow": {
     "slide_type": "subslide"
    }
   },
   "source": [
    "Another thing that you might have noticed already is that we have quite a large number of `nan`, i.e. `not a number`, in our `dataframe` and thus `dataset`. "
   ]
  },
  {
   "cell_type": "markdown",
   "metadata": {
    "slideshow": {
     "slide_type": "subslide"
    }
   },
   "source": [
    "This has something to do with the way `PsychoPy` saves and organizes/structures information. Specifically, we get information for each given `routine` and `trial` therein via a so-called `wide-format` `dataframe`. This results in the large number of `columns` that denote `routines` and their `components` which only contain information for events that happened therein but nothing else. Thus, the large amount of `nan`. Again, our `dataframe`/`dataset` is specific of `PsychoPy` but comparable things happen/appear frequently in all kinds of `data`.       "
   ]
  },
  {
   "cell_type": "code",
   "execution_count": 40,
   "metadata": {
    "slideshow": {
     "slide_type": "-"
    }
   },
   "outputs": [
    {
     "data": {
      "text/html": [
       "<div>\n",
       "<style scoped>\n",
       "    .dataframe tbody tr th:only-of-type {\n",
       "        vertical-align: middle;\n",
       "    }\n",
       "\n",
       "    .dataframe tbody tr th {\n",
       "        vertical-align: top;\n",
       "    }\n",
       "\n",
       "    .dataframe thead th {\n",
       "        text-align: right;\n",
       "    }\n",
       "</style>\n",
       "<table border=\"1\" class=\"dataframe\">\n",
       "  <thead>\n",
       "    <tr style=\"text-align: right;\">\n",
       "      <th></th>\n",
       "      <th>participant</th>\n",
       "      <th>session</th>\n",
       "      <th>age</th>\n",
       "      <th>left-handed</th>\n",
       "      <th>like this course</th>\n",
       "      <th>movie</th>\n",
       "      <th>snack</th>\n",
       "      <th>animal</th>\n",
       "      <th>rating_movies.response</th>\n",
       "      <th>rating_snacks.response</th>\n",
       "      <th>rating_animals.response</th>\n",
       "    </tr>\n",
       "  </thead>\n",
       "  <tbody>\n",
       "    <tr>\n",
       "      <th>0</th>\n",
       "      <td>Heidi Klum</td>\n",
       "      <td>1.0</td>\n",
       "      <td>43.0</td>\n",
       "      <td>False</td>\n",
       "      <td>Yes</td>\n",
       "      <td>NaN</td>\n",
       "      <td>NaN</td>\n",
       "      <td>NaN</td>\n",
       "      <td>NaN</td>\n",
       "      <td>NaN</td>\n",
       "      <td>NaN</td>\n",
       "    </tr>\n",
       "    <tr>\n",
       "      <th>1</th>\n",
       "      <td>Heidi Klum</td>\n",
       "      <td>1.0</td>\n",
       "      <td>43.0</td>\n",
       "      <td>False</td>\n",
       "      <td>Yes</td>\n",
       "      <td>NaN</td>\n",
       "      <td>NaN</td>\n",
       "      <td>NaN</td>\n",
       "      <td>NaN</td>\n",
       "      <td>NaN</td>\n",
       "      <td>NaN</td>\n",
       "    </tr>\n",
       "    <tr>\n",
       "      <th>2</th>\n",
       "      <td>Heidi Klum</td>\n",
       "      <td>1.0</td>\n",
       "      <td>43.0</td>\n",
       "      <td>False</td>\n",
       "      <td>Yes</td>\n",
       "      <td>The Intouchables</td>\n",
       "      <td>pancakes</td>\n",
       "      <td>barred owl</td>\n",
       "      <td>4.00</td>\n",
       "      <td>NaN</td>\n",
       "      <td>NaN</td>\n",
       "    </tr>\n",
       "    <tr>\n",
       "      <th>3</th>\n",
       "      <td>Heidi Klum</td>\n",
       "      <td>1.0</td>\n",
       "      <td>43.0</td>\n",
       "      <td>False</td>\n",
       "      <td>Yes</td>\n",
       "      <td>James Bond</td>\n",
       "      <td>bananas</td>\n",
       "      <td>cat</td>\n",
       "      <td>7.00</td>\n",
       "      <td>NaN</td>\n",
       "      <td>NaN</td>\n",
       "    </tr>\n",
       "    <tr>\n",
       "      <th>4</th>\n",
       "      <td>Heidi Klum</td>\n",
       "      <td>1.0</td>\n",
       "      <td>43.0</td>\n",
       "      <td>False</td>\n",
       "      <td>Yes</td>\n",
       "      <td>Forrest Gump</td>\n",
       "      <td>dominoes</td>\n",
       "      <td>coral</td>\n",
       "      <td>3.44</td>\n",
       "      <td>NaN</td>\n",
       "      <td>NaN</td>\n",
       "    </tr>\n",
       "    <tr>\n",
       "      <th>5</th>\n",
       "      <td>Heidi Klum</td>\n",
       "      <td>1.0</td>\n",
       "      <td>43.0</td>\n",
       "      <td>False</td>\n",
       "      <td>Yes</td>\n",
       "      <td>Retired Extremely Dangerous</td>\n",
       "      <td>carrots</td>\n",
       "      <td>elephant</td>\n",
       "      <td>4.00</td>\n",
       "      <td>NaN</td>\n",
       "      <td>NaN</td>\n",
       "    </tr>\n",
       "    <tr>\n",
       "      <th>6</th>\n",
       "      <td>Heidi Klum</td>\n",
       "      <td>1.0</td>\n",
       "      <td>43.0</td>\n",
       "      <td>False</td>\n",
       "      <td>Yes</td>\n",
       "      <td>The Imitation Game</td>\n",
       "      <td>humus</td>\n",
       "      <td>groundhog</td>\n",
       "      <td>6.02</td>\n",
       "      <td>NaN</td>\n",
       "      <td>NaN</td>\n",
       "    </tr>\n",
       "    <tr>\n",
       "      <th>7</th>\n",
       "      <td>Heidi Klum</td>\n",
       "      <td>1.0</td>\n",
       "      <td>43.0</td>\n",
       "      <td>False</td>\n",
       "      <td>Yes</td>\n",
       "      <td>The Philosophers</td>\n",
       "      <td>chocolate</td>\n",
       "      <td>lizard</td>\n",
       "      <td>4.00</td>\n",
       "      <td>NaN</td>\n",
       "      <td>NaN</td>\n",
       "    </tr>\n",
       "    <tr>\n",
       "      <th>8</th>\n",
       "      <td>Heidi Klum</td>\n",
       "      <td>1.0</td>\n",
       "      <td>43.0</td>\n",
       "      <td>False</td>\n",
       "      <td>Yes</td>\n",
       "      <td>Call Me by Your Name</td>\n",
       "      <td>Kinder bueno</td>\n",
       "      <td>None</td>\n",
       "      <td>4.00</td>\n",
       "      <td>NaN</td>\n",
       "      <td>NaN</td>\n",
       "    </tr>\n",
       "    <tr>\n",
       "      <th>9</th>\n",
       "      <td>Heidi Klum</td>\n",
       "      <td>1.0</td>\n",
       "      <td>43.0</td>\n",
       "      <td>False</td>\n",
       "      <td>Yes</td>\n",
       "      <td>Shutter Island</td>\n",
       "      <td>Pringles</td>\n",
       "      <td>None</td>\n",
       "      <td>5.04</td>\n",
       "      <td>NaN</td>\n",
       "      <td>NaN</td>\n",
       "    </tr>\n",
       "  </tbody>\n",
       "</table>\n",
       "</div>"
      ],
      "text/plain": [
       "  participant  session   age left-handed like this course  \\\n",
       "0  Heidi Klum      1.0  43.0       False              Yes   \n",
       "1  Heidi Klum      1.0  43.0       False              Yes   \n",
       "2  Heidi Klum      1.0  43.0       False              Yes   \n",
       "3  Heidi Klum      1.0  43.0       False              Yes   \n",
       "4  Heidi Klum      1.0  43.0       False              Yes   \n",
       "5  Heidi Klum      1.0  43.0       False              Yes   \n",
       "6  Heidi Klum      1.0  43.0       False              Yes   \n",
       "7  Heidi Klum      1.0  43.0       False              Yes   \n",
       "8  Heidi Klum      1.0  43.0       False              Yes   \n",
       "9  Heidi Klum      1.0  43.0       False              Yes   \n",
       "\n",
       "                         movie         snack      animal  \\\n",
       "0                          NaN           NaN         NaN   \n",
       "1                          NaN           NaN         NaN   \n",
       "2             The Intouchables      pancakes  barred owl   \n",
       "3                   James Bond       bananas         cat   \n",
       "4                 Forrest Gump      dominoes       coral   \n",
       "5  Retired Extremely Dangerous       carrots    elephant   \n",
       "6           The Imitation Game         humus   groundhog   \n",
       "7             The Philosophers     chocolate      lizard   \n",
       "8         Call Me by Your Name  Kinder bueno        None   \n",
       "9               Shutter Island      Pringles        None   \n",
       "\n",
       "   rating_movies.response  rating_snacks.response  rating_animals.response  \n",
       "0                     NaN                     NaN                      NaN  \n",
       "1                     NaN                     NaN                      NaN  \n",
       "2                    4.00                     NaN                      NaN  \n",
       "3                    7.00                     NaN                      NaN  \n",
       "4                    3.44                     NaN                      NaN  \n",
       "5                    4.00                     NaN                      NaN  \n",
       "6                    6.02                     NaN                      NaN  \n",
       "7                    4.00                     NaN                      NaN  \n",
       "8                    4.00                     NaN                      NaN  \n",
       "9                    5.04                     NaN                      NaN  "
      ]
     },
     "execution_count": 40,
     "metadata": {},
     "output_type": "execute_result"
    }
   ],
   "source": [
    "data_loaded_sub.head(n=10)"
   ]
  },
  {
   "cell_type": "markdown",
   "metadata": {
    "slideshow": {
     "slide_type": "subslide"
    }
   },
   "source": [
    "### Data wrangling\n",
    "\n",
    "Together, this creates the impression and maybe necessity to address these things via `handling missing` and rearranging our `dataframe`. This process (or parts of it) can be referred to as `data wrangling` and is actually a very common step when `analyzing data` that contain various different `operations`. For now, we will focus on the two we outlined before: `handling missing data` and `rearranging our dataframe`.    \n",
    "\n",
    "<center><img src=\"https://s26597.pcdn.co/wp-content/uploads/2019/01/TRI-Data-Wrangling-1.png\" width=\"600\"></center>\n",
    "\n",
    "<center><a href=\"https://s26597.pcdn.co/wp-content/uploads/2019/01/TRI-Data-Wrangling-1.png\">via TRIFACTA</a></center>"
   ]
  },
  {
   "cell_type": "markdown",
   "metadata": {
    "slideshow": {
     "slide_type": "subslide"
    }
   },
   "source": [
    "#### Handling missing values\n",
    "\n",
    "Talking about the `handling` of `missing values`, we could have several options: `imputation`, `deletion`, etc. . In our case we have a mixture of problems. The first two `rows` appear to only have `nan` except for the `demographic information` while the others only contain `nan` for some of the `ratings`.    "
   ]
  },
  {
   "cell_type": "markdown",
   "metadata": {
    "slideshow": {
     "slide_type": "fragment"
    }
   },
   "source": [
    "Given that we want to evaluate `rows` in more detail, we can make use of the incredible `.iterrows()` `function` which will implement a `for loop` that will `loop` over the `rows` of `dataframe` providing the `index` and respective `content`/`values`. "
   ]
  },
  {
   "cell_type": "markdown",
   "metadata": {
    "slideshow": {
     "slide_type": "subslide"
    }
   },
   "source": [
    "Applied to our use case, we will employ `.iterrows()` to all but the first few `columns`, i.e. `5`, of our `dataframe` as they contain the `demographic information` and, for each `row`, are going to `print` the respective `index` and if it only contains `nan`. The latter can easily be evaluated using a combination of `.isnull()` and `.all()` that checks if `all` `values` of a given `row` (or `dataframe`, `series`, etc.) is `nan`.  "
   ]
  },
  {
   "cell_type": "code",
   "execution_count": 41,
   "metadata": {
    "scrolled": true,
    "slideshow": {
     "slide_type": "subslide"
    }
   },
   "outputs": [
    {
     "name": "stdout",
     "output_type": "stream",
     "text": [
      "Row 0 has only nan: True\n",
      "Row 1 has only nan: True\n",
      "Row 2 has only nan: False\n",
      "Row 3 has only nan: False\n",
      "Row 4 has only nan: False\n",
      "Row 5 has only nan: False\n",
      "Row 6 has only nan: False\n",
      "Row 7 has only nan: False\n",
      "Row 8 has only nan: False\n",
      "Row 9 has only nan: False\n",
      "Row 10 has only nan: False\n",
      "Row 11 has only nan: False\n",
      "Row 12 has only nan: False\n",
      "Row 13 has only nan: False\n",
      "Row 14 has only nan: False\n",
      "Row 15 has only nan: False\n",
      "Row 16 has only nan: False\n",
      "Row 17 has only nan: False\n",
      "Row 18 has only nan: False\n",
      "Row 19 has only nan: False\n",
      "Row 20 has only nan: False\n",
      "Row 21 has only nan: False\n",
      "Row 22 has only nan: False\n",
      "Row 23 has only nan: False\n",
      "Row 24 has only nan: False\n",
      "Row 25 has only nan: False\n",
      "Row 26 has only nan: False\n",
      "Row 27 has only nan: False\n",
      "Row 28 has only nan: False\n",
      "Row 29 has only nan: False\n",
      "Row 30 has only nan: False\n",
      "Row 31 has only nan: False\n",
      "Row 32 has only nan: False\n",
      "Row 33 has only nan: False\n",
      "Row 34 has only nan: False\n",
      "Row 35 has only nan: False\n",
      "Row 36 has only nan: False\n",
      "Row 37 has only nan: False\n",
      "Row 38 has only nan: False\n",
      "Row 39 has only nan: False\n",
      "Row 40 has only nan: True\n",
      "Row 41 has only nan: True\n"
     ]
    }
   ],
   "source": [
    "rows_del = []\n",
    "\n",
    "for index, values in data_loaded_sub[data_loaded_sub.columns[5:]].iterrows():\n",
    "    \n",
    "    print('Row %s has only nan: %s' %(index,values.isnull().all()))\n",
    "    \n",
    "    if values.isnull().all():\n",
    "        rows_del.append(index)"
   ]
  },
  {
   "cell_type": "markdown",
   "metadata": {
    "slideshow": {
     "slide_type": "subslide"
    },
    "solution2": "hidden",
    "solution2_first": true
   },
   "source": [
    "#### Exercise 6\n",
    "\n",
    "What did we do via the `rows_del` and `if statement` parts of the code?  "
   ]
  },
  {
   "cell_type": "markdown",
   "metadata": {
    "solution2": "hidden"
   },
   "source": [
    "We create an empty `list` called `rows_del` to which we will `append` the `index` of a `row` `if` it only contains `nan`. "
   ]
  },
  {
   "cell_type": "markdown",
   "metadata": {
    "slideshow": {
     "slide_type": "subslide"
    }
   },
   "source": [
    "With this `list`, we can now simply remove the respective `rows` of our `dataframe` via the `.drop()` `function` which removes `rows` based on `indices`:"
   ]
  },
  {
   "cell_type": "code",
   "execution_count": 42,
   "metadata": {},
   "outputs": [
    {
     "name": "stdout",
     "output_type": "stream",
     "text": [
      "The following rows will be removed: [0, 1, 40, 41]\n"
     ]
    }
   ],
   "source": [
    "print('The following rows will be removed: %s' %rows_del)\n",
    "data_loaded_sub = data_loaded_sub.drop(rows_del)"
   ]
  },
  {
   "cell_type": "markdown",
   "metadata": {
    "slideshow": {
     "slide_type": "fragment"
    }
   },
   "source": [
    "Coolio, let's check our `dataframe again`:"
   ]
  },
  {
   "cell_type": "code",
   "execution_count": 43,
   "metadata": {},
   "outputs": [
    {
     "data": {
      "text/html": [
       "<div>\n",
       "<style scoped>\n",
       "    .dataframe tbody tr th:only-of-type {\n",
       "        vertical-align: middle;\n",
       "    }\n",
       "\n",
       "    .dataframe tbody tr th {\n",
       "        vertical-align: top;\n",
       "    }\n",
       "\n",
       "    .dataframe thead th {\n",
       "        text-align: right;\n",
       "    }\n",
       "</style>\n",
       "<table border=\"1\" class=\"dataframe\">\n",
       "  <thead>\n",
       "    <tr style=\"text-align: right;\">\n",
       "      <th></th>\n",
       "      <th>participant</th>\n",
       "      <th>session</th>\n",
       "      <th>age</th>\n",
       "      <th>left-handed</th>\n",
       "      <th>like this course</th>\n",
       "      <th>movie</th>\n",
       "      <th>snack</th>\n",
       "      <th>animal</th>\n",
       "      <th>rating_movies.response</th>\n",
       "      <th>rating_snacks.response</th>\n",
       "      <th>rating_animals.response</th>\n",
       "    </tr>\n",
       "  </thead>\n",
       "  <tbody>\n",
       "    <tr>\n",
       "      <th>2</th>\n",
       "      <td>Heidi Klum</td>\n",
       "      <td>1.0</td>\n",
       "      <td>43.0</td>\n",
       "      <td>False</td>\n",
       "      <td>Yes</td>\n",
       "      <td>The Intouchables</td>\n",
       "      <td>pancakes</td>\n",
       "      <td>barred owl</td>\n",
       "      <td>4.00</td>\n",
       "      <td>NaN</td>\n",
       "      <td>NaN</td>\n",
       "    </tr>\n",
       "    <tr>\n",
       "      <th>3</th>\n",
       "      <td>Heidi Klum</td>\n",
       "      <td>1.0</td>\n",
       "      <td>43.0</td>\n",
       "      <td>False</td>\n",
       "      <td>Yes</td>\n",
       "      <td>James Bond</td>\n",
       "      <td>bananas</td>\n",
       "      <td>cat</td>\n",
       "      <td>7.00</td>\n",
       "      <td>NaN</td>\n",
       "      <td>NaN</td>\n",
       "    </tr>\n",
       "    <tr>\n",
       "      <th>4</th>\n",
       "      <td>Heidi Klum</td>\n",
       "      <td>1.0</td>\n",
       "      <td>43.0</td>\n",
       "      <td>False</td>\n",
       "      <td>Yes</td>\n",
       "      <td>Forrest Gump</td>\n",
       "      <td>dominoes</td>\n",
       "      <td>coral</td>\n",
       "      <td>3.44</td>\n",
       "      <td>NaN</td>\n",
       "      <td>NaN</td>\n",
       "    </tr>\n",
       "    <tr>\n",
       "      <th>5</th>\n",
       "      <td>Heidi Klum</td>\n",
       "      <td>1.0</td>\n",
       "      <td>43.0</td>\n",
       "      <td>False</td>\n",
       "      <td>Yes</td>\n",
       "      <td>Retired Extremely Dangerous</td>\n",
       "      <td>carrots</td>\n",
       "      <td>elephant</td>\n",
       "      <td>4.00</td>\n",
       "      <td>NaN</td>\n",
       "      <td>NaN</td>\n",
       "    </tr>\n",
       "    <tr>\n",
       "      <th>6</th>\n",
       "      <td>Heidi Klum</td>\n",
       "      <td>1.0</td>\n",
       "      <td>43.0</td>\n",
       "      <td>False</td>\n",
       "      <td>Yes</td>\n",
       "      <td>The Imitation Game</td>\n",
       "      <td>humus</td>\n",
       "      <td>groundhog</td>\n",
       "      <td>6.02</td>\n",
       "      <td>NaN</td>\n",
       "      <td>NaN</td>\n",
       "    </tr>\n",
       "    <tr>\n",
       "      <th>7</th>\n",
       "      <td>Heidi Klum</td>\n",
       "      <td>1.0</td>\n",
       "      <td>43.0</td>\n",
       "      <td>False</td>\n",
       "      <td>Yes</td>\n",
       "      <td>The Philosophers</td>\n",
       "      <td>chocolate</td>\n",
       "      <td>lizard</td>\n",
       "      <td>4.00</td>\n",
       "      <td>NaN</td>\n",
       "      <td>NaN</td>\n",
       "    </tr>\n",
       "    <tr>\n",
       "      <th>8</th>\n",
       "      <td>Heidi Klum</td>\n",
       "      <td>1.0</td>\n",
       "      <td>43.0</td>\n",
       "      <td>False</td>\n",
       "      <td>Yes</td>\n",
       "      <td>Call Me by Your Name</td>\n",
       "      <td>Kinder bueno</td>\n",
       "      <td>None</td>\n",
       "      <td>4.00</td>\n",
       "      <td>NaN</td>\n",
       "      <td>NaN</td>\n",
       "    </tr>\n",
       "    <tr>\n",
       "      <th>9</th>\n",
       "      <td>Heidi Klum</td>\n",
       "      <td>1.0</td>\n",
       "      <td>43.0</td>\n",
       "      <td>False</td>\n",
       "      <td>Yes</td>\n",
       "      <td>Shutter Island</td>\n",
       "      <td>Pringles</td>\n",
       "      <td>None</td>\n",
       "      <td>5.04</td>\n",
       "      <td>NaN</td>\n",
       "      <td>NaN</td>\n",
       "    </tr>\n",
       "    <tr>\n",
       "      <th>10</th>\n",
       "      <td>Heidi Klum</td>\n",
       "      <td>1.0</td>\n",
       "      <td>43.0</td>\n",
       "      <td>False</td>\n",
       "      <td>Yes</td>\n",
       "      <td>Love actually</td>\n",
       "      <td>Rocher</td>\n",
       "      <td>None</td>\n",
       "      <td>6.56</td>\n",
       "      <td>NaN</td>\n",
       "      <td>NaN</td>\n",
       "    </tr>\n",
       "    <tr>\n",
       "      <th>11</th>\n",
       "      <td>Heidi Klum</td>\n",
       "      <td>1.0</td>\n",
       "      <td>43.0</td>\n",
       "      <td>False</td>\n",
       "      <td>Yes</td>\n",
       "      <td>The Great Gatsby</td>\n",
       "      <td>dark chocolate</td>\n",
       "      <td>None</td>\n",
       "      <td>3.06</td>\n",
       "      <td>NaN</td>\n",
       "      <td>NaN</td>\n",
       "    </tr>\n",
       "  </tbody>\n",
       "</table>\n",
       "</div>"
      ],
      "text/plain": [
       "   participant  session   age left-handed like this course  \\\n",
       "2   Heidi Klum      1.0  43.0       False              Yes   \n",
       "3   Heidi Klum      1.0  43.0       False              Yes   \n",
       "4   Heidi Klum      1.0  43.0       False              Yes   \n",
       "5   Heidi Klum      1.0  43.0       False              Yes   \n",
       "6   Heidi Klum      1.0  43.0       False              Yes   \n",
       "7   Heidi Klum      1.0  43.0       False              Yes   \n",
       "8   Heidi Klum      1.0  43.0       False              Yes   \n",
       "9   Heidi Klum      1.0  43.0       False              Yes   \n",
       "10  Heidi Klum      1.0  43.0       False              Yes   \n",
       "11  Heidi Klum      1.0  43.0       False              Yes   \n",
       "\n",
       "                          movie           snack      animal  \\\n",
       "2              The Intouchables        pancakes  barred owl   \n",
       "3                    James Bond         bananas         cat   \n",
       "4                  Forrest Gump        dominoes       coral   \n",
       "5   Retired Extremely Dangerous         carrots    elephant   \n",
       "6            The Imitation Game           humus   groundhog   \n",
       "7              The Philosophers       chocolate      lizard   \n",
       "8          Call Me by Your Name    Kinder bueno        None   \n",
       "9                Shutter Island        Pringles        None   \n",
       "10                Love actually          Rocher        None   \n",
       "11             The Great Gatsby  dark chocolate        None   \n",
       "\n",
       "    rating_movies.response  rating_snacks.response  rating_animals.response  \n",
       "2                     4.00                     NaN                      NaN  \n",
       "3                     7.00                     NaN                      NaN  \n",
       "4                     3.44                     NaN                      NaN  \n",
       "5                     4.00                     NaN                      NaN  \n",
       "6                     6.02                     NaN                      NaN  \n",
       "7                     4.00                     NaN                      NaN  \n",
       "8                     4.00                     NaN                      NaN  \n",
       "9                     5.04                     NaN                      NaN  \n",
       "10                    6.56                     NaN                      NaN  \n",
       "11                    3.06                     NaN                      NaN  "
      ]
     },
     "execution_count": 43,
     "metadata": {},
     "output_type": "execute_result"
    }
   ],
   "source": [
    "data_loaded_sub.head(n=10)"
   ]
  },
  {
   "cell_type": "markdown",
   "metadata": {
    "slideshow": {
     "slide_type": "subslide"
    }
   },
   "source": [
    "Given that we have removed some `rows` and thus changed the `index` of our `dataframe`, it might be a good idea to `reset` it to reflect those changes. This can easily be done via the `.reset_index()` `function`:"
   ]
  },
  {
   "cell_type": "code",
   "execution_count": 44,
   "metadata": {},
   "outputs": [
    {
     "data": {
      "text/html": [
       "<div>\n",
       "<style scoped>\n",
       "    .dataframe tbody tr th:only-of-type {\n",
       "        vertical-align: middle;\n",
       "    }\n",
       "\n",
       "    .dataframe tbody tr th {\n",
       "        vertical-align: top;\n",
       "    }\n",
       "\n",
       "    .dataframe thead th {\n",
       "        text-align: right;\n",
       "    }\n",
       "</style>\n",
       "<table border=\"1\" class=\"dataframe\">\n",
       "  <thead>\n",
       "    <tr style=\"text-align: right;\">\n",
       "      <th></th>\n",
       "      <th>participant</th>\n",
       "      <th>session</th>\n",
       "      <th>age</th>\n",
       "      <th>left-handed</th>\n",
       "      <th>like this course</th>\n",
       "      <th>movie</th>\n",
       "      <th>snack</th>\n",
       "      <th>animal</th>\n",
       "      <th>rating_movies.response</th>\n",
       "      <th>rating_snacks.response</th>\n",
       "      <th>rating_animals.response</th>\n",
       "    </tr>\n",
       "  </thead>\n",
       "  <tbody>\n",
       "    <tr>\n",
       "      <th>0</th>\n",
       "      <td>Heidi Klum</td>\n",
       "      <td>1.0</td>\n",
       "      <td>43.0</td>\n",
       "      <td>False</td>\n",
       "      <td>Yes</td>\n",
       "      <td>The Intouchables</td>\n",
       "      <td>pancakes</td>\n",
       "      <td>barred owl</td>\n",
       "      <td>4.00</td>\n",
       "      <td>NaN</td>\n",
       "      <td>NaN</td>\n",
       "    </tr>\n",
       "    <tr>\n",
       "      <th>1</th>\n",
       "      <td>Heidi Klum</td>\n",
       "      <td>1.0</td>\n",
       "      <td>43.0</td>\n",
       "      <td>False</td>\n",
       "      <td>Yes</td>\n",
       "      <td>James Bond</td>\n",
       "      <td>bananas</td>\n",
       "      <td>cat</td>\n",
       "      <td>7.00</td>\n",
       "      <td>NaN</td>\n",
       "      <td>NaN</td>\n",
       "    </tr>\n",
       "    <tr>\n",
       "      <th>2</th>\n",
       "      <td>Heidi Klum</td>\n",
       "      <td>1.0</td>\n",
       "      <td>43.0</td>\n",
       "      <td>False</td>\n",
       "      <td>Yes</td>\n",
       "      <td>Forrest Gump</td>\n",
       "      <td>dominoes</td>\n",
       "      <td>coral</td>\n",
       "      <td>3.44</td>\n",
       "      <td>NaN</td>\n",
       "      <td>NaN</td>\n",
       "    </tr>\n",
       "    <tr>\n",
       "      <th>3</th>\n",
       "      <td>Heidi Klum</td>\n",
       "      <td>1.0</td>\n",
       "      <td>43.0</td>\n",
       "      <td>False</td>\n",
       "      <td>Yes</td>\n",
       "      <td>Retired Extremely Dangerous</td>\n",
       "      <td>carrots</td>\n",
       "      <td>elephant</td>\n",
       "      <td>4.00</td>\n",
       "      <td>NaN</td>\n",
       "      <td>NaN</td>\n",
       "    </tr>\n",
       "    <tr>\n",
       "      <th>4</th>\n",
       "      <td>Heidi Klum</td>\n",
       "      <td>1.0</td>\n",
       "      <td>43.0</td>\n",
       "      <td>False</td>\n",
       "      <td>Yes</td>\n",
       "      <td>The Imitation Game</td>\n",
       "      <td>humus</td>\n",
       "      <td>groundhog</td>\n",
       "      <td>6.02</td>\n",
       "      <td>NaN</td>\n",
       "      <td>NaN</td>\n",
       "    </tr>\n",
       "    <tr>\n",
       "      <th>5</th>\n",
       "      <td>Heidi Klum</td>\n",
       "      <td>1.0</td>\n",
       "      <td>43.0</td>\n",
       "      <td>False</td>\n",
       "      <td>Yes</td>\n",
       "      <td>The Philosophers</td>\n",
       "      <td>chocolate</td>\n",
       "      <td>lizard</td>\n",
       "      <td>4.00</td>\n",
       "      <td>NaN</td>\n",
       "      <td>NaN</td>\n",
       "    </tr>\n",
       "    <tr>\n",
       "      <th>6</th>\n",
       "      <td>Heidi Klum</td>\n",
       "      <td>1.0</td>\n",
       "      <td>43.0</td>\n",
       "      <td>False</td>\n",
       "      <td>Yes</td>\n",
       "      <td>Call Me by Your Name</td>\n",
       "      <td>Kinder bueno</td>\n",
       "      <td>None</td>\n",
       "      <td>4.00</td>\n",
       "      <td>NaN</td>\n",
       "      <td>NaN</td>\n",
       "    </tr>\n",
       "    <tr>\n",
       "      <th>7</th>\n",
       "      <td>Heidi Klum</td>\n",
       "      <td>1.0</td>\n",
       "      <td>43.0</td>\n",
       "      <td>False</td>\n",
       "      <td>Yes</td>\n",
       "      <td>Shutter Island</td>\n",
       "      <td>Pringles</td>\n",
       "      <td>None</td>\n",
       "      <td>5.04</td>\n",
       "      <td>NaN</td>\n",
       "      <td>NaN</td>\n",
       "    </tr>\n",
       "    <tr>\n",
       "      <th>8</th>\n",
       "      <td>Heidi Klum</td>\n",
       "      <td>1.0</td>\n",
       "      <td>43.0</td>\n",
       "      <td>False</td>\n",
       "      <td>Yes</td>\n",
       "      <td>Love actually</td>\n",
       "      <td>Rocher</td>\n",
       "      <td>None</td>\n",
       "      <td>6.56</td>\n",
       "      <td>NaN</td>\n",
       "      <td>NaN</td>\n",
       "    </tr>\n",
       "    <tr>\n",
       "      <th>9</th>\n",
       "      <td>Heidi Klum</td>\n",
       "      <td>1.0</td>\n",
       "      <td>43.0</td>\n",
       "      <td>False</td>\n",
       "      <td>Yes</td>\n",
       "      <td>The Great Gatsby</td>\n",
       "      <td>dark chocolate</td>\n",
       "      <td>None</td>\n",
       "      <td>3.06</td>\n",
       "      <td>NaN</td>\n",
       "      <td>NaN</td>\n",
       "    </tr>\n",
       "  </tbody>\n",
       "</table>\n",
       "</div>"
      ],
      "text/plain": [
       "  participant  session   age left-handed like this course  \\\n",
       "0  Heidi Klum      1.0  43.0       False              Yes   \n",
       "1  Heidi Klum      1.0  43.0       False              Yes   \n",
       "2  Heidi Klum      1.0  43.0       False              Yes   \n",
       "3  Heidi Klum      1.0  43.0       False              Yes   \n",
       "4  Heidi Klum      1.0  43.0       False              Yes   \n",
       "5  Heidi Klum      1.0  43.0       False              Yes   \n",
       "6  Heidi Klum      1.0  43.0       False              Yes   \n",
       "7  Heidi Klum      1.0  43.0       False              Yes   \n",
       "8  Heidi Klum      1.0  43.0       False              Yes   \n",
       "9  Heidi Klum      1.0  43.0       False              Yes   \n",
       "\n",
       "                         movie           snack      animal  \\\n",
       "0             The Intouchables        pancakes  barred owl   \n",
       "1                   James Bond         bananas         cat   \n",
       "2                 Forrest Gump        dominoes       coral   \n",
       "3  Retired Extremely Dangerous         carrots    elephant   \n",
       "4           The Imitation Game           humus   groundhog   \n",
       "5             The Philosophers       chocolate      lizard   \n",
       "6         Call Me by Your Name    Kinder bueno        None   \n",
       "7               Shutter Island        Pringles        None   \n",
       "8                Love actually          Rocher        None   \n",
       "9             The Great Gatsby  dark chocolate        None   \n",
       "\n",
       "   rating_movies.response  rating_snacks.response  rating_animals.response  \n",
       "0                    4.00                     NaN                      NaN  \n",
       "1                    7.00                     NaN                      NaN  \n",
       "2                    3.44                     NaN                      NaN  \n",
       "3                    4.00                     NaN                      NaN  \n",
       "4                    6.02                     NaN                      NaN  \n",
       "5                    4.00                     NaN                      NaN  \n",
       "6                    4.00                     NaN                      NaN  \n",
       "7                    5.04                     NaN                      NaN  \n",
       "8                    6.56                     NaN                      NaN  \n",
       "9                    3.06                     NaN                      NaN  "
      ]
     },
     "execution_count": 44,
     "metadata": {},
     "output_type": "execute_result"
    }
   ],
   "source": [
    "data_loaded_sub.reset_index(drop=True, inplace=True)\n",
    "\n",
    "data_loaded_sub.head(n=10)"
   ]
  },
  {
   "cell_type": "markdown",
   "metadata": {
    "slideshow": {
     "slide_type": "subslide"
    }
   },
   "source": [
    "#### Reshaping the dataframe\n",
    "\n",
    "So far so good! Now, we have to think about the `structure` and `shape` of our `dataframe`. As mentioned before, `PsychoPy` provides the `data` in `wide-format` resulting in all the `nan`s we see. Thus, a way to address this and making the `dataframe` more intelligible at the same time, would be to `reshape` it to `long-format`.   "
   ]
  },
  {
   "cell_type": "markdown",
   "metadata": {
    "slideshow": {
     "slide_type": "fragment"
    }
   },
   "source": [
    "In more detail, we change the `shape` of our `dataframe` from a few `rows` that contain information per `trial` across a `wide` range of `columns` to a few `columns` that contain information stacked across a `long` range of `rows`."
   ]
  },
  {
   "cell_type": "markdown",
   "metadata": {
    "slideshow": {
     "slide_type": "subslide"
    }
   },
   "source": [
    "Given our `dataset` within which we have a `rating` for multiple `items` of multiple `categories`, `reshaping` our `dataframe` to indicate the `category`, `item` and respective `rating` should work out nicely. `Pandas` has multiple options for this type of operation including `.melt()`, `.wide_to_long()`, `.stack()`, etc. ."
   ]
  },
  {
   "cell_type": "markdown",
   "metadata": {
    "slideshow": {
     "slide_type": "subslide"
    }
   },
   "source": [
    "Here we will use a a combination of `.melt()` and `basic operations` like e.g. `selecting`. Starting with `.melt()`, we only need to provide a `list` of `columns` that should remain \"identical\" or `unstacked` and a `list` of `columns` that should be `stacked`. We will save the output to a new `dataframe` and additionally apply a few \"`cleaning operations`\" (removing `duplicates` and `nan`):   \n",
    "\n",
    "<center><img src=\"https://pandas.pydata.org/pandas-docs/version/0.25.3/_images/reshaping_melt.png\" width=\"600px\" style=\"margin-bottom: 10px;\"></center>"
   ]
  },
  {
   "cell_type": "code",
   "execution_count": 45,
   "metadata": {
    "slideshow": {
     "slide_type": "subslide"
    }
   },
   "outputs": [],
   "source": [
    "data_loaded_sub_long = data_loaded_sub.melt(id_vars=data_loaded_sub.columns[:5], \n",
    "                                            value_vars=['movie', 'snack', 'animal'],\n",
    "                                            var_name='category', value_name='item').drop_duplicates().replace(to_replace='None', value=np.nan).dropna()"
   ]
  },
  {
   "cell_type": "code",
   "execution_count": 46,
   "metadata": {
    "slideshow": {
     "slide_type": "fragment"
    }
   },
   "outputs": [
    {
     "data": {
      "text/html": [
       "<div>\n",
       "<style scoped>\n",
       "    .dataframe tbody tr th:only-of-type {\n",
       "        vertical-align: middle;\n",
       "    }\n",
       "\n",
       "    .dataframe tbody tr th {\n",
       "        vertical-align: top;\n",
       "    }\n",
       "\n",
       "    .dataframe thead th {\n",
       "        text-align: right;\n",
       "    }\n",
       "</style>\n",
       "<table border=\"1\" class=\"dataframe\">\n",
       "  <thead>\n",
       "    <tr style=\"text-align: right;\">\n",
       "      <th></th>\n",
       "      <th>participant</th>\n",
       "      <th>session</th>\n",
       "      <th>age</th>\n",
       "      <th>left-handed</th>\n",
       "      <th>like this course</th>\n",
       "      <th>category</th>\n",
       "      <th>item</th>\n",
       "    </tr>\n",
       "  </thead>\n",
       "  <tbody>\n",
       "    <tr>\n",
       "      <th>0</th>\n",
       "      <td>Heidi Klum</td>\n",
       "      <td>1.0</td>\n",
       "      <td>43.0</td>\n",
       "      <td>False</td>\n",
       "      <td>Yes</td>\n",
       "      <td>movie</td>\n",
       "      <td>The Intouchables</td>\n",
       "    </tr>\n",
       "    <tr>\n",
       "      <th>1</th>\n",
       "      <td>Heidi Klum</td>\n",
       "      <td>1.0</td>\n",
       "      <td>43.0</td>\n",
       "      <td>False</td>\n",
       "      <td>Yes</td>\n",
       "      <td>movie</td>\n",
       "      <td>James Bond</td>\n",
       "    </tr>\n",
       "    <tr>\n",
       "      <th>2</th>\n",
       "      <td>Heidi Klum</td>\n",
       "      <td>1.0</td>\n",
       "      <td>43.0</td>\n",
       "      <td>False</td>\n",
       "      <td>Yes</td>\n",
       "      <td>movie</td>\n",
       "      <td>Forrest Gump</td>\n",
       "    </tr>\n",
       "    <tr>\n",
       "      <th>3</th>\n",
       "      <td>Heidi Klum</td>\n",
       "      <td>1.0</td>\n",
       "      <td>43.0</td>\n",
       "      <td>False</td>\n",
       "      <td>Yes</td>\n",
       "      <td>movie</td>\n",
       "      <td>Retired Extremely Dangerous</td>\n",
       "    </tr>\n",
       "    <tr>\n",
       "      <th>4</th>\n",
       "      <td>Heidi Klum</td>\n",
       "      <td>1.0</td>\n",
       "      <td>43.0</td>\n",
       "      <td>False</td>\n",
       "      <td>Yes</td>\n",
       "      <td>movie</td>\n",
       "      <td>The Imitation Game</td>\n",
       "    </tr>\n",
       "    <tr>\n",
       "      <th>5</th>\n",
       "      <td>Heidi Klum</td>\n",
       "      <td>1.0</td>\n",
       "      <td>43.0</td>\n",
       "      <td>False</td>\n",
       "      <td>Yes</td>\n",
       "      <td>movie</td>\n",
       "      <td>The Philosophers</td>\n",
       "    </tr>\n",
       "    <tr>\n",
       "      <th>6</th>\n",
       "      <td>Heidi Klum</td>\n",
       "      <td>1.0</td>\n",
       "      <td>43.0</td>\n",
       "      <td>False</td>\n",
       "      <td>Yes</td>\n",
       "      <td>movie</td>\n",
       "      <td>Call Me by Your Name</td>\n",
       "    </tr>\n",
       "    <tr>\n",
       "      <th>7</th>\n",
       "      <td>Heidi Klum</td>\n",
       "      <td>1.0</td>\n",
       "      <td>43.0</td>\n",
       "      <td>False</td>\n",
       "      <td>Yes</td>\n",
       "      <td>movie</td>\n",
       "      <td>Shutter Island</td>\n",
       "    </tr>\n",
       "    <tr>\n",
       "      <th>8</th>\n",
       "      <td>Heidi Klum</td>\n",
       "      <td>1.0</td>\n",
       "      <td>43.0</td>\n",
       "      <td>False</td>\n",
       "      <td>Yes</td>\n",
       "      <td>movie</td>\n",
       "      <td>Love actually</td>\n",
       "    </tr>\n",
       "    <tr>\n",
       "      <th>9</th>\n",
       "      <td>Heidi Klum</td>\n",
       "      <td>1.0</td>\n",
       "      <td>43.0</td>\n",
       "      <td>False</td>\n",
       "      <td>Yes</td>\n",
       "      <td>movie</td>\n",
       "      <td>The Great Gatsby</td>\n",
       "    </tr>\n",
       "  </tbody>\n",
       "</table>\n",
       "</div>"
      ],
      "text/plain": [
       "  participant  session   age  left-handed like this course category  \\\n",
       "0  Heidi Klum      1.0  43.0        False              Yes    movie   \n",
       "1  Heidi Klum      1.0  43.0        False              Yes    movie   \n",
       "2  Heidi Klum      1.0  43.0        False              Yes    movie   \n",
       "3  Heidi Klum      1.0  43.0        False              Yes    movie   \n",
       "4  Heidi Klum      1.0  43.0        False              Yes    movie   \n",
       "5  Heidi Klum      1.0  43.0        False              Yes    movie   \n",
       "6  Heidi Klum      1.0  43.0        False              Yes    movie   \n",
       "7  Heidi Klum      1.0  43.0        False              Yes    movie   \n",
       "8  Heidi Klum      1.0  43.0        False              Yes    movie   \n",
       "9  Heidi Klum      1.0  43.0        False              Yes    movie   \n",
       "\n",
       "                          item  \n",
       "0             The Intouchables  \n",
       "1                   James Bond  \n",
       "2                 Forrest Gump  \n",
       "3  Retired Extremely Dangerous  \n",
       "4           The Imitation Game  \n",
       "5             The Philosophers  \n",
       "6         Call Me by Your Name  \n",
       "7               Shutter Island  \n",
       "8                Love actually  \n",
       "9             The Great Gatsby  "
      ]
     },
     "execution_count": 46,
     "metadata": {},
     "output_type": "execute_result"
    }
   ],
   "source": [
    "data_loaded_sub_long.head(n=10)"
   ]
  },
  {
   "cell_type": "markdown",
   "metadata": {
    "slideshow": {
     "slide_type": "subslide"
    }
   },
   "source": [
    "That worked reasonably well! We only miss the `rating`s as we didn't include them during the `reshaping`. Thus, we will just `select` them from the old `dataframe` and then add them to our new `dataframe`. During the `selection` of the respective `values`, we will remove the `nan`s and change the `data type` to `list` for easy handling. "
   ]
  },
  {
   "cell_type": "code",
   "execution_count": 47,
   "metadata": {},
   "outputs": [],
   "source": [
    "ratings = list(data_loaded_sub['rating_movies.response'].dropna()) + \\\n",
    "          list(data_loaded_sub['rating_snacks.response'].dropna()) + \\\n",
    "          list(data_loaded_sub['rating_animals.response'].dropna())"
   ]
  },
  {
   "cell_type": "code",
   "execution_count": 48,
   "metadata": {
    "slideshow": {
     "slide_type": "fragment"
    }
   },
   "outputs": [
    {
     "data": {
      "text/plain": [
       "[4.0,\n",
       " 7.0,\n",
       " 3.44,\n",
       " 4.0,\n",
       " 6.02,\n",
       " 4.0,\n",
       " 4.0,\n",
       " 5.04,\n",
       " 6.5600000000000005,\n",
       " 3.06,\n",
       " 2.74,\n",
       " 5.08,\n",
       " 4.7,\n",
       " 5.48,\n",
       " 6.08,\n",
       " 4.0,\n",
       " 3.14,\n",
       " 5.68,\n",
       " 6.98,\n",
       " 2.7,\n",
       " 5.0,\n",
       " 5.06,\n",
       " 6.040000000000001,\n",
       " 5.08,\n",
       " 5.06,\n",
       " 5.92,\n",
       " 4.58,\n",
       " 4.02,\n",
       " 5.5,\n",
       " 2.0,\n",
       " 3.04,\n",
       " 7.0,\n",
       " 7.0,\n",
       " 7.0,\n",
       " 5.04,\n",
       " 6.0,\n",
       " 4.94,\n",
       " 4.78]"
      ]
     },
     "execution_count": 48,
     "metadata": {},
     "output_type": "execute_result"
    }
   ],
   "source": [
    "ratings"
   ]
  },
  {
   "cell_type": "markdown",
   "metadata": {
    "slideshow": {
     "slide_type": "subslide"
    }
   },
   "source": [
    "Now we can simply add this `list` of `ratings` to our `dataframe` via assigning them to a new `column`. This works comparably to defining new `keys` and `values` in `dictionaries`:\n",
    "\n",
    "<center><img src=\"https://pandas.pydata.org/pandas-docs/version/1.0.5/_images/05_newcolumn_1.svg\" width=\"500\"></center>\n",
    "\n"
   ]
  },
  {
   "cell_type": "code",
   "execution_count": 49,
   "metadata": {},
   "outputs": [],
   "source": [
    "data_loaded_sub_long['ratings'] = ratings"
   ]
  },
  {
   "cell_type": "code",
   "execution_count": 50,
   "metadata": {},
   "outputs": [
    {
     "data": {
      "text/html": [
       "<div>\n",
       "<style scoped>\n",
       "    .dataframe tbody tr th:only-of-type {\n",
       "        vertical-align: middle;\n",
       "    }\n",
       "\n",
       "    .dataframe tbody tr th {\n",
       "        vertical-align: top;\n",
       "    }\n",
       "\n",
       "    .dataframe thead th {\n",
       "        text-align: right;\n",
       "    }\n",
       "</style>\n",
       "<table border=\"1\" class=\"dataframe\">\n",
       "  <thead>\n",
       "    <tr style=\"text-align: right;\">\n",
       "      <th></th>\n",
       "      <th>participant</th>\n",
       "      <th>session</th>\n",
       "      <th>age</th>\n",
       "      <th>left-handed</th>\n",
       "      <th>like this course</th>\n",
       "      <th>category</th>\n",
       "      <th>item</th>\n",
       "      <th>ratings</th>\n",
       "    </tr>\n",
       "  </thead>\n",
       "  <tbody>\n",
       "    <tr>\n",
       "      <th>0</th>\n",
       "      <td>Heidi Klum</td>\n",
       "      <td>1.0</td>\n",
       "      <td>43.0</td>\n",
       "      <td>False</td>\n",
       "      <td>Yes</td>\n",
       "      <td>movie</td>\n",
       "      <td>The Intouchables</td>\n",
       "      <td>4.00</td>\n",
       "    </tr>\n",
       "    <tr>\n",
       "      <th>1</th>\n",
       "      <td>Heidi Klum</td>\n",
       "      <td>1.0</td>\n",
       "      <td>43.0</td>\n",
       "      <td>False</td>\n",
       "      <td>Yes</td>\n",
       "      <td>movie</td>\n",
       "      <td>James Bond</td>\n",
       "      <td>7.00</td>\n",
       "    </tr>\n",
       "    <tr>\n",
       "      <th>2</th>\n",
       "      <td>Heidi Klum</td>\n",
       "      <td>1.0</td>\n",
       "      <td>43.0</td>\n",
       "      <td>False</td>\n",
       "      <td>Yes</td>\n",
       "      <td>movie</td>\n",
       "      <td>Forrest Gump</td>\n",
       "      <td>3.44</td>\n",
       "    </tr>\n",
       "    <tr>\n",
       "      <th>3</th>\n",
       "      <td>Heidi Klum</td>\n",
       "      <td>1.0</td>\n",
       "      <td>43.0</td>\n",
       "      <td>False</td>\n",
       "      <td>Yes</td>\n",
       "      <td>movie</td>\n",
       "      <td>Retired Extremely Dangerous</td>\n",
       "      <td>4.00</td>\n",
       "    </tr>\n",
       "    <tr>\n",
       "      <th>4</th>\n",
       "      <td>Heidi Klum</td>\n",
       "      <td>1.0</td>\n",
       "      <td>43.0</td>\n",
       "      <td>False</td>\n",
       "      <td>Yes</td>\n",
       "      <td>movie</td>\n",
       "      <td>The Imitation Game</td>\n",
       "      <td>6.02</td>\n",
       "    </tr>\n",
       "    <tr>\n",
       "      <th>5</th>\n",
       "      <td>Heidi Klum</td>\n",
       "      <td>1.0</td>\n",
       "      <td>43.0</td>\n",
       "      <td>False</td>\n",
       "      <td>Yes</td>\n",
       "      <td>movie</td>\n",
       "      <td>The Philosophers</td>\n",
       "      <td>4.00</td>\n",
       "    </tr>\n",
       "    <tr>\n",
       "      <th>6</th>\n",
       "      <td>Heidi Klum</td>\n",
       "      <td>1.0</td>\n",
       "      <td>43.0</td>\n",
       "      <td>False</td>\n",
       "      <td>Yes</td>\n",
       "      <td>movie</td>\n",
       "      <td>Call Me by Your Name</td>\n",
       "      <td>4.00</td>\n",
       "    </tr>\n",
       "    <tr>\n",
       "      <th>7</th>\n",
       "      <td>Heidi Klum</td>\n",
       "      <td>1.0</td>\n",
       "      <td>43.0</td>\n",
       "      <td>False</td>\n",
       "      <td>Yes</td>\n",
       "      <td>movie</td>\n",
       "      <td>Shutter Island</td>\n",
       "      <td>5.04</td>\n",
       "    </tr>\n",
       "    <tr>\n",
       "      <th>8</th>\n",
       "      <td>Heidi Klum</td>\n",
       "      <td>1.0</td>\n",
       "      <td>43.0</td>\n",
       "      <td>False</td>\n",
       "      <td>Yes</td>\n",
       "      <td>movie</td>\n",
       "      <td>Love actually</td>\n",
       "      <td>6.56</td>\n",
       "    </tr>\n",
       "    <tr>\n",
       "      <th>9</th>\n",
       "      <td>Heidi Klum</td>\n",
       "      <td>1.0</td>\n",
       "      <td>43.0</td>\n",
       "      <td>False</td>\n",
       "      <td>Yes</td>\n",
       "      <td>movie</td>\n",
       "      <td>The Great Gatsby</td>\n",
       "      <td>3.06</td>\n",
       "    </tr>\n",
       "  </tbody>\n",
       "</table>\n",
       "</div>"
      ],
      "text/plain": [
       "  participant  session   age  left-handed like this course category  \\\n",
       "0  Heidi Klum      1.0  43.0        False              Yes    movie   \n",
       "1  Heidi Klum      1.0  43.0        False              Yes    movie   \n",
       "2  Heidi Klum      1.0  43.0        False              Yes    movie   \n",
       "3  Heidi Klum      1.0  43.0        False              Yes    movie   \n",
       "4  Heidi Klum      1.0  43.0        False              Yes    movie   \n",
       "5  Heidi Klum      1.0  43.0        False              Yes    movie   \n",
       "6  Heidi Klum      1.0  43.0        False              Yes    movie   \n",
       "7  Heidi Klum      1.0  43.0        False              Yes    movie   \n",
       "8  Heidi Klum      1.0  43.0        False              Yes    movie   \n",
       "9  Heidi Klum      1.0  43.0        False              Yes    movie   \n",
       "\n",
       "                          item  ratings  \n",
       "0             The Intouchables     4.00  \n",
       "1                   James Bond     7.00  \n",
       "2                 Forrest Gump     3.44  \n",
       "3  Retired Extremely Dangerous     4.00  \n",
       "4           The Imitation Game     6.02  \n",
       "5             The Philosophers     4.00  \n",
       "6         Call Me by Your Name     4.00  \n",
       "7               Shutter Island     5.04  \n",
       "8                Love actually     6.56  \n",
       "9             The Great Gatsby     3.06  "
      ]
     },
     "execution_count": 50,
     "metadata": {},
     "output_type": "execute_result"
    }
   ],
   "source": [
    "data_loaded_sub_long.head(n=10)"
   ]
  },
  {
   "cell_type": "markdown",
   "metadata": {
    "slideshow": {
     "slide_type": "subslide"
    }
   },
   "source": [
    "Even though this multi-step approach appears a bit cumbersome and introduces more room for errors, the important aspect is that we have everything in code making it reproducible and \"easy\" to find/spot potential mistakes."
   ]
  },
  {
   "cell_type": "markdown",
   "metadata": {
    "slideshow": {
     "slide_type": "fragment"
    }
   },
   "source": [
    "That being said, this might be a good time to save our converted and cleaned `dataframe` to disk for further analyzes. Importantly, the idea here is that we finished the initial `data exploration` and `wrangling` `steps` for a single participant and can now save the `data` to avoid running everything again every time we want to work with the data. "
   ]
  },
  {
   "cell_type": "markdown",
   "metadata": {
    "slideshow": {
     "slide_type": "subslide"
    }
   },
   "source": [
    "Obviously, `pandas` has our back with the `.to_csv()` `function` through which we can just provide a name for the to be saved `dataframe` resulting in a respective `.csv` file. (NB: use `.to` and `tab completion` to check all other file types you can save your `dataframes` to.)"
   ]
  },
  {
   "cell_type": "code",
   "execution_count": 51,
   "metadata": {
    "slideshow": {
     "slide_type": "fragment"
    }
   },
   "outputs": [],
   "source": [
    "from os import makedirs\n",
    "makedirs('data_experiment/derivatives/preprocessing')\n",
    "data_loaded_sub_long.to_csv('data_experiment/derivatives/preprocessing/%s_long_format.csv' %data_loaded_sub_long['participant'][0], index=False)"
   ]
  },
  {
   "cell_type": "code",
   "execution_count": 52,
   "metadata": {},
   "outputs": [
    {
     "name": "stdout",
     "output_type": "stream",
     "text": [
      "Heidi Klum_long_format.csv\r\n"
     ]
    }
   ],
   "source": [
    "ls data_experiment/derivatives/preprocessing/"
   ]
  },
  {
   "cell_type": "markdown",
   "metadata": {
    "slideshow": {
     "slide_type": "subslide"
    }
   },
   "source": [
    "While this seems already super intense concerning `data analyzes steps`, it's only just the beginning and actually an important aspects focusing on `data quality control` and preparation of further `analyzes`. When working with other `dataset` you might have to less or way more of these `operations`, depending on a variety of factors.  "
   ]
  },
  {
   "cell_type": "markdown",
   "metadata": {
    "slideshow": {
     "slide_type": "fragment"
    }
   },
   "source": [
    "However, to avoid going through all these steps for each `participant`, we can simply use our `list` of `data files` again and apply all steps within a `for loop`. **Important**: only do this if you have your operations outlined and tested, as well as are sure the `data` doesn't change between `participants`."
   ]
  },
  {
   "cell_type": "code",
   "execution_count": 53,
   "metadata": {
    "slideshow": {
     "slide_type": "subslide"
    }
   },
   "outputs": [
    {
     "name": "stdout",
     "output_type": "stream",
     "text": [
      "Working on data_experiment/yagurllea_experiment_2022_Jan_25_1318.csv, file 1/15\n",
      "Checking for nan across rows and deleting rows with only nan.\n",
      "Reshaping the dataframe.\n",
      "Saving dataframe to yagurllea_long_format.csv\n",
      "Working on data_experiment/pauli4psychopy_experiment_2022_Jan_24_1145.csv, file 2/15\n",
      "Checking for nan across rows and deleting rows with only nan.\n",
      "Reshaping the dataframe.\n",
      "Saving dataframe to pauli4psychopy_long_format.csv\n",
      "Working on data_experiment/porla_experiment_2022_Jan_24_2154.csv, file 3/15\n",
      "Checking for nan across rows and deleting rows with only nan.\n",
      "Reshaping the dataframe.\n",
      "Saving dataframe to porla_long_format.csv\n",
      "Working on data_experiment/Nina__experiment_2022_Jan_24_1212.csv, file 4/15\n",
      "Checking for nan across rows and deleting rows with only nan.\n",
      "Reshaping the dataframe.\n",
      "Saving dataframe to Nina _long_format.csv\n",
      "Working on data_experiment/Sophie Oprée_experiment_2022_Jan_24_1411.csv, file 5/15\n",
      "Checking for nan across rows and deleting rows with only nan.\n",
      "Reshaping the dataframe.\n",
      "Saving dataframe to Sophie Oprée_long_format.csv\n",
      "Working on data_experiment/participant_123_experiment_2022_Jan_26_1307.csv, file 6/15\n",
      "Checking for nan across rows and deleting rows with only nan.\n",
      "Reshaping the dataframe.\n",
      "Saving dataframe to participant_123_long_format.csv\n",
      "Working on data_experiment/funny_ID_experiment_2022_Jan_24_1215.csv, file 7/15\n",
      "Checking for nan across rows and deleting rows with only nan.\n",
      "Reshaping the dataframe.\n",
      "Saving dataframe to funny ID_long_format.csv\n",
      "Working on data_experiment/Chiara Ferrandina_experiment_2022_Jan_24_1829.csv, file 8/15\n",
      "Checking for nan across rows and deleting rows with only nan.\n",
      "Reshaping the dataframe.\n",
      "Saving dataframe to Chiara Ferrandina_long_format.csv\n",
      "Working on data_experiment/Smitty_Werben_Jagger_Man_Jensen#1_experiment_2022_Jan_26_1158.csv, file 9/15\n",
      "Checking for nan across rows and deleting rows with only nan.\n",
      "Reshaping the dataframe.\n",
      "Saving dataframe to Smitty_Werben_Jagger_Man_Jensen#1_long_format.csv\n",
      "Working on data_experiment/wile_coyote_2022_Jan_23_1805.csv, file 10/15\n",
      "Checking for nan across rows and deleting rows with only nan.\n",
      "Reshaping the dataframe.\n",
      "Saving dataframe to wile_coyote_long_format.csv\n",
      "Working on data_experiment/Heidi_Klum_experiment_2022_Jan_26_1600.csv, file 11/15\n",
      "Checking for nan across rows and deleting rows with only nan.\n",
      "Reshaping the dataframe.\n",
      "Saving dataframe to Heidi Klum_long_format.csv\n",
      "Working on data_experiment/bugs bunny_experiment_2022_Jan_23_1745.csv, file 12/15\n",
      "Checking for nan across rows and deleting rows with only nan.\n",
      "Reshaping the dataframe.\n",
      "Saving dataframe to bugs_bunny_long_format.csv\n",
      "Working on data_experiment/Bruce_Wayne_experiment_2022_Jan_23_1605.csv, file 13/15\n",
      "Checking for nan across rows and deleting rows with only nan.\n",
      "Reshaping the dataframe.\n",
      "Saving dataframe to Bruce_Wayne_long_format.csv\n",
      "Working on data_experiment/twentyfour_experiment_2022_Jan_26_1436.csv, file 14/15\n",
      "Checking for nan across rows and deleting rows with only nan.\n",
      "Reshaping the dataframe.\n",
      "Saving dataframe to Talha_long_format.csv\n",
      "Working on data_experiment/daffy_duck_experiment_2022_Jan_23_1409.csv, file 15/15\n",
      "Checking for nan across rows and deleting rows with only nan.\n",
      "Reshaping the dataframe.\n",
      "Saving dataframe to daffy_duck_long_format.csv\n"
     ]
    }
   ],
   "source": [
    "for index, participant in enumerate(data_files):\n",
    "    \n",
    "    print('Working on %s, file %s/%s' %(participant, index+1, len(data_files)))\n",
    "    \n",
    "    # load the dataframe\n",
    "    data_loaded_part = pd.read_csv(participant, delimiter=',')\n",
    "\n",
    "    # select columns\n",
    "    data_loaded_sub_part = data_loaded_part[columns_select]\n",
    "\n",
    "    print('Checking for nan across rows and deleting rows with only nan.')\n",
    "    \n",
    "    # create empty list to store NaN rows    \n",
    "    rows_del = []\n",
    "\n",
    "    # loop through rows and check if they only contain NaN, if so append index to list\n",
    "    for index, values in data_loaded_sub_part[data_loaded_sub_part.columns[5:]].iterrows():\n",
    "        \n",
    "        if values.isnull().all():\n",
    "            rows_del.append(index)\n",
    "\n",
    "    # remove rows that only contain NaN \n",
    "    data_loaded_sub_part = data_loaded_sub_part.drop(rows_del)      \n",
    "\n",
    "    # reset index\n",
    "    data_loaded_sub_part.reset_index(drop=True, inplace=True)\n",
    "\n",
    "    print('Reshaping the dataframe.')\n",
    "\n",
    "    # bring dataframe to long-format\n",
    "    data_loaded_sub_part_long = data_loaded_sub_part.melt(id_vars=data_loaded_sub_part.columns[:5], \n",
    "                                                          value_vars=['movie', 'snack', 'animal'],\n",
    "                                                          var_name='category', value_name='item').drop_duplicates().replace(to_replace='None', value=np.nan).dropna()\n",
    "    # exract ratings while removing rows with NaN    \n",
    "    ratings = list(data_loaded_sub_part['rating_movies.response'].dropna()) + \\\n",
    "              list(data_loaded_sub_part['rating_snacks.response'].dropna()) + \\\n",
    "              list(data_loaded_sub_part['rating_animals.response'].dropna())\n",
    "\n",
    "    # add ratings to long-format dataframe\n",
    "    data_loaded_sub_part_long['ratings'] = ratings\n",
    "    \n",
    "    print('Saving dataframe to %s_long_format.csv' %data_loaded_sub_part_long['participant'][0])\n",
    "\n",
    "    # save long-format dataframe\n",
    "    data_loaded_sub_part_long.to_csv('data_experiment/derivatives/preprocessing/%s_long_format.csv' %data_loaded_sub_part_long['participant'][0], index=False)\n",
    "    "
   ]
  },
  {
   "cell_type": "markdown",
   "metadata": {
    "slideshow": {
     "slide_type": "subslide"
    }
   },
   "source": [
    "Yes, the `loop` looks a bit frightening but it's really just containing all the necessary steps we explored and we could evaluate potential problems further via the following little `print` messages. "
   ]
  },
  {
   "cell_type": "markdown",
   "metadata": {
    "slideshow": {
     "slide_type": "fragment"
    }
   },
   "source": [
    "Let's check our `preprocessed data`:"
   ]
  },
  {
   "cell_type": "code",
   "execution_count": 54,
   "metadata": {},
   "outputs": [
    {
     "name": "stdout",
     "output_type": "stream",
     "text": [
      "Bruce_Wayne_long_format.csv\r\n",
      "Chiara Ferrandina_long_format.csv\r\n",
      "Heidi Klum_long_format.csv\r\n",
      "Nina _long_format.csv\r\n",
      "Smitty_Werben_Jagger_Man_Jensen#1_long_format.csv\r\n",
      "Sophie Oprée_long_format.csv\r\n",
      "Talha_long_format.csv\r\n",
      "bugs_bunny_long_format.csv\r\n",
      "daffy_duck_long_format.csv\r\n",
      "funny ID_long_format.csv\r\n",
      "participant_123_long_format.csv\r\n",
      "pauli4psychopy_long_format.csv\r\n",
      "porla_long_format.csv\r\n",
      "wile_coyote_long_format.csv\r\n",
      "yagurllea_long_format.csv\r\n"
     ]
    }
   ],
   "source": [
    "ls data_experiment/derivatives/preprocessing/"
   ]
  },
  {
   "cell_type": "markdown",
   "metadata": {
    "slideshow": {
     "slide_type": "subslide"
    }
   },
   "source": [
    "The next `step` of our analyzes would be to combine the `single participant dataframes` to one `group dataframe` that contains `data` from all `participants`. This will definitely come in handy and is more or less needed for the subsequent steps, including data `visualization` and `statistical analyses`. "
   ]
  },
  {
   "cell_type": "markdown",
   "metadata": {
    "slideshow": {
     "slide_type": "fragment"
    }
   },
   "source": [
    "When it comes to `combining dataframes`, `pandas` once more has a variety of options to perform such `operations`: [merge](), [concat](), [join]() and [compare](), each serving a distinct function. Here, we will use `concat` to `concatenate` or `stack` our `dataframes`. "
   ]
  },
  {
   "cell_type": "markdown",
   "metadata": {
    "slideshow": {
     "slide_type": "subslide"
    }
   },
   "source": [
    "For this to work, we need a `list` of loaded `dataframes`."
   ]
  },
  {
   "cell_type": "code",
   "execution_count": 55,
   "metadata": {},
   "outputs": [
    {
     "name": "stdout",
     "output_type": "stream",
     "text": [
      "Loading dataframe data_experiment/derivatives/preprocessing/Smitty_Werben_Jagger_Man_Jensen#1_long_format.csv\n",
      "Loading dataframe data_experiment/derivatives/preprocessing/bugs_bunny_long_format.csv\n",
      "Loading dataframe data_experiment/derivatives/preprocessing/pauli4psychopy_long_format.csv\n",
      "Loading dataframe data_experiment/derivatives/preprocessing/Heidi Klum_long_format.csv\n",
      "Loading dataframe data_experiment/derivatives/preprocessing/Sophie Oprée_long_format.csv\n",
      "Loading dataframe data_experiment/derivatives/preprocessing/daffy_duck_long_format.csv\n",
      "Loading dataframe data_experiment/derivatives/preprocessing/Nina _long_format.csv\n",
      "Loading dataframe data_experiment/derivatives/preprocessing/wile_coyote_long_format.csv\n",
      "Loading dataframe data_experiment/derivatives/preprocessing/funny ID_long_format.csv\n",
      "Loading dataframe data_experiment/derivatives/preprocessing/yagurllea_long_format.csv\n",
      "Loading dataframe data_experiment/derivatives/preprocessing/participant_123_long_format.csv\n",
      "Loading dataframe data_experiment/derivatives/preprocessing/porla_long_format.csv\n",
      "Loading dataframe data_experiment/derivatives/preprocessing/Chiara Ferrandina_long_format.csv\n",
      "Loading dataframe data_experiment/derivatives/preprocessing/Bruce_Wayne_long_format.csv\n",
      "Loading dataframe data_experiment/derivatives/preprocessing/Talha_long_format.csv\n",
      "The number of loaded dataframes matches the number of available dataframes: True\n"
     ]
    }
   ],
   "source": [
    "list_dataframes = glob('data_experiment/derivatives/preprocessing/*.csv')\n",
    "\n",
    "list_dataframes_loaded = []\n",
    "\n",
    "for dataframe in list_dataframes:\n",
    "    \n",
    "    print('Loading dataframe %s' %dataframe)\n",
    "    \n",
    "    df_part = pd.read_csv(dataframe)\n",
    "    \n",
    "    list_dataframes_loaded.append(df_part)\n",
    "\n",
    "print('The number of loaded dataframes matches the number of available dataframes: %s' \n",
    "      %(len(list_dataframes_loaded)==len(list_dataframes)))    "
   ]
  },
  {
   "cell_type": "markdown",
   "metadata": {
    "slideshow": {
     "slide_type": "subslide"
    }
   },
   "source": [
    "Now, we can use `concat` to combine the `list` of loaded `dataframes`. (NB: make sure the used `combination function` matches your use case and is specified correctly re the `axis`, etc.)"
   ]
  },
  {
   "cell_type": "code",
   "execution_count": 56,
   "metadata": {},
   "outputs": [],
   "source": [
    "dataframe_concat = pd.concat(list_dataframes_loaded)\n",
    "dataframe_concat.reset_index(drop=True, inplace=True)"
   ]
  },
  {
   "cell_type": "markdown",
   "metadata": {
    "slideshow": {
     "slide_type": "fragment"
    }
   },
   "source": [
    "Let's check what we have:"
   ]
  },
  {
   "cell_type": "code",
   "execution_count": 57,
   "metadata": {},
   "outputs": [
    {
     "name": "stdout",
     "output_type": "stream",
     "text": [
      "The concatenated dataframe has the following dimensions: (570, 8)\n",
      "We have the following columns: ['participant', 'session', 'age', 'left-handed', 'like this course', 'category', 'item', 'ratings']\n",
      "We have the following participants: ['Smitty_Werben_Jagger_Man_Jensen#1' 'bugs_bunny' 'pauli4psychopy'\n",
      " 'Heidi Klum' 'Sophie Oprée' 'daffy_duck' 'Nina ' 'wile_coyote' 'funny ID'\n",
      " 'yagurllea' 'participant_123' 'porla' 'Chiara Ferrandina' 'Bruce_Wayne'\n",
      " 'Talha']\n"
     ]
    }
   ],
   "source": [
    "print('The concatenated dataframe has the following dimensions: %s' %str(dataframe_concat.shape))\n",
    "print('We have the following columns: %s' %list(dataframe_concat.columns))\n",
    "print('We have the following participants: %s' %dataframe_concat['participant'].unique())"
   ]
  },
  {
   "cell_type": "markdown",
   "metadata": {
    "slideshow": {
     "slide_type": "subslide"
    }
   },
   "source": [
    "We can now make use of the `.describe()` `function` to get some first insights at the `group level`. "
   ]
  },
  {
   "cell_type": "code",
   "execution_count": 58,
   "metadata": {},
   "outputs": [
    {
     "data": {
      "text/html": [
       "<div>\n",
       "<style scoped>\n",
       "    .dataframe tbody tr th:only-of-type {\n",
       "        vertical-align: middle;\n",
       "    }\n",
       "\n",
       "    .dataframe tbody tr th {\n",
       "        vertical-align: top;\n",
       "    }\n",
       "\n",
       "    .dataframe thead th {\n",
       "        text-align: right;\n",
       "    }\n",
       "</style>\n",
       "<table border=\"1\" class=\"dataframe\">\n",
       "  <thead>\n",
       "    <tr style=\"text-align: right;\">\n",
       "      <th></th>\n",
       "      <th>session</th>\n",
       "      <th>age</th>\n",
       "      <th>ratings</th>\n",
       "    </tr>\n",
       "  </thead>\n",
       "  <tbody>\n",
       "    <tr>\n",
       "      <th>count</th>\n",
       "      <td>570.0</td>\n",
       "      <td>570.000000</td>\n",
       "      <td>570.000000</td>\n",
       "    </tr>\n",
       "    <tr>\n",
       "      <th>mean</th>\n",
       "      <td>1.0</td>\n",
       "      <td>25.866667</td>\n",
       "      <td>5.080737</td>\n",
       "    </tr>\n",
       "    <tr>\n",
       "      <th>std</th>\n",
       "      <td>0.0</td>\n",
       "      <td>7.326417</td>\n",
       "      <td>1.675161</td>\n",
       "    </tr>\n",
       "    <tr>\n",
       "      <th>min</th>\n",
       "      <td>1.0</td>\n",
       "      <td>21.000000</td>\n",
       "      <td>1.000000</td>\n",
       "    </tr>\n",
       "    <tr>\n",
       "      <th>25%</th>\n",
       "      <td>1.0</td>\n",
       "      <td>22.000000</td>\n",
       "      <td>4.000000</td>\n",
       "    </tr>\n",
       "    <tr>\n",
       "      <th>50%</th>\n",
       "      <td>1.0</td>\n",
       "      <td>22.000000</td>\n",
       "      <td>5.120000</td>\n",
       "    </tr>\n",
       "    <tr>\n",
       "      <th>75%</th>\n",
       "      <td>1.0</td>\n",
       "      <td>25.000000</td>\n",
       "      <td>6.695000</td>\n",
       "    </tr>\n",
       "    <tr>\n",
       "      <th>max</th>\n",
       "      <td>1.0</td>\n",
       "      <td>43.000000</td>\n",
       "      <td>7.000000</td>\n",
       "    </tr>\n",
       "  </tbody>\n",
       "</table>\n",
       "</div>"
      ],
      "text/plain": [
       "       session         age     ratings\n",
       "count    570.0  570.000000  570.000000\n",
       "mean       1.0   25.866667    5.080737\n",
       "std        0.0    7.326417    1.675161\n",
       "min        1.0   21.000000    1.000000\n",
       "25%        1.0   22.000000    4.000000\n",
       "50%        1.0   22.000000    5.120000\n",
       "75%        1.0   25.000000    6.695000\n",
       "max        1.0   43.000000    7.000000"
      ]
     },
     "execution_count": 58,
     "metadata": {},
     "output_type": "execute_result"
    }
   ],
   "source": [
    "dataframe_concat.describe()"
   ]
  },
  {
   "cell_type": "markdown",
   "metadata": {
    "slideshow": {
     "slide_type": "subslide"
    }
   },
   "source": [
    "However, given the `shape` and `structure` of our `dataframe` we actually might want to consider being more precise and splitting aspects, as we have e.g. multiple entries for each `participants` `age` and can't distinguish `ratings` based on `categories`. "
   ]
  },
  {
   "cell_type": "markdown",
   "metadata": {
    "slideshow": {
     "slide_type": "fragment"
    }
   },
   "source": [
    "Regarding these things, the `.groupby()` `function` can be very helpful as it allows us to `group` and `separate` our `dataframe` based on certain aspects, e.g. `categories`. It will return a form of `list` with `subdataframes` given the specified `grouping aspect`, e.g. `category` and thus `movies`, `snacks` and `animals`."
   ]
  },
  {
   "cell_type": "code",
   "execution_count": 59,
   "metadata": {
    "slideshow": {
     "slide_type": "subslide"
    }
   },
   "outputs": [
    {
     "name": "stdout",
     "output_type": "stream",
     "text": [
      "Showing information for subdataframe: animal\n",
      "count    90.000000\n",
      "mean      5.701111\n",
      "std       1.187184\n",
      "min       2.400000\n",
      "25%       4.985000\n",
      "50%       5.940000\n",
      "75%       6.980000\n",
      "max       7.000000\n",
      "Name: ratings, dtype: float64\n",
      "Showing information for subdataframe: movie\n",
      "count    255.000000\n",
      "mean       4.806118\n",
      "std        1.795347\n",
      "min        1.000000\n",
      "25%        4.000000\n",
      "50%        5.000000\n",
      "75%        6.260000\n",
      "max        7.000000\n",
      "Name: ratings, dtype: float64\n",
      "Showing information for subdataframe: snack\n",
      "count    225.000000\n",
      "mean       5.143822\n",
      "std        1.633625\n",
      "min        1.000000\n",
      "25%        4.000000\n",
      "50%        5.680000\n",
      "75%        6.460000\n",
      "max        7.000000\n",
      "Name: ratings, dtype: float64\n"
     ]
    }
   ],
   "source": [
    "for index, df in dataframe_concat.groupby('category'):\n",
    "    print('Showing information for subdataframe: %s' %index)\n",
    "    print(df['ratings'].describe())"
   ]
  },
  {
   "cell_type": "markdown",
   "metadata": {
    "slideshow": {
     "slide_type": "subslide"
    }
   },
   "source": [
    "Comparably, we could use `indexing`/`selecting` again to work with respective `subdataframes`:"
   ]
  },
  {
   "cell_type": "code",
   "execution_count": 60,
   "metadata": {},
   "outputs": [
    {
     "data": {
      "text/html": [
       "<div>\n",
       "<style scoped>\n",
       "    .dataframe tbody tr th:only-of-type {\n",
       "        vertical-align: middle;\n",
       "    }\n",
       "\n",
       "    .dataframe tbody tr th {\n",
       "        vertical-align: top;\n",
       "    }\n",
       "\n",
       "    .dataframe thead th {\n",
       "        text-align: right;\n",
       "    }\n",
       "</style>\n",
       "<table border=\"1\" class=\"dataframe\">\n",
       "  <thead>\n",
       "    <tr style=\"text-align: right;\">\n",
       "      <th></th>\n",
       "      <th>participant</th>\n",
       "      <th>session</th>\n",
       "      <th>age</th>\n",
       "      <th>left-handed</th>\n",
       "      <th>like this course</th>\n",
       "      <th>category</th>\n",
       "      <th>item</th>\n",
       "      <th>ratings</th>\n",
       "    </tr>\n",
       "  </thead>\n",
       "  <tbody>\n",
       "    <tr>\n",
       "      <th>0</th>\n",
       "      <td>Smitty_Werben_Jagger_Man_Jensen#1</td>\n",
       "      <td>1.0</td>\n",
       "      <td>42.0</td>\n",
       "      <td>False</td>\n",
       "      <td>No</td>\n",
       "      <td>movie</td>\n",
       "      <td>The Intouchables</td>\n",
       "      <td>1.00</td>\n",
       "    </tr>\n",
       "    <tr>\n",
       "      <th>1</th>\n",
       "      <td>Smitty_Werben_Jagger_Man_Jensen#1</td>\n",
       "      <td>1.0</td>\n",
       "      <td>42.0</td>\n",
       "      <td>False</td>\n",
       "      <td>No</td>\n",
       "      <td>movie</td>\n",
       "      <td>James Bond</td>\n",
       "      <td>1.00</td>\n",
       "    </tr>\n",
       "    <tr>\n",
       "      <th>2</th>\n",
       "      <td>Smitty_Werben_Jagger_Man_Jensen#1</td>\n",
       "      <td>1.0</td>\n",
       "      <td>42.0</td>\n",
       "      <td>False</td>\n",
       "      <td>No</td>\n",
       "      <td>movie</td>\n",
       "      <td>Forrest Gump</td>\n",
       "      <td>1.00</td>\n",
       "    </tr>\n",
       "    <tr>\n",
       "      <th>3</th>\n",
       "      <td>Smitty_Werben_Jagger_Man_Jensen#1</td>\n",
       "      <td>1.0</td>\n",
       "      <td>42.0</td>\n",
       "      <td>False</td>\n",
       "      <td>No</td>\n",
       "      <td>movie</td>\n",
       "      <td>Retired Extremely Dangerous</td>\n",
       "      <td>1.00</td>\n",
       "    </tr>\n",
       "    <tr>\n",
       "      <th>4</th>\n",
       "      <td>Smitty_Werben_Jagger_Man_Jensen#1</td>\n",
       "      <td>1.0</td>\n",
       "      <td>42.0</td>\n",
       "      <td>False</td>\n",
       "      <td>No</td>\n",
       "      <td>movie</td>\n",
       "      <td>The Imitation Game</td>\n",
       "      <td>1.00</td>\n",
       "    </tr>\n",
       "    <tr>\n",
       "      <th>...</th>\n",
       "      <td>...</td>\n",
       "      <td>...</td>\n",
       "      <td>...</td>\n",
       "      <td>...</td>\n",
       "      <td>...</td>\n",
       "      <td>...</td>\n",
       "      <td>...</td>\n",
       "      <td>...</td>\n",
       "    </tr>\n",
       "    <tr>\n",
       "      <th>544</th>\n",
       "      <td>Talha</td>\n",
       "      <td>1.0</td>\n",
       "      <td>21.0</td>\n",
       "      <td>True</td>\n",
       "      <td>Yes</td>\n",
       "      <td>movie</td>\n",
       "      <td>Lord of the Rings - The Two Towers</td>\n",
       "      <td>6.58</td>\n",
       "    </tr>\n",
       "    <tr>\n",
       "      <th>545</th>\n",
       "      <td>Talha</td>\n",
       "      <td>1.0</td>\n",
       "      <td>21.0</td>\n",
       "      <td>True</td>\n",
       "      <td>Yes</td>\n",
       "      <td>movie</td>\n",
       "      <td>Fight Club</td>\n",
       "      <td>4.98</td>\n",
       "    </tr>\n",
       "    <tr>\n",
       "      <th>546</th>\n",
       "      <td>Talha</td>\n",
       "      <td>1.0</td>\n",
       "      <td>21.0</td>\n",
       "      <td>True</td>\n",
       "      <td>Yes</td>\n",
       "      <td>movie</td>\n",
       "      <td>Harry Potter</td>\n",
       "      <td>2.04</td>\n",
       "    </tr>\n",
       "    <tr>\n",
       "      <th>547</th>\n",
       "      <td>Talha</td>\n",
       "      <td>1.0</td>\n",
       "      <td>21.0</td>\n",
       "      <td>True</td>\n",
       "      <td>Yes</td>\n",
       "      <td>movie</td>\n",
       "      <td>Harry Potter and the MatLab-Prince</td>\n",
       "      <td>1.04</td>\n",
       "    </tr>\n",
       "    <tr>\n",
       "      <th>548</th>\n",
       "      <td>Talha</td>\n",
       "      <td>1.0</td>\n",
       "      <td>21.0</td>\n",
       "      <td>True</td>\n",
       "      <td>Yes</td>\n",
       "      <td>movie</td>\n",
       "      <td>Shindlers List</td>\n",
       "      <td>6.98</td>\n",
       "    </tr>\n",
       "  </tbody>\n",
       "</table>\n",
       "<p>255 rows × 8 columns</p>\n",
       "</div>"
      ],
      "text/plain": [
       "                           participant  session   age  left-handed  \\\n",
       "0    Smitty_Werben_Jagger_Man_Jensen#1      1.0  42.0        False   \n",
       "1    Smitty_Werben_Jagger_Man_Jensen#1      1.0  42.0        False   \n",
       "2    Smitty_Werben_Jagger_Man_Jensen#1      1.0  42.0        False   \n",
       "3    Smitty_Werben_Jagger_Man_Jensen#1      1.0  42.0        False   \n",
       "4    Smitty_Werben_Jagger_Man_Jensen#1      1.0  42.0        False   \n",
       "..                                 ...      ...   ...          ...   \n",
       "544                              Talha      1.0  21.0         True   \n",
       "545                              Talha      1.0  21.0         True   \n",
       "546                              Talha      1.0  21.0         True   \n",
       "547                              Talha      1.0  21.0         True   \n",
       "548                              Talha      1.0  21.0         True   \n",
       "\n",
       "    like this course category                                item  ratings  \n",
       "0                 No    movie                    The Intouchables     1.00  \n",
       "1                 No    movie                          James Bond     1.00  \n",
       "2                 No    movie                        Forrest Gump     1.00  \n",
       "3                 No    movie         Retired Extremely Dangerous     1.00  \n",
       "4                 No    movie                  The Imitation Game     1.00  \n",
       "..               ...      ...                                 ...      ...  \n",
       "544              Yes    movie  Lord of the Rings - The Two Towers     6.58  \n",
       "545              Yes    movie                          Fight Club     4.98  \n",
       "546              Yes    movie                        Harry Potter     2.04  \n",
       "547              Yes    movie  Harry Potter and the MatLab-Prince     1.04  \n",
       "548              Yes    movie                      Shindlers List     6.98  \n",
       "\n",
       "[255 rows x 8 columns]"
      ]
     },
     "execution_count": 60,
     "metadata": {},
     "output_type": "execute_result"
    }
   ],
   "source": [
    "dataframe_concat[dataframe_concat['category']=='movie']"
   ]
  },
  {
   "cell_type": "markdown",
   "metadata": {
    "slideshow": {
     "slide_type": "subslide"
    }
   },
   "source": [
    "With that, we could start `visualizing` and analyzing our `data` via `inferential statistics`. Regarding the former, `pandas` even has some built-in `functions` for `basic plotting`. Here, some spoilers: a `histogram` for `movie ratings`\n",
    "\n",
    "<center><img src=\"https://pandas.pydata.org/docs/_images/04_plot_overview.svg\" width=\"600px\" style=\"margin-bottom: 10px;\"></center>"
   ]
  },
  {
   "cell_type": "code",
   "execution_count": 61,
   "metadata": {},
   "outputs": [
    {
     "data": {
      "text/plain": [
       "<AxesSubplot:ylabel='Frequency'>"
      ]
     },
     "execution_count": 61,
     "metadata": {},
     "output_type": "execute_result"
    },
    {
     "data": {
      "image/png": "[encoded data removed]",
      "text/plain": [
       "<Figure size 432x288 with 1 Axes>"
      ]
     },
     "metadata": {
      "needs_background": "light"
     },
     "output_type": "display_data"
    }
   ],
   "source": [
    "dataframe_concat[dataframe_concat['category']=='movie']['ratings'].plot.hist()"
   ]
  },
  {
   "cell_type": "markdown",
   "metadata": {
    "slideshow": {
     "slide_type": "subslide"
    }
   },
   "source": [
    "and a `boxplot` for ratings across `categories`:"
   ]
  },
  {
   "cell_type": "code",
   "execution_count": 62,
   "metadata": {},
   "outputs": [
    {
     "data": {
      "text/plain": [
       "<AxesSubplot:title={'center':'ratings'}, xlabel='[category]'>"
      ]
     },
     "execution_count": 62,
     "metadata": {},
     "output_type": "execute_result"
    },
    {
     "data": {
      "image/png": "[encoded data removed]",
      "text/plain": [
       "<Figure size 432x288 with 1 Axes>"
      ]
     },
     "metadata": {
      "needs_background": "light"
     },
     "output_type": "display_data"
    }
   ],
   "source": [
    "dataframe_concat[['category', 'ratings']].boxplot(by='category')"
   ]
  },
  {
   "cell_type": "markdown",
   "metadata": {
    "slideshow": {
     "slide_type": "subslide"
    }
   },
   "source": [
    "Sorry, but that's enough spoilers...way more on `data visualization` next week! For now, we should definitely save the `concatenated dataframe` as we need it for everything that follows!"
   ]
  },
  {
   "cell_type": "code",
   "execution_count": 63,
   "metadata": {},
   "outputs": [],
   "source": [
    "dataframe_concat.to_csv('data_experiment/derivatives/preprocessing/dataframe_group.csv', index=False)"
   ]
  },
  {
   "cell_type": "markdown",
   "metadata": {
    "slideshow": {
     "slide_type": "slide"
    }
   },
   "source": [
    "## Outro/Q&A\n",
    "\n",
    "What we went through in this session was intended as a super small showcase of working with certain `data formats` and `files` in `python`, specifically using `pandas` which we only just started to explore and has way more functionality. \n",
    "\n",
    "Sure: this was a very specific use case and `data` but the steps and underlying principles are transferable to the majority of `data handling/wrangling` problems/tasks you might encounter. As always: make sure to check the fantastic docs of the python module you're using (https://pandas.pydata.org/), as well as all the fantastic tutorials out there. "
   ]
  },
  {
   "cell_type": "markdown",
   "metadata": {
    "solution2": "hidden"
   },
   "source": [
    "We can explore its `functions` via `pd.` and then using `tab completion`."
   ]
  },
  {
   "cell_type": "code",
   "execution_count": null,
   "metadata": {
    "solution2": "hidden"
   },
   "outputs": [],
   "source": [
    "pd."
   ]
  },
  {
   "cell_type": "markdown",
   "metadata": {
    "slideshow": {
     "slide_type": "slide"
    }
   },
   "source": [
    "#### The core Python \"data science\" stack\n",
    "* The Python ecosystem contains tens of thousands of packages\n",
    "* Several are very widely used in data science applications:\n",
    "    * [Jupyter](http://jupyter.org): interactive notebooks\n",
    "    * [Numpy](http://numpy.org): numerical computing in Python\n",
    "    * [pandas](http://pandas.pydata.org/): data structures for Python\n",
    "    * [Scipy](http://scipy.org): scientific Python tools\n",
    "    * [Matplotlib](http://matplotlib.org): plotting in Python\n",
    "    * [scikit-learn](http://scikit-learn.org): machine learning in Python\n",
    "* We'll cover the first three very briefly here\n",
    "    * Other tutorials will go into greater detail on most of the others"
   ]
  },
  {
   "cell_type": "markdown",
   "metadata": {
    "slideshow": {
     "slide_type": "subslide"
    }
   },
   "source": [
    "#### The core \"Python for psychology\" stack\n",
    "* The `Python ecosystem` contains tens of thousands of `packages`\n",
    "* Several are very widely used in psychology research:\n",
    "    * [Jupyter](http://jupyter.org): interactive notebooks\n",
    "    * [Numpy](http://numpy.org): numerical computing in `Python`\n",
    "    * [pandas](http://pandas.pydata.org/): data structures for `Python`\n",
    "    * [Scipy](http://scipy.org): scientific `Python` tools\n",
    "    * [Matplotlib](http://matplotlib.org): plotting in `Python`\n",
    "    * [seaborn](https://seaborn.pydata.org/index.html): plotting in `Python`\n",
    "    * [scikit-learn](http://scikit-learn.org): machine learning in `Python`\n",
    "    * [statsmodels](https://www.statsmodels.org/stable/index.html): statistical analyses in `Python`\n",
    "    * [pingouin](https://pingouin-stats.org/): statistical analyses in `Python`\n",
    "    * [psychopy](https://www.psychopy.org/): running experiments in `Python`\n",
    "    * [nilearn](https://nilearn.github.io/stable/index.html): brain imaging analyses in `Python``\n",
    "    * [mne](https://mne.tools/stable/index.html): electrophysiology analyses in `Python` \n",
    "* Execept `scikit-learn`, `nilearn` and `mne`, we'll cover all very briefly in this course\n",
    "    * there are many free tutorials online that will go into greater detail and also cover the other `packages`"
   ]
  },
  {
   "cell_type": "markdown",
   "metadata": {
    "slideshow": {
     "slide_type": "slide"
    }
   },
   "source": [
    "## Homework assignment #8\n",
    "\n",
    "Your eight homework assignment will entail working through a few tasks covering the contents discussed in this session within of a `jupyter notebook`. You can download it [here](https://www.dropbox.com/s/tvnatrn1lxnw0gv/PFP_assignment_8_intro_analyzes.ipynb?dl=1). In order to open it, put the `homework assignment notebook` within the folder you stored the `course materials`, start a `jupyter notebook` as during the sessions, navigate to the `homework assignment notebook`, open it and have fun!  \n",
    "\n",
    "**Deadline: 02/02/2022, 11:59 PM EST**"
   ]
  }
 ],
 "metadata": {
  "anaconda-cloud": {},
  "celltoolbar": "Slideshow",
  "kernelspec": {
   "display_name": "Python [conda env:pfp_2021] *",
   "language": "python",
   "name": "conda-env-pfp_2021-py"
  },
  "language_info": {
   "codemirror_mode": {
    "name": "ipython",
    "version": 3
   },
   "file_extension": ".py",
   "mimetype": "text/x-python",
   "name": "python",
   "nbconvert_exporter": "python",
   "pygments_lexer": "ipython3",
   "version": "3.9.7"
  }
 },
 "nbformat": 4,
 "nbformat_minor": 2
}
